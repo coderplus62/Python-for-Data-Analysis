{
 "cells": [
  {
   "cell_type": "markdown",
   "metadata": {},
   "source": [
    "<img src='aggreagate_stat.jpg' style='width:600px;length:500px'>"
   ]
  },
  {
   "cell_type": "code",
   "execution_count": 1,
   "metadata": {},
   "outputs": [],
   "source": [
    "import pandas as pd\n",
    "air_quality = pd.read_pickle('air_quality.pkl')"
   ]
  },
  {
   "cell_type": "code",
   "execution_count": 2,
   "metadata": {},
   "outputs": [
    {
     "name": "stdout",
     "output_type": "stream",
     "text": [
      "<class 'pandas.core.frame.DataFrame'>\n",
      "RangeIndex: 95685 entries, 0 to 95684\n",
      "Data columns (total 27 columns):\n",
      " #   Column                 Non-Null Count  Dtype          \n",
      "---  ------                 --------------  -----          \n",
      " 0   date_time              95685 non-null  datetime64[ns] \n",
      " 1   PM2.5                  95685 non-null  float64        \n",
      " 2   PM10                   95685 non-null  float64        \n",
      " 3   SO2                    95685 non-null  float64        \n",
      " 4   NO2                    95685 non-null  float64        \n",
      " 5   CO                     95685 non-null  float64        \n",
      " 6   O3                     95685 non-null  float64        \n",
      " 7   TEMP                   95685 non-null  float64        \n",
      " 8   PRES                   95685 non-null  float64        \n",
      " 9   DEWP                   95685 non-null  float64        \n",
      " 10  RAIN                   95685 non-null  float64        \n",
      " 11  wd                     95685 non-null  object         \n",
      " 12  WSPM                   95685 non-null  float64        \n",
      " 13  station                95685 non-null  object         \n",
      " 14  year                   95685 non-null  int64          \n",
      " 15  month                  95685 non-null  int64          \n",
      " 16  day                    95685 non-null  int64          \n",
      " 17  hour                   95685 non-null  int64          \n",
      " 18  quarter                95685 non-null  int64          \n",
      " 19  day_of_week_num        95685 non-null  int64          \n",
      " 20  day_of_week_name       95685 non-null  object         \n",
      " 21  time_until_2022        95685 non-null  timedelta64[ns]\n",
      " 22  time_until_2022_days   95685 non-null  float64        \n",
      " 23  time_until_2022_weeks  95685 non-null  float64        \n",
      " 24  prior_2016_ind         95685 non-null  bool           \n",
      " 25  PM2.5_category         95685 non-null  category       \n",
      " 26  TEMP_Category          95685 non-null  category       \n",
      "dtypes: bool(1), category(2), datetime64[ns](1), float64(13), int64(6), object(3), timedelta64[ns](1)\n",
      "memory usage: 17.8+ MB\n"
     ]
    }
   ],
   "source": [
    "air_quality.info()"
   ]
  },
  {
   "cell_type": "code",
   "execution_count": 4,
   "metadata": {},
   "outputs": [
    {
     "data": {
      "text/plain": [
       "95685"
      ]
     },
     "execution_count": 4,
     "metadata": {},
     "output_type": "execute_result"
    }
   ],
   "source": [
    "air_quality['TEMP'].count()"
   ]
  },
  {
   "cell_type": "code",
   "execution_count": 5,
   "metadata": {},
   "outputs": [
    {
     "data": {
      "text/plain": [
       "13.72944615261219"
      ]
     },
     "execution_count": 5,
     "metadata": {},
     "output_type": "execute_result"
    }
   ],
   "source": [
    "air_quality['TEMP'].mean()"
   ]
  },
  {
   "cell_type": "code",
   "execution_count": 6,
   "metadata": {},
   "outputs": [
    {
     "data": {
      "text/plain": [
       "11.320713457662487"
      ]
     },
     "execution_count": 6,
     "metadata": {},
     "output_type": "execute_result"
    }
   ],
   "source": [
    "air_quality['TEMP'].std()"
   ]
  },
  {
   "cell_type": "code",
   "execution_count": 7,
   "metadata": {},
   "outputs": [
    {
     "data": {
      "text/plain": [
       "-16.8"
      ]
     },
     "execution_count": 7,
     "metadata": {},
     "output_type": "execute_result"
    }
   ],
   "source": [
    "air_quality['TEMP'].min()"
   ]
  },
  {
   "cell_type": "code",
   "execution_count": 8,
   "metadata": {},
   "outputs": [
    {
     "data": {
      "text/plain": [
       "41.6"
      ]
     },
     "execution_count": 8,
     "metadata": {},
     "output_type": "execute_result"
    }
   ],
   "source": [
    "air_quality['TEMP'].max()"
   ]
  },
  {
   "cell_type": "code",
   "execution_count": 9,
   "metadata": {},
   "outputs": [
    {
     "data": {
      "text/plain": [
       "3.5"
      ]
     },
     "execution_count": 9,
     "metadata": {},
     "output_type": "execute_result"
    }
   ],
   "source": [
    "air_quality['TEMP'].quantile(0.25)"
   ]
  },
  {
   "cell_type": "code",
   "execution_count": 10,
   "metadata": {},
   "outputs": [
    {
     "data": {
      "text/plain": [
       "14.6"
      ]
     },
     "execution_count": 10,
     "metadata": {},
     "output_type": "execute_result"
    }
   ],
   "source": [
    "air_quality['TEMP'].median()"
   ]
  },
  {
   "cell_type": "code",
   "execution_count": 11,
   "metadata": {},
   "outputs": [
    {
     "data": {
      "text/plain": [
       "count    95685.000000\n",
       "mean        13.729446\n",
       "std         11.320713\n",
       "min        -16.800000\n",
       "25%          3.500000\n",
       "50%         14.600000\n",
       "75%         23.400000\n",
       "max         41.600000\n",
       "Name: TEMP, dtype: float64"
      ]
     },
     "execution_count": 11,
     "metadata": {},
     "output_type": "execute_result"
    }
   ],
   "source": [
    "air_quality['TEMP'].describe()"
   ]
  },
  {
   "cell_type": "code",
   "execution_count": 13,
   "metadata": {},
   "outputs": [
    {
     "data": {
      "text/plain": [
       "6171.299999999999"
      ]
     },
     "execution_count": 13,
     "metadata": {},
     "output_type": "execute_result"
    }
   ],
   "source": [
    "air_quality['RAIN'].sum()"
   ]
  },
  {
   "cell_type": "code",
   "execution_count": 14,
   "metadata": {},
   "outputs": [
    {
     "data": {
      "text/plain": [
       "0    Unhealthy\n",
       "Name: PM2.5_category, dtype: category\n",
       "Categories (6, object): ['Good' < 'Moderate' < 'Unhealthy for sensitive groups' < 'Unhealthy' < 'Very Unhealthy' < 'Hazardous']"
      ]
     },
     "execution_count": 14,
     "metadata": {},
     "output_type": "execute_result"
    }
   ],
   "source": [
    "air_quality['PM2.5_category'].mode()"
   ]
  },
  {
   "cell_type": "code",
   "execution_count": 15,
   "metadata": {},
   "outputs": [
    {
     "data": {
      "text/plain": [
       "6"
      ]
     },
     "execution_count": 15,
     "metadata": {},
     "output_type": "execute_result"
    }
   ],
   "source": [
    "air_quality['PM2.5_category'].nunique()"
   ]
  },
  {
   "cell_type": "code",
   "execution_count": 16,
   "metadata": {},
   "outputs": [
    {
     "data": {
      "text/plain": [
       "count         95685\n",
       "unique            6\n",
       "top       Unhealthy\n",
       "freq          34257\n",
       "Name: PM2.5_category, dtype: object"
      ]
     },
     "execution_count": 16,
     "metadata": {},
     "output_type": "execute_result"
    }
   ],
   "source": [
    "air_quality['PM2.5_category'].describe()"
   ]
  },
  {
   "cell_type": "code",
   "execution_count": 17,
   "metadata": {},
   "outputs": [
    {
     "data": {
      "text/plain": [
       "date_time                95685\n",
       "PM2.5                    95685\n",
       "PM10                     95685\n",
       "SO2                      95685\n",
       "NO2                      95685\n",
       "CO                       95685\n",
       "O3                       95685\n",
       "TEMP                     95685\n",
       "PRES                     95685\n",
       "DEWP                     95685\n",
       "RAIN                     95685\n",
       "wd                       95685\n",
       "WSPM                     95685\n",
       "station                  95685\n",
       "year                     95685\n",
       "month                    95685\n",
       "day                      95685\n",
       "hour                     95685\n",
       "quarter                  95685\n",
       "day_of_week_num          95685\n",
       "day_of_week_name         95685\n",
       "time_until_2022          95685\n",
       "time_until_2022_days     95685\n",
       "time_until_2022_weeks    95685\n",
       "prior_2016_ind           95685\n",
       "PM2.5_category           95685\n",
       "TEMP_Category            95685\n",
       "dtype: int64"
      ]
     },
     "execution_count": 17,
     "metadata": {},
     "output_type": "execute_result"
    }
   ],
   "source": [
    "air_quality.count()"
   ]
  },
  {
   "cell_type": "code",
   "execution_count": 19,
   "metadata": {},
   "outputs": [
    {
     "data": {
      "text/plain": [
       "PM2.5                      83.477884\n",
       "PM10                      111.899959\n",
       "SO2                        15.369771\n",
       "NO2                        54.178310\n",
       "CO                       1313.024142\n",
       "O3                         56.786295\n",
       "TEMP                       13.729446\n",
       "PRES                     1011.397848\n",
       "DEWP                        2.473027\n",
       "RAIN                        0.064496\n",
       "WSPM                        1.692044\n",
       "year                     2014.737106\n",
       "month                       6.503841\n",
       "day                        15.648336\n",
       "hour                       11.519862\n",
       "quarter                     2.505732\n",
       "day_of_week_num             3.021707\n",
       "time_until_2022_days     2470.962593\n",
       "time_until_2022_weeks     352.994656\n",
       "prior_2016_ind              0.693369\n",
       "dtype: float64"
      ]
     },
     "execution_count": 19,
     "metadata": {},
     "output_type": "execute_result"
    }
   ],
   "source": [
    "air_quality.mean(numeric_only=True)"
   ]
  },
  {
   "cell_type": "code",
   "execution_count": 21,
   "metadata": {},
   "outputs": [
    {
     "data": {
      "text/plain": [
       "PM2.5    83.477884\n",
       "TEMP     13.729446\n",
       "dtype: float64"
      ]
     },
     "execution_count": 21,
     "metadata": {},
     "output_type": "execute_result"
    }
   ],
   "source": [
    "air_quality[['PM2.5','TEMP']].mean()"
   ]
  },
  {
   "cell_type": "code",
   "execution_count": 23,
   "metadata": {},
   "outputs": [
    {
     "data": {
      "text/html": [
       "<div>\n",
       "<style scoped>\n",
       "    .dataframe tbody tr th:only-of-type {\n",
       "        vertical-align: middle;\n",
       "    }\n",
       "\n",
       "    .dataframe tbody tr th {\n",
       "        vertical-align: top;\n",
       "    }\n",
       "\n",
       "    .dataframe thead th {\n",
       "        text-align: right;\n",
       "    }\n",
       "</style>\n",
       "<table border=\"1\" class=\"dataframe\">\n",
       "  <thead>\n",
       "    <tr style=\"text-align: right;\">\n",
       "      <th></th>\n",
       "      <th>count</th>\n",
       "      <th>mean</th>\n",
       "      <th>std</th>\n",
       "      <th>min</th>\n",
       "      <th>25%</th>\n",
       "      <th>50%</th>\n",
       "      <th>75%</th>\n",
       "      <th>max</th>\n",
       "    </tr>\n",
       "  </thead>\n",
       "  <tbody>\n",
       "    <tr>\n",
       "      <th>PM2.5</th>\n",
       "      <td>95685.0</td>\n",
       "      <td>83.477884</td>\n",
       "      <td>82.678134</td>\n",
       "      <td>2.0</td>\n",
       "      <td>23.0</td>\n",
       "      <td>59.0</td>\n",
       "      <td>116.0</td>\n",
       "      <td>821.0</td>\n",
       "    </tr>\n",
       "    <tr>\n",
       "      <th>TEMP</th>\n",
       "      <td>95685.0</td>\n",
       "      <td>13.729446</td>\n",
       "      <td>11.320713</td>\n",
       "      <td>-16.8</td>\n",
       "      <td>3.5</td>\n",
       "      <td>14.6</td>\n",
       "      <td>23.4</td>\n",
       "      <td>41.6</td>\n",
       "    </tr>\n",
       "  </tbody>\n",
       "</table>\n",
       "</div>"
      ],
      "text/plain": [
       "         count       mean        std   min   25%   50%    75%    max\n",
       "PM2.5  95685.0  83.477884  82.678134   2.0  23.0  59.0  116.0  821.0\n",
       "TEMP   95685.0  13.729446  11.320713 -16.8   3.5  14.6   23.4   41.6"
      ]
     },
     "execution_count": 23,
     "metadata": {},
     "output_type": "execute_result"
    }
   ],
   "source": [
    "air_quality[['PM2.5','TEMP']].describe().T"
   ]
  },
  {
   "cell_type": "code",
   "execution_count": 24,
   "metadata": {},
   "outputs": [
    {
     "data": {
      "text/html": [
       "<div>\n",
       "<style scoped>\n",
       "    .dataframe tbody tr th:only-of-type {\n",
       "        vertical-align: middle;\n",
       "    }\n",
       "\n",
       "    .dataframe tbody tr th {\n",
       "        vertical-align: top;\n",
       "    }\n",
       "\n",
       "    .dataframe thead th {\n",
       "        text-align: right;\n",
       "    }\n",
       "</style>\n",
       "<table border=\"1\" class=\"dataframe\">\n",
       "  <thead>\n",
       "    <tr style=\"text-align: right;\">\n",
       "      <th></th>\n",
       "      <th>count</th>\n",
       "      <th>mean</th>\n",
       "      <th>std</th>\n",
       "      <th>min</th>\n",
       "      <th>25%</th>\n",
       "      <th>50%</th>\n",
       "      <th>75%</th>\n",
       "      <th>max</th>\n",
       "    </tr>\n",
       "  </thead>\n",
       "  <tbody>\n",
       "    <tr>\n",
       "      <th>PM2.5</th>\n",
       "      <td>95685.0</td>\n",
       "      <td>83.477884</td>\n",
       "      <td>82.678134</td>\n",
       "      <td>2.0</td>\n",
       "      <td>23.0</td>\n",
       "      <td>59.0</td>\n",
       "      <td>116.0</td>\n",
       "      <td>821.0</td>\n",
       "    </tr>\n",
       "    <tr>\n",
       "      <th>PM10</th>\n",
       "      <td>95685.0</td>\n",
       "      <td>111.899959</td>\n",
       "      <td>94.775897</td>\n",
       "      <td>2.0</td>\n",
       "      <td>41.0</td>\n",
       "      <td>90.0</td>\n",
       "      <td>154.0</td>\n",
       "      <td>994.0</td>\n",
       "    </tr>\n",
       "    <tr>\n",
       "      <th>SO2</th>\n",
       "      <td>95685.0</td>\n",
       "      <td>15.369771</td>\n",
       "      <td>20.381452</td>\n",
       "      <td>1.0</td>\n",
       "      <td>3.0</td>\n",
       "      <td>7.0</td>\n",
       "      <td>20.0</td>\n",
       "      <td>500.0</td>\n",
       "    </tr>\n",
       "    <tr>\n",
       "      <th>NO2</th>\n",
       "      <td>95685.0</td>\n",
       "      <td>54.17831</td>\n",
       "      <td>34.2446</td>\n",
       "      <td>2.0</td>\n",
       "      <td>27.0</td>\n",
       "      <td>48.0</td>\n",
       "      <td>74.0</td>\n",
       "      <td>271.0</td>\n",
       "    </tr>\n",
       "    <tr>\n",
       "      <th>CO</th>\n",
       "      <td>95685.0</td>\n",
       "      <td>1313.024142</td>\n",
       "      <td>1187.100019</td>\n",
       "      <td>100.0</td>\n",
       "      <td>600.0</td>\n",
       "      <td>900.0</td>\n",
       "      <td>1600.0</td>\n",
       "      <td>10000.0</td>\n",
       "    </tr>\n",
       "    <tr>\n",
       "      <th>O3</th>\n",
       "      <td>95685.0</td>\n",
       "      <td>56.786295</td>\n",
       "      <td>57.899402</td>\n",
       "      <td>0.4284</td>\n",
       "      <td>9.0</td>\n",
       "      <td>43.0</td>\n",
       "      <td>82.0</td>\n",
       "      <td>1071.0</td>\n",
       "    </tr>\n",
       "    <tr>\n",
       "      <th>TEMP</th>\n",
       "      <td>95685.0</td>\n",
       "      <td>13.729446</td>\n",
       "      <td>11.320713</td>\n",
       "      <td>-16.8</td>\n",
       "      <td>3.5</td>\n",
       "      <td>14.6</td>\n",
       "      <td>23.4</td>\n",
       "      <td>41.6</td>\n",
       "    </tr>\n",
       "    <tr>\n",
       "      <th>PRES</th>\n",
       "      <td>95685.0</td>\n",
       "      <td>1011.397848</td>\n",
       "      <td>10.28721</td>\n",
       "      <td>984.0</td>\n",
       "      <td>1003.0</td>\n",
       "      <td>1011.0</td>\n",
       "      <td>1019.6</td>\n",
       "      <td>1042.0</td>\n",
       "    </tr>\n",
       "    <tr>\n",
       "      <th>DEWP</th>\n",
       "      <td>95685.0</td>\n",
       "      <td>2.473027</td>\n",
       "      <td>13.717762</td>\n",
       "      <td>-35.3</td>\n",
       "      <td>-8.7</td>\n",
       "      <td>3.0</td>\n",
       "      <td>15.0</td>\n",
       "      <td>28.8</td>\n",
       "    </tr>\n",
       "    <tr>\n",
       "      <th>RAIN</th>\n",
       "      <td>95685.0</td>\n",
       "      <td>0.064496</td>\n",
       "      <td>0.819959</td>\n",
       "      <td>0.0</td>\n",
       "      <td>0.0</td>\n",
       "      <td>0.0</td>\n",
       "      <td>0.0</td>\n",
       "      <td>46.4</td>\n",
       "    </tr>\n",
       "    <tr>\n",
       "      <th>WSPM</th>\n",
       "      <td>95685.0</td>\n",
       "      <td>1.692044</td>\n",
       "      <td>1.258773</td>\n",
       "      <td>0.0</td>\n",
       "      <td>0.9</td>\n",
       "      <td>1.4</td>\n",
       "      <td>2.2</td>\n",
       "      <td>12.0</td>\n",
       "    </tr>\n",
       "    <tr>\n",
       "      <th>year</th>\n",
       "      <td>95685.0</td>\n",
       "      <td>2014.737106</td>\n",
       "      <td>1.157743</td>\n",
       "      <td>2013.0</td>\n",
       "      <td>2014.0</td>\n",
       "      <td>2015.0</td>\n",
       "      <td>2016.0</td>\n",
       "      <td>2017.0</td>\n",
       "    </tr>\n",
       "    <tr>\n",
       "      <th>month</th>\n",
       "      <td>95685.0</td>\n",
       "      <td>6.503841</td>\n",
       "      <td>3.443164</td>\n",
       "      <td>1.0</td>\n",
       "      <td>4.0</td>\n",
       "      <td>7.0</td>\n",
       "      <td>10.0</td>\n",
       "      <td>12.0</td>\n",
       "    </tr>\n",
       "    <tr>\n",
       "      <th>day</th>\n",
       "      <td>95685.0</td>\n",
       "      <td>15.648336</td>\n",
       "      <td>8.824385</td>\n",
       "      <td>1.0</td>\n",
       "      <td>8.0</td>\n",
       "      <td>16.0</td>\n",
       "      <td>23.0</td>\n",
       "      <td>31.0</td>\n",
       "    </tr>\n",
       "    <tr>\n",
       "      <th>hour</th>\n",
       "      <td>95685.0</td>\n",
       "      <td>11.519862</td>\n",
       "      <td>6.946633</td>\n",
       "      <td>0.0</td>\n",
       "      <td>6.0</td>\n",
       "      <td>12.0</td>\n",
       "      <td>18.0</td>\n",
       "      <td>23.0</td>\n",
       "    </tr>\n",
       "    <tr>\n",
       "      <th>quarter</th>\n",
       "      <td>95685.0</td>\n",
       "      <td>2.505732</td>\n",
       "      <td>1.117908</td>\n",
       "      <td>1.0</td>\n",
       "      <td>2.0</td>\n",
       "      <td>3.0</td>\n",
       "      <td>4.0</td>\n",
       "      <td>4.0</td>\n",
       "    </tr>\n",
       "    <tr>\n",
       "      <th>day_of_week_num</th>\n",
       "      <td>95685.0</td>\n",
       "      <td>3.021707</td>\n",
       "      <td>2.002642</td>\n",
       "      <td>0.0</td>\n",
       "      <td>1.0</td>\n",
       "      <td>3.0</td>\n",
       "      <td>5.0</td>\n",
       "      <td>6.0</td>\n",
       "    </tr>\n",
       "    <tr>\n",
       "      <th>time_until_2022</th>\n",
       "      <td>95685</td>\n",
       "      <td>2470 days 23:06:08.070230464</td>\n",
       "      <td>415 days 06:49:03.472645448</td>\n",
       "      <td>1767 days 01:00:00</td>\n",
       "      <td>2115 days 13:00:00</td>\n",
       "      <td>2459 days 14:00:00</td>\n",
       "      <td>2813 days 11:00:00</td>\n",
       "      <td>3228 days 00:00:00</td>\n",
       "    </tr>\n",
       "    <tr>\n",
       "      <th>time_until_2022_days</th>\n",
       "      <td>95685.0</td>\n",
       "      <td>2470.962593</td>\n",
       "      <td>415.284068</td>\n",
       "      <td>1767.041667</td>\n",
       "      <td>2115.541667</td>\n",
       "      <td>2459.583333</td>\n",
       "      <td>2813.458333</td>\n",
       "      <td>3228.0</td>\n",
       "    </tr>\n",
       "    <tr>\n",
       "      <th>time_until_2022_weeks</th>\n",
       "      <td>95685.0</td>\n",
       "      <td>352.994656</td>\n",
       "      <td>59.326295</td>\n",
       "      <td>252.434524</td>\n",
       "      <td>302.220238</td>\n",
       "      <td>351.369048</td>\n",
       "      <td>401.922619</td>\n",
       "      <td>461.142857</td>\n",
       "    </tr>\n",
       "  </tbody>\n",
       "</table>\n",
       "</div>"
      ],
      "text/plain": [
       "                         count                          mean  \\\n",
       "PM2.5                  95685.0                     83.477884   \n",
       "PM10                   95685.0                    111.899959   \n",
       "SO2                    95685.0                     15.369771   \n",
       "NO2                    95685.0                      54.17831   \n",
       "CO                     95685.0                   1313.024142   \n",
       "O3                     95685.0                     56.786295   \n",
       "TEMP                   95685.0                     13.729446   \n",
       "PRES                   95685.0                   1011.397848   \n",
       "DEWP                   95685.0                      2.473027   \n",
       "RAIN                   95685.0                      0.064496   \n",
       "WSPM                   95685.0                      1.692044   \n",
       "year                   95685.0                   2014.737106   \n",
       "month                  95685.0                      6.503841   \n",
       "day                    95685.0                     15.648336   \n",
       "hour                   95685.0                     11.519862   \n",
       "quarter                95685.0                      2.505732   \n",
       "day_of_week_num        95685.0                      3.021707   \n",
       "time_until_2022          95685  2470 days 23:06:08.070230464   \n",
       "time_until_2022_days   95685.0                   2470.962593   \n",
       "time_until_2022_weeks  95685.0                    352.994656   \n",
       "\n",
       "                                               std                 min  \\\n",
       "PM2.5                                    82.678134                 2.0   \n",
       "PM10                                     94.775897                 2.0   \n",
       "SO2                                      20.381452                 1.0   \n",
       "NO2                                        34.2446                 2.0   \n",
       "CO                                     1187.100019               100.0   \n",
       "O3                                       57.899402              0.4284   \n",
       "TEMP                                     11.320713               -16.8   \n",
       "PRES                                      10.28721               984.0   \n",
       "DEWP                                     13.717762               -35.3   \n",
       "RAIN                                      0.819959                 0.0   \n",
       "WSPM                                      1.258773                 0.0   \n",
       "year                                      1.157743              2013.0   \n",
       "month                                     3.443164                 1.0   \n",
       "day                                       8.824385                 1.0   \n",
       "hour                                      6.946633                 0.0   \n",
       "quarter                                   1.117908                 1.0   \n",
       "day_of_week_num                           2.002642                 0.0   \n",
       "time_until_2022        415 days 06:49:03.472645448  1767 days 01:00:00   \n",
       "time_until_2022_days                    415.284068         1767.041667   \n",
       "time_until_2022_weeks                    59.326295          252.434524   \n",
       "\n",
       "                                      25%                 50%  \\\n",
       "PM2.5                                23.0                59.0   \n",
       "PM10                                 41.0                90.0   \n",
       "SO2                                   3.0                 7.0   \n",
       "NO2                                  27.0                48.0   \n",
       "CO                                  600.0               900.0   \n",
       "O3                                    9.0                43.0   \n",
       "TEMP                                  3.5                14.6   \n",
       "PRES                               1003.0              1011.0   \n",
       "DEWP                                 -8.7                 3.0   \n",
       "RAIN                                  0.0                 0.0   \n",
       "WSPM                                  0.9                 1.4   \n",
       "year                               2014.0              2015.0   \n",
       "month                                 4.0                 7.0   \n",
       "day                                   8.0                16.0   \n",
       "hour                                  6.0                12.0   \n",
       "quarter                               2.0                 3.0   \n",
       "day_of_week_num                       1.0                 3.0   \n",
       "time_until_2022        2115 days 13:00:00  2459 days 14:00:00   \n",
       "time_until_2022_days          2115.541667         2459.583333   \n",
       "time_until_2022_weeks          302.220238          351.369048   \n",
       "\n",
       "                                      75%                 max  \n",
       "PM2.5                               116.0               821.0  \n",
       "PM10                                154.0               994.0  \n",
       "SO2                                  20.0               500.0  \n",
       "NO2                                  74.0               271.0  \n",
       "CO                                 1600.0             10000.0  \n",
       "O3                                   82.0              1071.0  \n",
       "TEMP                                 23.4                41.6  \n",
       "PRES                               1019.6              1042.0  \n",
       "DEWP                                 15.0                28.8  \n",
       "RAIN                                  0.0                46.4  \n",
       "WSPM                                  2.2                12.0  \n",
       "year                               2016.0              2017.0  \n",
       "month                                10.0                12.0  \n",
       "day                                  23.0                31.0  \n",
       "hour                                 18.0                23.0  \n",
       "quarter                               4.0                 4.0  \n",
       "day_of_week_num                       5.0                 6.0  \n",
       "time_until_2022        2813 days 11:00:00  3228 days 00:00:00  \n",
       "time_until_2022_days          2813.458333              3228.0  \n",
       "time_until_2022_weeks          401.922619          461.142857  "
      ]
     },
     "execution_count": 24,
     "metadata": {},
     "output_type": "execute_result"
    }
   ],
   "source": [
    "air_quality.describe().T"
   ]
  },
  {
   "cell_type": "code",
   "execution_count": 25,
   "metadata": {},
   "outputs": [
    {
     "data": {
      "text/html": [
       "<div>\n",
       "<style scoped>\n",
       "    .dataframe tbody tr th:only-of-type {\n",
       "        vertical-align: middle;\n",
       "    }\n",
       "\n",
       "    .dataframe tbody tr th {\n",
       "        vertical-align: top;\n",
       "    }\n",
       "\n",
       "    .dataframe thead th {\n",
       "        text-align: right;\n",
       "    }\n",
       "</style>\n",
       "<table border=\"1\" class=\"dataframe\">\n",
       "  <thead>\n",
       "    <tr style=\"text-align: right;\">\n",
       "      <th></th>\n",
       "      <th>wd</th>\n",
       "      <th>station</th>\n",
       "      <th>day_of_week_name</th>\n",
       "      <th>prior_2016_ind</th>\n",
       "      <th>PM2.5_category</th>\n",
       "      <th>TEMP_Category</th>\n",
       "    </tr>\n",
       "  </thead>\n",
       "  <tbody>\n",
       "    <tr>\n",
       "      <th>count</th>\n",
       "      <td>95685</td>\n",
       "      <td>95685</td>\n",
       "      <td>95685</td>\n",
       "      <td>95685</td>\n",
       "      <td>95685</td>\n",
       "      <td>95685</td>\n",
       "    </tr>\n",
       "    <tr>\n",
       "      <th>unique</th>\n",
       "      <td>16</td>\n",
       "      <td>3</td>\n",
       "      <td>7</td>\n",
       "      <td>2</td>\n",
       "      <td>6</td>\n",
       "      <td>5</td>\n",
       "    </tr>\n",
       "    <tr>\n",
       "      <th>top</th>\n",
       "      <td>NE</td>\n",
       "      <td>Tiantan</td>\n",
       "      <td>Sunday</td>\n",
       "      <td>True</td>\n",
       "      <td>Unhealthy</td>\n",
       "      <td>Hot</td>\n",
       "    </tr>\n",
       "    <tr>\n",
       "      <th>freq</th>\n",
       "      <td>9447</td>\n",
       "      <td>32843</td>\n",
       "      <td>13931</td>\n",
       "      <td>66345</td>\n",
       "      <td>34257</td>\n",
       "      <td>19189</td>\n",
       "    </tr>\n",
       "  </tbody>\n",
       "</table>\n",
       "</div>"
      ],
      "text/plain": [
       "           wd  station day_of_week_name prior_2016_ind PM2.5_category  \\\n",
       "count   95685    95685            95685          95685          95685   \n",
       "unique     16        3                7              2              6   \n",
       "top        NE  Tiantan           Sunday           True      Unhealthy   \n",
       "freq     9447    32843            13931          66345          34257   \n",
       "\n",
       "       TEMP_Category  \n",
       "count          95685  \n",
       "unique             5  \n",
       "top              Hot  \n",
       "freq           19189  "
      ]
     },
     "execution_count": 25,
     "metadata": {},
     "output_type": "execute_result"
    }
   ],
   "source": [
    "air_quality.describe(include=['object','category','bool'])"
   ]
  },
  {
   "cell_type": "code",
   "execution_count": 28,
   "metadata": {},
   "outputs": [
    {
     "data": {
      "text/html": [
       "<div>\n",
       "<style scoped>\n",
       "    .dataframe tbody tr th:only-of-type {\n",
       "        vertical-align: middle;\n",
       "    }\n",
       "\n",
       "    .dataframe tbody tr th {\n",
       "        vertical-align: top;\n",
       "    }\n",
       "\n",
       "    .dataframe thead th {\n",
       "        text-align: right;\n",
       "    }\n",
       "</style>\n",
       "<table border=\"1\" class=\"dataframe\">\n",
       "  <thead>\n",
       "    <tr style=\"text-align: right;\">\n",
       "      <th></th>\n",
       "      <th>PM2.5_category</th>\n",
       "      <th>TEMP_Category</th>\n",
       "      <th>hour</th>\n",
       "    </tr>\n",
       "  </thead>\n",
       "  <tbody>\n",
       "    <tr>\n",
       "      <th>0</th>\n",
       "      <td>Unhealthy</td>\n",
       "      <td>Hot</td>\n",
       "      <td>21</td>\n",
       "    </tr>\n",
       "    <tr>\n",
       "      <th>1</th>\n",
       "      <td>NaN</td>\n",
       "      <td>NaN</td>\n",
       "      <td>23</td>\n",
       "    </tr>\n",
       "  </tbody>\n",
       "</table>\n",
       "</div>"
      ],
      "text/plain": [
       "  PM2.5_category TEMP_Category  hour\n",
       "0      Unhealthy           Hot    21\n",
       "1            NaN           NaN    23"
      ]
     },
     "execution_count": 28,
     "metadata": {},
     "output_type": "execute_result"
    }
   ],
   "source": [
    "air_quality[['PM2.5_category','TEMP_Category','hour']].mode()"
   ]
  },
  {
   "cell_type": "code",
   "execution_count": 29,
   "metadata": {},
   "outputs": [
    {
     "data": {
      "text/plain": [
       "23    4062\n",
       "21    4062\n",
       "0     4052\n",
       "22    4043\n",
       "1     4037\n",
       "6     4037\n",
       "19    4031\n",
       "7     4025\n",
       "9     4023\n",
       "18    4013\n",
       "8     4012\n",
       "20    4011\n",
       "17    3994\n",
       "5     3992\n",
       "2     3988\n",
       "10    3959\n",
       "16    3953\n",
       "15    3943\n",
       "13    3940\n",
       "14    3926\n",
       "4     3906\n",
       "11    3894\n",
       "12    3891\n",
       "3     3891\n",
       "Name: hour, dtype: int64"
      ]
     },
     "execution_count": 29,
     "metadata": {},
     "output_type": "execute_result"
    }
   ],
   "source": [
    "air_quality['hour'].value_counts()"
   ]
  },
  {
   "cell_type": "code",
   "execution_count": 30,
   "metadata": {},
   "outputs": [
    {
     "data": {
      "text/plain": [
       "PM2.5    83.477884\n",
       "TEMP     13.729446\n",
       "dtype: float64"
      ]
     },
     "execution_count": 30,
     "metadata": {},
     "output_type": "execute_result"
    }
   ],
   "source": [
    "air_quality[['PM2.5','TEMP']].agg('mean')"
   ]
  },
  {
   "cell_type": "code",
   "execution_count": 31,
   "metadata": {},
   "outputs": [
    {
     "data": {
      "text/plain": [
       "PM2.5    83.477884\n",
       "TEMP     13.729446\n",
       "dtype: float64"
      ]
     },
     "execution_count": 31,
     "metadata": {},
     "output_type": "execute_result"
    }
   ],
   "source": [
    "air_quality[['PM2.5','TEMP']].mean()"
   ]
  },
  {
   "cell_type": "code",
   "execution_count": 33,
   "metadata": {},
   "outputs": [
    {
     "data": {
      "text/html": [
       "<div>\n",
       "<style scoped>\n",
       "    .dataframe tbody tr th:only-of-type {\n",
       "        vertical-align: middle;\n",
       "    }\n",
       "\n",
       "    .dataframe tbody tr th {\n",
       "        vertical-align: top;\n",
       "    }\n",
       "\n",
       "    .dataframe thead th {\n",
       "        text-align: right;\n",
       "    }\n",
       "</style>\n",
       "<table border=\"1\" class=\"dataframe\">\n",
       "  <thead>\n",
       "    <tr style=\"text-align: right;\">\n",
       "      <th></th>\n",
       "      <th>PM2.5</th>\n",
       "      <th>TEMP</th>\n",
       "    </tr>\n",
       "  </thead>\n",
       "  <tbody>\n",
       "    <tr>\n",
       "      <th>min</th>\n",
       "      <td>2.000000</td>\n",
       "      <td>-16.800000</td>\n",
       "    </tr>\n",
       "    <tr>\n",
       "      <th>max</th>\n",
       "      <td>821.000000</td>\n",
       "      <td>41.600000</td>\n",
       "    </tr>\n",
       "    <tr>\n",
       "      <th>mean</th>\n",
       "      <td>83.477884</td>\n",
       "      <td>13.729446</td>\n",
       "    </tr>\n",
       "  </tbody>\n",
       "</table>\n",
       "</div>"
      ],
      "text/plain": [
       "           PM2.5       TEMP\n",
       "min     2.000000 -16.800000\n",
       "max   821.000000  41.600000\n",
       "mean   83.477884  13.729446"
      ]
     },
     "execution_count": 33,
     "metadata": {},
     "output_type": "execute_result"
    }
   ],
   "source": [
    "air_quality[['PM2.5','TEMP']].agg(['min','max','mean'])"
   ]
  },
  {
   "cell_type": "code",
   "execution_count": 34,
   "metadata": {},
   "outputs": [
    {
     "name": "stderr",
     "output_type": "stream",
     "text": [
      "C:\\Users\\Sastra\\AppData\\Local\\Temp/ipykernel_23368/2745958272.py:1: FutureWarning: ['PM2.5_category'] did not aggregate successfully. If any error is raised this will raise in a future version of pandas. Drop these columns/ops to avoid this warning.\n",
      "  air_quality[['PM2.5','PM2.5_category']].agg(['min','max','mean','nunique'])\n"
     ]
    },
    {
     "data": {
      "text/html": [
       "<div>\n",
       "<style scoped>\n",
       "    .dataframe tbody tr th:only-of-type {\n",
       "        vertical-align: middle;\n",
       "    }\n",
       "\n",
       "    .dataframe tbody tr th {\n",
       "        vertical-align: top;\n",
       "    }\n",
       "\n",
       "    .dataframe thead th {\n",
       "        text-align: right;\n",
       "    }\n",
       "</style>\n",
       "<table border=\"1\" class=\"dataframe\">\n",
       "  <thead>\n",
       "    <tr style=\"text-align: right;\">\n",
       "      <th></th>\n",
       "      <th>PM2.5</th>\n",
       "      <th>PM2.5_category</th>\n",
       "    </tr>\n",
       "  </thead>\n",
       "  <tbody>\n",
       "    <tr>\n",
       "      <th>min</th>\n",
       "      <td>2.000000</td>\n",
       "      <td>Good</td>\n",
       "    </tr>\n",
       "    <tr>\n",
       "      <th>max</th>\n",
       "      <td>821.000000</td>\n",
       "      <td>Hazardous</td>\n",
       "    </tr>\n",
       "    <tr>\n",
       "      <th>mean</th>\n",
       "      <td>83.477884</td>\n",
       "      <td>NaN</td>\n",
       "    </tr>\n",
       "    <tr>\n",
       "      <th>nunique</th>\n",
       "      <td>676.000000</td>\n",
       "      <td>6</td>\n",
       "    </tr>\n",
       "  </tbody>\n",
       "</table>\n",
       "</div>"
      ],
      "text/plain": [
       "              PM2.5 PM2.5_category\n",
       "min        2.000000           Good\n",
       "max      821.000000      Hazardous\n",
       "mean      83.477884            NaN\n",
       "nunique  676.000000              6"
      ]
     },
     "execution_count": 34,
     "metadata": {},
     "output_type": "execute_result"
    }
   ],
   "source": [
    "air_quality[['PM2.5','PM2.5_category']].agg(['min','max','mean','nunique'])"
   ]
  },
  {
   "cell_type": "code",
   "execution_count": 38,
   "metadata": {},
   "outputs": [
    {
     "data": {
      "text/html": [
       "<div>\n",
       "<style scoped>\n",
       "    .dataframe tbody tr th:only-of-type {\n",
       "        vertical-align: middle;\n",
       "    }\n",
       "\n",
       "    .dataframe tbody tr th {\n",
       "        vertical-align: top;\n",
       "    }\n",
       "\n",
       "    .dataframe thead th {\n",
       "        text-align: right;\n",
       "    }\n",
       "</style>\n",
       "<table border=\"1\" class=\"dataframe\">\n",
       "  <thead>\n",
       "    <tr style=\"text-align: right;\">\n",
       "      <th></th>\n",
       "      <th>PM2.5</th>\n",
       "      <th>PM2.5_category</th>\n",
       "    </tr>\n",
       "  </thead>\n",
       "  <tbody>\n",
       "    <tr>\n",
       "      <th>min</th>\n",
       "      <td>2.000000</td>\n",
       "      <td>NaN</td>\n",
       "    </tr>\n",
       "    <tr>\n",
       "      <th>max</th>\n",
       "      <td>821.000000</td>\n",
       "      <td>NaN</td>\n",
       "    </tr>\n",
       "    <tr>\n",
       "      <th>mean</th>\n",
       "      <td>83.477884</td>\n",
       "      <td>NaN</td>\n",
       "    </tr>\n",
       "    <tr>\n",
       "      <th>nunique</th>\n",
       "      <td>NaN</td>\n",
       "      <td>6.0</td>\n",
       "    </tr>\n",
       "  </tbody>\n",
       "</table>\n",
       "</div>"
      ],
      "text/plain": [
       "              PM2.5  PM2.5_category\n",
       "min        2.000000             NaN\n",
       "max      821.000000             NaN\n",
       "mean      83.477884             NaN\n",
       "nunique         NaN             6.0"
      ]
     },
     "execution_count": 38,
     "metadata": {},
     "output_type": "execute_result"
    }
   ],
   "source": [
    "air_quality[['PM2.5','PM2.5_category']].agg({'PM2.5':['min','max','mean'],'PM2.5_category':'nunique'})"
   ]
  },
  {
   "cell_type": "code",
   "execution_count": 39,
   "metadata": {},
   "outputs": [],
   "source": [
    "def max_minus_min(s):\n",
    "    return s.max()-s.min()"
   ]
  },
  {
   "cell_type": "code",
   "execution_count": 40,
   "metadata": {},
   "outputs": [
    {
     "data": {
      "text/plain": [
       "58.400000000000006"
      ]
     },
     "execution_count": 40,
     "metadata": {},
     "output_type": "execute_result"
    }
   ],
   "source": [
    "max_minus_min(air_quality['TEMP'])"
   ]
  },
  {
   "cell_type": "code",
   "execution_count": 41,
   "metadata": {},
   "outputs": [
    {
     "data": {
      "text/html": [
       "<div>\n",
       "<style scoped>\n",
       "    .dataframe tbody tr th:only-of-type {\n",
       "        vertical-align: middle;\n",
       "    }\n",
       "\n",
       "    .dataframe tbody tr th {\n",
       "        vertical-align: top;\n",
       "    }\n",
       "\n",
       "    .dataframe thead th {\n",
       "        text-align: right;\n",
       "    }\n",
       "</style>\n",
       "<table border=\"1\" class=\"dataframe\">\n",
       "  <thead>\n",
       "    <tr style=\"text-align: right;\">\n",
       "      <th></th>\n",
       "      <th>PM2.5</th>\n",
       "      <th>TEMP</th>\n",
       "    </tr>\n",
       "  </thead>\n",
       "  <tbody>\n",
       "    <tr>\n",
       "      <th>min</th>\n",
       "      <td>2.0</td>\n",
       "      <td>-16.8</td>\n",
       "    </tr>\n",
       "    <tr>\n",
       "      <th>max</th>\n",
       "      <td>821.0</td>\n",
       "      <td>41.6</td>\n",
       "    </tr>\n",
       "    <tr>\n",
       "      <th>max_minus_min</th>\n",
       "      <td>819.0</td>\n",
       "      <td>58.4</td>\n",
       "    </tr>\n",
       "  </tbody>\n",
       "</table>\n",
       "</div>"
      ],
      "text/plain": [
       "               PM2.5  TEMP\n",
       "min              2.0 -16.8\n",
       "max            821.0  41.6\n",
       "max_minus_min  819.0  58.4"
      ]
     },
     "execution_count": 41,
     "metadata": {},
     "output_type": "execute_result"
    }
   ],
   "source": [
    "air_quality[['PM2.5','TEMP']].agg(['min','max',max_minus_min])"
   ]
  },
  {
   "cell_type": "code",
   "execution_count": 42,
   "metadata": {},
   "outputs": [
    {
     "data": {
      "text/html": [
       "<div>\n",
       "<style scoped>\n",
       "    .dataframe tbody tr th:only-of-type {\n",
       "        vertical-align: middle;\n",
       "    }\n",
       "\n",
       "    .dataframe tbody tr th {\n",
       "        vertical-align: top;\n",
       "    }\n",
       "\n",
       "    .dataframe thead th {\n",
       "        text-align: right;\n",
       "    }\n",
       "</style>\n",
       "<table border=\"1\" class=\"dataframe\">\n",
       "  <thead>\n",
       "    <tr style=\"text-align: right;\">\n",
       "      <th></th>\n",
       "      <th>PM2.5</th>\n",
       "      <th>PM10</th>\n",
       "    </tr>\n",
       "  </thead>\n",
       "  <tbody>\n",
       "    <tr>\n",
       "      <th>0</th>\n",
       "      <td>9.0</td>\n",
       "      <td>9.0</td>\n",
       "    </tr>\n",
       "    <tr>\n",
       "      <th>1</th>\n",
       "      <td>4.0</td>\n",
       "      <td>4.0</td>\n",
       "    </tr>\n",
       "    <tr>\n",
       "      <th>2</th>\n",
       "      <td>4.0</td>\n",
       "      <td>4.0</td>\n",
       "    </tr>\n",
       "    <tr>\n",
       "      <th>3</th>\n",
       "      <td>5.0</td>\n",
       "      <td>5.0</td>\n",
       "    </tr>\n",
       "    <tr>\n",
       "      <th>4</th>\n",
       "      <td>3.0</td>\n",
       "      <td>6.0</td>\n",
       "    </tr>\n",
       "    <tr>\n",
       "      <th>...</th>\n",
       "      <td>...</td>\n",
       "      <td>...</td>\n",
       "    </tr>\n",
       "    <tr>\n",
       "      <th>95680</th>\n",
       "      <td>9.0</td>\n",
       "      <td>9.0</td>\n",
       "    </tr>\n",
       "    <tr>\n",
       "      <th>95681</th>\n",
       "      <td>10.0</td>\n",
       "      <td>29.0</td>\n",
       "    </tr>\n",
       "    <tr>\n",
       "      <th>95682</th>\n",
       "      <td>18.0</td>\n",
       "      <td>32.0</td>\n",
       "    </tr>\n",
       "    <tr>\n",
       "      <th>95683</th>\n",
       "      <td>15.0</td>\n",
       "      <td>42.0</td>\n",
       "    </tr>\n",
       "    <tr>\n",
       "      <th>95684</th>\n",
       "      <td>15.0</td>\n",
       "      <td>50.0</td>\n",
       "    </tr>\n",
       "  </tbody>\n",
       "</table>\n",
       "<p>95685 rows × 2 columns</p>\n",
       "</div>"
      ],
      "text/plain": [
       "       PM2.5  PM10\n",
       "0        9.0   9.0\n",
       "1        4.0   4.0\n",
       "2        4.0   4.0\n",
       "3        5.0   5.0\n",
       "4        3.0   6.0\n",
       "...      ...   ...\n",
       "95680    9.0   9.0\n",
       "95681   10.0  29.0\n",
       "95682   18.0  32.0\n",
       "95683   15.0  42.0\n",
       "95684   15.0  50.0\n",
       "\n",
       "[95685 rows x 2 columns]"
      ]
     },
     "execution_count": 42,
     "metadata": {},
     "output_type": "execute_result"
    }
   ],
   "source": [
    "air_quality[['PM2.5','PM10']]"
   ]
  },
  {
   "cell_type": "code",
   "execution_count": 44,
   "metadata": {},
   "outputs": [
    {
     "data": {
      "text/plain": [
       "PM2.5    2.0\n",
       "PM10     2.0\n",
       "dtype: float64"
      ]
     },
     "execution_count": 44,
     "metadata": {},
     "output_type": "execute_result"
    }
   ],
   "source": [
    "air_quality[['PM2.5','PM10']].min()"
   ]
  },
  {
   "cell_type": "code",
   "execution_count": 45,
   "metadata": {},
   "outputs": [
    {
     "data": {
      "text/plain": [
       "0         9.0\n",
       "1         4.0\n",
       "2         4.0\n",
       "3         5.0\n",
       "4         3.0\n",
       "         ... \n",
       "95680     9.0\n",
       "95681    10.0\n",
       "95682    18.0\n",
       "95683    15.0\n",
       "95684    15.0\n",
       "Length: 95685, dtype: float64"
      ]
     },
     "execution_count": 45,
     "metadata": {},
     "output_type": "execute_result"
    }
   ],
   "source": [
    "air_quality[['PM2.5','PM10']].min(axis=1)"
   ]
  },
  {
   "cell_type": "code",
   "execution_count": 46,
   "metadata": {},
   "outputs": [
    {
     "data": {
      "text/plain": [
       "0         9.0\n",
       "1         4.0\n",
       "2         4.0\n",
       "3         5.0\n",
       "4         4.5\n",
       "         ... \n",
       "95680     9.0\n",
       "95681    19.5\n",
       "95682    25.0\n",
       "95683    28.5\n",
       "95684    32.5\n",
       "Length: 95685, dtype: float64"
      ]
     },
     "execution_count": 46,
     "metadata": {},
     "output_type": "execute_result"
    }
   ],
   "source": [
    "air_quality[['PM2.5','PM10']].mean(axis=1)"
   ]
  },
  {
   "cell_type": "markdown",
   "metadata": {},
   "source": [
    "<img src='agg_method.jpg' style='width:600px;length:500px'>"
   ]
  }
 ],
 "metadata": {
  "interpreter": {
   "hash": "a52e8997a075451de5d84ac38c5baa033398d8e5616d829e3da1341e1c51f021"
  },
  "kernelspec": {
   "display_name": "Python 3.9.7 ('data_analysis')",
   "language": "python",
   "name": "python3"
  },
  "language_info": {
   "codemirror_mode": {
    "name": "ipython",
    "version": 3
   },
   "file_extension": ".py",
   "mimetype": "text/x-python",
   "name": "python",
   "nbconvert_exporter": "python",
   "pygments_lexer": "ipython3",
   "version": "3.9.7"
  },
  "orig_nbformat": 4
 },
 "nbformat": 4,
 "nbformat_minor": 2
}
