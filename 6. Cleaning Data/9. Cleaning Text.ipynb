{
 "cells": [
  {
   "cell_type": "code",
   "execution_count": 1,
   "id": "7c6921b4",
   "metadata": {},
   "outputs": [],
   "source": [
    "import pandas as pd\n",
    "taxi = pd.read_csv('nyc_federal_taxi.csv')"
   ]
  },
  {
   "cell_type": "code",
   "execution_count": 2,
   "id": "2da1c009",
   "metadata": {},
   "outputs": [
    {
     "data": {
      "text/html": [
       "<div>\n",
       "<style scoped>\n",
       "    .dataframe tbody tr th:only-of-type {\n",
       "        vertical-align: middle;\n",
       "    }\n",
       "\n",
       "    .dataframe tbody tr th {\n",
       "        vertical-align: top;\n",
       "    }\n",
       "\n",
       "    .dataframe thead th {\n",
       "        text-align: right;\n",
       "    }\n",
       "</style>\n",
       "<table border=\"1\" class=\"dataframe\">\n",
       "  <thead>\n",
       "    <tr style=\"text-align: right;\">\n",
       "      <th></th>\n",
       "      <th>Date</th>\n",
       "      <th>Time</th>\n",
       "      <th>PU_Address</th>\n",
       "      <th>DO_Address</th>\n",
       "      <th>Routing Details</th>\n",
       "      <th>PU_Address.1</th>\n",
       "      <th>Status</th>\n",
       "    </tr>\n",
       "  </thead>\n",
       "  <tbody>\n",
       "    <tr>\n",
       "      <th>0</th>\n",
       "      <td>07/01/2014</td>\n",
       "      <td>07:15 AM</td>\n",
       "      <td>Brooklyn Museum, 200 Eastern Pkwy., BK NY;</td>\n",
       "      <td>1 Brookdale Plaza, BK NY;</td>\n",
       "      <td>PU: Brooklyn Museum, 200 Eastern Pkwy., BK NY;...</td>\n",
       "      <td>Brooklyn Museum, 200 Eastern Pkwy., BK NY; DO:...</td>\n",
       "      <td>Cancelled</td>\n",
       "    </tr>\n",
       "    <tr>\n",
       "      <th>1</th>\n",
       "      <td>07/01/2014</td>\n",
       "      <td>07:30 AM</td>\n",
       "      <td>33 Robert Dr., Short Hills NJ;</td>\n",
       "      <td>John F Kennedy International Airport, vitona A...</td>\n",
       "      <td>PU: 33 Robert Dr., Short Hills NJ; DO: John F ...</td>\n",
       "      <td>33 Robert Dr., Short Hills NJ; DO: John F Kenn...</td>\n",
       "      <td>Arrived</td>\n",
       "    </tr>\n",
       "    <tr>\n",
       "      <th>2</th>\n",
       "      <td>07/01/2014</td>\n",
       "      <td>08:00 AM</td>\n",
       "      <td>60 Glenmore Ave., BK NY;</td>\n",
       "      <td>2171 Nostrand Ave., BK NY;</td>\n",
       "      <td>PU: 60 Glenmore Ave., BK NY; DO: 2171 Nostrand...</td>\n",
       "      <td>60 Glenmore Ave., BK NY; DO: 2171 Nostrand Ave...</td>\n",
       "      <td>Assigned</td>\n",
       "    </tr>\n",
       "    <tr>\n",
       "      <th>3</th>\n",
       "      <td>07/01/2014</td>\n",
       "      <td>09:00 AM</td>\n",
       "      <td>128 East 31 St., BK NY;</td>\n",
       "      <td>369 93rd St., BK NY;</td>\n",
       "      <td>PU: 128 East 31 St., BK NY; DO: 369 93rd St., ...</td>\n",
       "      <td>128 East 31 St., BK NY; DO: 369 93rd St., BK NY;</td>\n",
       "      <td>Assigned</td>\n",
       "    </tr>\n",
       "    <tr>\n",
       "      <th>4</th>\n",
       "      <td>07/01/2014</td>\n",
       "      <td>09:30 AM</td>\n",
       "      <td>139-39 35 ave., Flushing NY;</td>\n",
       "      <td>La Guardia Airport;</td>\n",
       "      <td>PU: 139-39 35 Ave., Flushing NY; DO: La Guardi...</td>\n",
       "      <td>139-39 35 Ave., Flushing NY; DO: La Guardia Ai...</td>\n",
       "      <td>Assigned</td>\n",
       "    </tr>\n",
       "  </tbody>\n",
       "</table>\n",
       "</div>"
      ],
      "text/plain": [
       "         Date      Time                                  PU_Address  \\\n",
       "0  07/01/2014  07:15 AM  Brooklyn Museum, 200 Eastern Pkwy., BK NY;   \n",
       "1  07/01/2014  07:30 AM              33 Robert Dr., Short Hills NJ;   \n",
       "2  07/01/2014  08:00 AM                   60 Glenmore Ave., BK NY;    \n",
       "3  07/01/2014  09:00 AM                     128 East 31 St., BK NY;   \n",
       "4  07/01/2014  09:30 AM                139-39 35 ave., Flushing NY;   \n",
       "\n",
       "                                          DO_Address  \\\n",
       "0                         1 Brookdale Plaza, BK NY;    \n",
       "1  John F Kennedy International Airport, vitona A...   \n",
       "2                        2171 Nostrand Ave., BK NY;    \n",
       "3                              369 93rd St., BK NY;    \n",
       "4                               La Guardia Airport;    \n",
       "\n",
       "                                     Routing Details  \\\n",
       "0  PU: Brooklyn Museum, 200 Eastern Pkwy., BK NY;...   \n",
       "1  PU: 33 Robert Dr., Short Hills NJ; DO: John F ...   \n",
       "2  PU: 60 Glenmore Ave., BK NY; DO: 2171 Nostrand...   \n",
       "3  PU: 128 East 31 St., BK NY; DO: 369 93rd St., ...   \n",
       "4  PU: 139-39 35 Ave., Flushing NY; DO: La Guardi...   \n",
       "\n",
       "                                        PU_Address.1     Status  \n",
       "0  Brooklyn Museum, 200 Eastern Pkwy., BK NY; DO:...  Cancelled  \n",
       "1  33 Robert Dr., Short Hills NJ; DO: John F Kenn...    Arrived  \n",
       "2  60 Glenmore Ave., BK NY; DO: 2171 Nostrand Ave...   Assigned  \n",
       "3  128 East 31 St., BK NY; DO: 369 93rd St., BK NY;    Assigned  \n",
       "4  139-39 35 Ave., Flushing NY; DO: La Guardia Ai...   Assigned  "
      ]
     },
     "execution_count": 2,
     "metadata": {},
     "output_type": "execute_result"
    }
   ],
   "source": [
    "taxi.head()"
   ]
  },
  {
   "cell_type": "code",
   "execution_count": 3,
   "id": "04aff5a9",
   "metadata": {},
   "outputs": [
    {
     "data": {
      "text/plain": [
       "0    Brooklyn Museum, 200 Eastern Pkwy., BK NY;\n",
       "1                33 Robert Dr., Short Hills NJ;\n",
       "2                     60 Glenmore Ave., BK NY; \n",
       "3                       128 East 31 St., BK NY;\n",
       "4                  139-39 35 ave., Flushing NY;\n",
       "Name: PU_Address, dtype: object"
      ]
     },
     "execution_count": 3,
     "metadata": {},
     "output_type": "execute_result"
    }
   ],
   "source": [
    "taxi['PU_Address'].head()"
   ]
  },
  {
   "cell_type": "code",
   "execution_count": 5,
   "id": "c511b2a2",
   "metadata": {},
   "outputs": [],
   "source": [
    "taxi['PU_Address'] = taxi['PU_Address'].str.lower()"
   ]
  },
  {
   "cell_type": "code",
   "execution_count": 6,
   "id": "d1403940",
   "metadata": {},
   "outputs": [
    {
     "data": {
      "text/plain": [
       "0    brooklyn museum, 200 eastern pkwy., bk ny;\n",
       "1                33 robert dr., short hills nj;\n",
       "2                     60 glenmore ave., bk ny; \n",
       "3                       128 east 31 st., bk ny;\n",
       "4                  139-39 35 ave., flushing ny;\n",
       "5                           545 17 st., bk ny; \n",
       "6                      127 guernsey st., bk ny;\n",
       "7                     657 st marks ave., bk ny;\n",
       "8                         1611 47th st., bk ny;\n",
       "9                       364 87th street, bk ny;\n",
       "Name: PU_Address, dtype: object"
      ]
     },
     "execution_count": 6,
     "metadata": {},
     "output_type": "execute_result"
    }
   ],
   "source": [
    "taxi['PU_Address'].head(10)"
   ]
  },
  {
   "cell_type": "code",
   "execution_count": 7,
   "id": "10348a4a",
   "metadata": {},
   "outputs": [],
   "source": [
    "taxi['PU_Address'] = taxi['PU_Address'].str.strip()"
   ]
  },
  {
   "cell_type": "code",
   "execution_count": 8,
   "id": "0fece84b",
   "metadata": {},
   "outputs": [
    {
     "data": {
      "text/plain": [
       "0    brooklyn museum, 200 eastern pkwy., bk ny;\n",
       "1                33 robert dr., short hills nj;\n",
       "2                      60 glenmore ave., bk ny;\n",
       "3                       128 east 31 st., bk ny;\n",
       "4                  139-39 35 ave., flushing ny;\n",
       "5                            545 17 st., bk ny;\n",
       "6                      127 guernsey st., bk ny;\n",
       "7                     657 st marks ave., bk ny;\n",
       "8                         1611 47th st., bk ny;\n",
       "9                       364 87th street, bk ny;\n",
       "Name: PU_Address, dtype: object"
      ]
     },
     "execution_count": 8,
     "metadata": {},
     "output_type": "execute_result"
    }
   ],
   "source": [
    "taxi['PU_Address'].head(10)"
   ]
  },
  {
   "cell_type": "code",
   "execution_count": 9,
   "id": "6a1e650f",
   "metadata": {},
   "outputs": [],
   "source": [
    "taxi['PU_Address_length'] = taxi['PU_Address'].str.len()"
   ]
  },
  {
   "cell_type": "code",
   "execution_count": 10,
   "id": "2fd48e6c",
   "metadata": {},
   "outputs": [
    {
     "data": {
      "text/plain": [
       "0    42\n",
       "1    30\n",
       "2    24\n",
       "3    23\n",
       "4    28\n",
       "5    18\n",
       "6    24\n",
       "7    25\n",
       "8    21\n",
       "9    23\n",
       "Name: PU_Address_length, dtype: int64"
      ]
     },
     "execution_count": 10,
     "metadata": {},
     "output_type": "execute_result"
    }
   ],
   "source": [
    "taxi['PU_Address_length'].head(10)"
   ]
  },
  {
   "cell_type": "code",
   "execution_count": 11,
   "id": "cc163884",
   "metadata": {},
   "outputs": [
    {
     "data": {
      "text/plain": [
       "<AxesSubplot:>"
      ]
     },
     "execution_count": 11,
     "metadata": {},
     "output_type": "execute_result"
    },
    {
     "data": {
      "image/png": "[encoded data removed]",
      "text/plain": [
       "<Figure size 432x288 with 1 Axes>"
      ]
     },
     "metadata": {
      "needs_background": "light"
     },
     "output_type": "display_data"
    }
   ],
   "source": [
    "taxi['PU_Address_length'].hist(bins=50)"
   ]
  },
  {
   "cell_type": "code",
   "execution_count": 13,
   "id": "0906e627",
   "metadata": {},
   "outputs": [
    {
     "data": {
      "text/html": [
       "<div>\n",
       "<style scoped>\n",
       "    .dataframe tbody tr th:only-of-type {\n",
       "        vertical-align: middle;\n",
       "    }\n",
       "\n",
       "    .dataframe tbody tr th {\n",
       "        vertical-align: top;\n",
       "    }\n",
       "\n",
       "    .dataframe thead th {\n",
       "        text-align: right;\n",
       "    }\n",
       "</style>\n",
       "<table border=\"1\" class=\"dataframe\">\n",
       "  <thead>\n",
       "    <tr style=\"text-align: right;\">\n",
       "      <th></th>\n",
       "      <th>PU_Address</th>\n",
       "      <th>PU_Address_length</th>\n",
       "    </tr>\n",
       "  </thead>\n",
       "  <tbody>\n",
       "    <tr>\n",
       "      <th>97</th>\n",
       "      <td>columbia university, 630 w 168 st., ny ny; st:...</td>\n",
       "      <td>105</td>\n",
       "    </tr>\n",
       "    <tr>\n",
       "      <th>73</th>\n",
       "      <td>356 w23 st., ny ny; st: newark liberty interna...</td>\n",
       "      <td>78</td>\n",
       "    </tr>\n",
       "    <tr>\n",
       "      <th>209</th>\n",
       "      <td>homewood suites by hilton harrisburg, 3990 tec...</td>\n",
       "      <td>70</td>\n",
       "    </tr>\n",
       "    <tr>\n",
       "      <th>203</th>\n",
       "      <td>john f kennedy international airport, klm roya...</td>\n",
       "      <td>63</td>\n",
       "    </tr>\n",
       "    <tr>\n",
       "      <th>221</th>\n",
       "      <td>john f kennedy international airport, vitona e...</td>\n",
       "      <td>62</td>\n",
       "    </tr>\n",
       "    <tr>\n",
       "      <th>225</th>\n",
       "      <td>john f kennedy international airport, vitona e...</td>\n",
       "      <td>62</td>\n",
       "    </tr>\n",
       "    <tr>\n",
       "      <th>98</th>\n",
       "      <td>john f kennedy international airport, cathay p...</td>\n",
       "      <td>61</td>\n",
       "    </tr>\n",
       "    <tr>\n",
       "      <th>155</th>\n",
       "      <td>john f kennedy international airport, cathay p...</td>\n",
       "      <td>61</td>\n",
       "    </tr>\n",
       "    <tr>\n",
       "      <th>260</th>\n",
       "      <td>279 prospect park west, bk ny; st: w41 st./ 10...</td>\n",
       "      <td>59</td>\n",
       "    </tr>\n",
       "    <tr>\n",
       "      <th>113</th>\n",
       "      <td>john f kennedy international airport, american...</td>\n",
       "      <td>56</td>\n",
       "    </tr>\n",
       "  </tbody>\n",
       "</table>\n",
       "</div>"
      ],
      "text/plain": [
       "                                            PU_Address  PU_Address_length\n",
       "97   columbia university, 630 w 168 st., ny ny; st:...                105\n",
       "73   356 w23 st., ny ny; st: newark liberty interna...                 78\n",
       "209  homewood suites by hilton harrisburg, 3990 tec...                 70\n",
       "203  john f kennedy international airport, klm roya...                 63\n",
       "221  john f kennedy international airport, vitona e...                 62\n",
       "225  john f kennedy international airport, vitona e...                 62\n",
       "98   john f kennedy international airport, cathay p...                 61\n",
       "155  john f kennedy international airport, cathay p...                 61\n",
       "260  279 prospect park west, bk ny; st: w41 st./ 10...                 59\n",
       "113  john f kennedy international airport, american...                 56"
      ]
     },
     "execution_count": 13,
     "metadata": {},
     "output_type": "execute_result"
    }
   ],
   "source": [
    "taxi[['PU_Address','PU_Address_length']].nlargest(n=10,columns='PU_Address_length')"
   ]
  },
  {
   "cell_type": "code",
   "execution_count": 14,
   "id": "c5dc22ac",
   "metadata": {},
   "outputs": [
    {
     "data": {
      "text/plain": [
       "'columbia university, 630 w 168 st., ny ny; st: woodburry outlets, 264 red apple court, central valley ny;'"
      ]
     },
     "execution_count": 14,
     "metadata": {},
     "output_type": "execute_result"
    }
   ],
   "source": [
    "taxi.loc[97,'PU_Address']"
   ]
  },
  {
   "cell_type": "code",
   "execution_count": 15,
   "id": "ebf856a7",
   "metadata": {},
   "outputs": [
    {
     "data": {
      "text/plain": [
       "'356 w23 st., ny ny; st: newark liberty international airport, united airlines;'"
      ]
     },
     "execution_count": 15,
     "metadata": {},
     "output_type": "execute_result"
    }
   ],
   "source": [
    "taxi.loc[73,'PU_Address']"
   ]
  },
  {
   "cell_type": "code",
   "execution_count": 16,
   "id": "462fd043",
   "metadata": {},
   "outputs": [
    {
     "data": {
      "text/plain": [
       "'homewood suites by hilton harrisburg, 3990 tecport dr., harrisburg pa;'"
      ]
     },
     "execution_count": 16,
     "metadata": {},
     "output_type": "execute_result"
    }
   ],
   "source": [
    "taxi.loc[209,'PU_Address']"
   ]
  },
  {
   "cell_type": "code",
   "execution_count": 17,
   "id": "c0f2e2de",
   "metadata": {},
   "outputs": [
    {
     "data": {
      "text/plain": [
       "'john f kennedy international airport, klm royal dutch airlines;'"
      ]
     },
     "execution_count": 17,
     "metadata": {},
     "output_type": "execute_result"
    }
   ],
   "source": [
    "taxi.loc[203,'PU_Address']"
   ]
  },
  {
   "cell_type": "code",
   "execution_count": 18,
   "id": "cf4a9100",
   "metadata": {},
   "outputs": [
    {
     "data": {
      "text/plain": [
       "0      False\n",
       "1      False\n",
       "2      False\n",
       "3      False\n",
       "4      False\n",
       "       ...  \n",
       "262    False\n",
       "263    False\n",
       "264    False\n",
       "265    False\n",
       "266    False\n",
       "Name: PU_Address, Length: 267, dtype: bool"
      ]
     },
     "execution_count": 18,
     "metadata": {},
     "output_type": "execute_result"
    }
   ],
   "source": [
    "taxi['PU_Address'].str.contains('airport')"
   ]
  },
  {
   "cell_type": "code",
   "execution_count": 19,
   "id": "c2d149f6",
   "metadata": {},
   "outputs": [
    {
     "data": {
      "text/plain": [
       "john f kennedy international airport, delta air lines;                            4\n",
       "la guardia airport, american airlines;                                            3\n",
       "john f kennedy international airport;                                             2\n",
       "la guardia airport, southwest airlines;                                           2\n",
       "john f kennedy international airport, cathay pacific airways;                     2\n",
       "john f kennedy international airport, vitona eastern airlines;                    2\n",
       "la guardia airport;                                                               2\n",
       "john f kennedy international airport, vitona airlines;                            2\n",
       "john f kennedy international airport, jetblue airways;                            1\n",
       "la guardia airport, united airlines;                                              1\n",
       "newark liberty international airport, united airlines;                            1\n",
       "john f kennedy international airport, klm royal dutch airlines;                   1\n",
       "john f kennedy international airport, japan airlines;                             1\n",
       "john f kennedy international airport, eva air;                                    1\n",
       "newark liberty international airport, american airlines;                          1\n",
       "la guardia airport, delta air lines;                                              1\n",
       "john f kennedy international airport, virgin atlantic;                            1\n",
       "la guardia airport, us airways;                                                   1\n",
       "john f kennedy international airport, american airlines;                          1\n",
       "la guardia airport, jetblue airways;                                              1\n",
       "356 w23 st., ny ny; st: newark liberty international airport, united airlines;    1\n",
       "john f kennedy international airport, korean air;                                 1\n",
       "Name: PU_Address, dtype: int64"
      ]
     },
     "execution_count": 19,
     "metadata": {},
     "output_type": "execute_result"
    }
   ],
   "source": [
    "taxi_airport = taxi[taxi['PU_Address'].str.contains('airport')]\n",
    "taxi_airport['PU_Address'].value_counts()"
   ]
  },
  {
   "cell_type": "code",
   "execution_count": 20,
   "id": "13658984",
   "metadata": {},
   "outputs": [
    {
     "data": {
      "text/plain": [
       "0           brooklyn museum, 200 eastern pkwy., bk ny;\n",
       "1                       33 robert dr., short hills nj;\n",
       "2                             60 glenmore ave., bk ny;\n",
       "3                              128 east 31 st., bk ny;\n",
       "4                         139-39 35 ave., flushing ny;\n",
       "                            ...                       \n",
       "262    907 59 st., bk ny; st: w66 st./broadway, ny ny;\n",
       "263                                20 west st., ny ny;\n",
       "264                         474 sackett street, bk ny;\n",
       "265                         474 sackett street, bk ny;\n",
       "266                                 152 7 ave., bk ny;\n",
       "Name: PU_Address, Length: 267, dtype: object"
      ]
     },
     "execution_count": 20,
     "metadata": {},
     "output_type": "execute_result"
    }
   ],
   "source": [
    "taxi['PU_Address']"
   ]
  },
  {
   "cell_type": "code",
   "execution_count": 21,
   "id": "992fdf45",
   "metadata": {},
   "outputs": [
    {
     "data": {
      "text/plain": [
       "0      b\n",
       "1      3\n",
       "2      6\n",
       "3      1\n",
       "4      1\n",
       "      ..\n",
       "262    9\n",
       "263    2\n",
       "264    4\n",
       "265    4\n",
       "266    1\n",
       "Name: PU_Address, Length: 267, dtype: object"
      ]
     },
     "execution_count": 21,
     "metadata": {},
     "output_type": "execute_result"
    }
   ],
   "source": [
    "taxi['PU_Address'].str[0]"
   ]
  },
  {
   "cell_type": "code",
   "execution_count": 22,
   "id": "6a1b6b1b",
   "metadata": {},
   "outputs": [
    {
     "data": {
      "text/plain": [
       "0      brook\n",
       "1      33 ro\n",
       "2      60 gl\n",
       "3      128 e\n",
       "4      139-3\n",
       "       ...  \n",
       "262    907 5\n",
       "263    20 we\n",
       "264    474 s\n",
       "265    474 s\n",
       "266    152 7\n",
       "Name: PU_Address, Length: 267, dtype: object"
      ]
     },
     "execution_count": 22,
     "metadata": {},
     "output_type": "execute_result"
    }
   ],
   "source": [
    "taxi['PU_Address'].str[:5]"
   ]
  },
  {
   "cell_type": "code",
   "execution_count": 23,
   "id": "bee039e7",
   "metadata": {},
   "outputs": [
    {
     "data": {
      "text/plain": [
       "0      ny;\n",
       "1      nj;\n",
       "2      ny;\n",
       "3      ny;\n",
       "4      ny;\n",
       "      ... \n",
       "262    ny;\n",
       "263    ny;\n",
       "264    ny;\n",
       "265    ny;\n",
       "266    ny;\n",
       "Name: PU_Address, Length: 267, dtype: object"
      ]
     },
     "execution_count": 23,
     "metadata": {},
     "output_type": "execute_result"
    }
   ],
   "source": [
    "taxi['PU_Address'].str[-3:]"
   ]
  },
  {
   "cell_type": "code",
   "execution_count": 24,
   "id": "1004087e",
   "metadata": {},
   "outputs": [],
   "source": [
    "taxi['PU_Address'] = taxi['PU_Address'].str.replace(' ny;', ' new york;')"
   ]
  },
  {
   "cell_type": "code",
   "execution_count": 25,
   "id": "c4f4d2cc",
   "metadata": {},
   "outputs": [
    {
     "data": {
      "text/plain": [
       "0       brooklyn museum, 200 eastern pkwy., bk new york;\n",
       "1                         33 robert dr., short hills nj;\n",
       "2                         60 glenmore ave., bk new york;\n",
       "3                          128 east 31 st., bk new york;\n",
       "4                     139-39 35 ave., flushing new york;\n",
       "                             ...                        \n",
       "262    907 59 st., bk new york; st: w66 st./broadway,...\n",
       "263                            20 west st., ny new york;\n",
       "264                     474 sackett street, bk new york;\n",
       "265                     474 sackett street, bk new york;\n",
       "266                             152 7 ave., bk new york;\n",
       "Name: PU_Address, Length: 267, dtype: object"
      ]
     },
     "execution_count": 25,
     "metadata": {},
     "output_type": "execute_result"
    }
   ],
   "source": [
    "taxi['PU_Address']"
   ]
  },
  {
   "cell_type": "code",
   "execution_count": 26,
   "id": "a5346795",
   "metadata": {},
   "outputs": [
    {
     "data": {
      "text/plain": [
       "0      False\n",
       "1      False\n",
       "2      False\n",
       "3      False\n",
       "4      False\n",
       "       ...  \n",
       "262    False\n",
       "263    False\n",
       "264    False\n",
       "265    False\n",
       "266    False\n",
       "Name: PU_Address, Length: 267, dtype: bool"
      ]
     },
     "execution_count": 26,
     "metadata": {},
     "output_type": "execute_result"
    }
   ],
   "source": [
    "taxi['PU_Address'].str.startswith('best western')"
   ]
  },
  {
   "cell_type": "code",
   "execution_count": 27,
   "id": "a16c468a",
   "metadata": {},
   "outputs": [
    {
     "data": {
      "text/plain": [
       "42       best western inn, 522 w38 st., ny new york;\n",
       "102     best western inn, 522 w 38 st., ny new york;\n",
       "173    best western hotel, 522 w38 st., ny new york;\n",
       "194    best western hotel, 522 w38 st., ny new york;\n",
       "Name: PU_Address, dtype: object"
      ]
     },
     "execution_count": 27,
     "metadata": {},
     "output_type": "execute_result"
    }
   ],
   "source": [
    "taxi.loc[taxi['PU_Address'].str.startswith('best western'), 'PU_Address']"
   ]
  },
  {
   "cell_type": "code",
   "execution_count": 28,
   "id": "eabb63c2",
   "metadata": {},
   "outputs": [
    {
     "data": {
      "text/plain": [
       "0      False\n",
       "1       True\n",
       "2      False\n",
       "3      False\n",
       "4      False\n",
       "       ...  \n",
       "262    False\n",
       "263    False\n",
       "264    False\n",
       "265    False\n",
       "266    False\n",
       "Name: PU_Address, Length: 267, dtype: bool"
      ]
     },
     "execution_count": 28,
     "metadata": {},
     "output_type": "execute_result"
    }
   ],
   "source": [
    "taxi['PU_Address'].str.endswith('nj;')"
   ]
  },
  {
   "cell_type": "code",
   "execution_count": 29,
   "id": "0329abaa",
   "metadata": {
    "scrolled": true
   },
   "outputs": [
    {
     "data": {
      "text/plain": [
       "1                        33 robert dr., short hills nj;\n",
       "32                           91 bleeker st., newark nj;\n",
       "68    wyndham garden hotel, 550 route 1/9 south, new...\n",
       "Name: PU_Address, dtype: object"
      ]
     },
     "execution_count": 29,
     "metadata": {},
     "output_type": "execute_result"
    }
   ],
   "source": [
    "taxi.loc[taxi['PU_Address'].str.endswith('nj;'), 'PU_Address']"
   ]
  },
  {
   "cell_type": "markdown",
   "id": "b22c7a2c",
   "metadata": {},
   "source": [
    "<img src='regular_expression.jpg' style='width:700px;length:750px'>"
   ]
  },
  {
   "cell_type": "code",
   "execution_count": null,
   "id": "fc706aa3",
   "metadata": {},
   "outputs": [],
   "source": []
  }
 ],
 "metadata": {
  "kernelspec": {
   "display_name": "Python 3 (ipykernel)",
   "language": "python",
   "name": "python3"
  },
  "language_info": {
   "codemirror_mode": {
    "name": "ipython",
    "version": 3
   },
   "file_extension": ".py",
   "mimetype": "text/x-python",
   "name": "python",
   "nbconvert_exporter": "python",
   "pygments_lexer": "ipython3",
   "version": "3.9.7"
  }
 },
 "nbformat": 4,
 "nbformat_minor": 5
}
