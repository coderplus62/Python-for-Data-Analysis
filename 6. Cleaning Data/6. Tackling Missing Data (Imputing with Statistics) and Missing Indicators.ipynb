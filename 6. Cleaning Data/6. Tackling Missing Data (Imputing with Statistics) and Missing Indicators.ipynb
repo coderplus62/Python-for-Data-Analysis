{
 "cells": [
  {
   "cell_type": "markdown",
   "id": "60c965c4",
   "metadata": {},
   "source": [
    "<img src='imputing_with_statistics.jpg' style='width:350px;length:340px'>"
   ]
  },
  {
   "cell_type": "markdown",
   "id": "8434a262",
   "metadata": {},
   "source": [
    "# Using Pandas"
   ]
  },
  {
   "cell_type": "code",
   "execution_count": 1,
   "id": "364159be",
   "metadata": {},
   "outputs": [],
   "source": [
    "import pandas as pd\n",
    "wdi = pd.read_pickle('wdi.pkl')\n",
    "num_cols = wdi.select_dtypes(include='number').columns\n",
    "cat_cols = wdi.select_dtypes(exclude='number').columns"
   ]
  },
  {
   "cell_type": "markdown",
   "id": "5d066762",
   "metadata": {},
   "source": [
    "## Get Mean and Median from Numeric Columns"
   ]
  },
  {
   "cell_type": "code",
   "execution_count": 2,
   "id": "8afa8dcc",
   "metadata": {},
   "outputs": [
    {
     "data": {
      "text/plain": [
       "access_to_electricity_pct         8.421552e+01\n",
       "atms_per_100000                   4.812857e+01\n",
       "compulsory_education_years        9.701456e+00\n",
       "health_expenditure_pct_of_gdp     6.433350e+00\n",
       "gdp_per_capita_usd                1.359989e+04\n",
       "gdp_per_capita_ppp                1.992523e+04\n",
       "life_expectancy_female            7.456947e+01\n",
       "life_expectancy_male              6.986652e+01\n",
       "life_expectancy                   7.217627e+01\n",
       "population_density                2.099738e+02\n",
       "population                        3.690135e+08\n",
       "alcohol_consumption_per_capita    6.016516e+00\n",
       "unemployment_rate_female          8.404762e+00\n",
       "unemployment_rate_male            6.465617e+00\n",
       "unemployment_rate                 7.047682e+00\n",
       "year                              2.017500e+03\n",
       "is_region                         2.119816e-01\n",
       "dtype: float64"
      ]
     },
     "execution_count": 2,
     "metadata": {},
     "output_type": "execute_result"
    }
   ],
   "source": [
    "wdi[num_cols].mean()"
   ]
  },
  {
   "cell_type": "code",
   "execution_count": 3,
   "id": "391b6386",
   "metadata": {},
   "outputs": [
    {
     "data": {
      "text/plain": [
       "access_to_electricity_pct         9.891294e+01\n",
       "atms_per_100000                   3.941107e+01\n",
       "compulsory_education_years        1.000000e+01\n",
       "health_expenditure_pct_of_gdp     6.006967e+00\n",
       "gdp_per_capita_usd                5.783711e+03\n",
       "gdp_per_capita_ppp                1.310845e+04\n",
       "life_expectancy_female            7.608850e+01\n",
       "life_expectancy_male              7.081350e+01\n",
       "life_expectancy                   7.358550e+01\n",
       "population_density                6.961068e+01\n",
       "population                        1.604842e+07\n",
       "alcohol_consumption_per_capita    5.837431e+00\n",
       "unemployment_rate_female          5.836087e+00\n",
       "unemployment_rate_male            5.351708e+00\n",
       "unemployment_rate                 5.606500e+00\n",
       "year                              2.017500e+03\n",
       "is_region                         0.000000e+00\n",
       "dtype: float64"
      ]
     },
     "execution_count": 3,
     "metadata": {},
     "output_type": "execute_result"
    }
   ],
   "source": [
    "wdi[num_cols].median()"
   ]
  },
  {
   "cell_type": "markdown",
   "id": "34478e35",
   "metadata": {},
   "source": [
    "## Fill the N/A in Num_cols with the mean"
   ]
  },
  {
   "cell_type": "code",
   "execution_count": 4,
   "id": "c074656a",
   "metadata": {},
   "outputs": [],
   "source": [
    "wdi[num_cols] = wdi[num_cols].fillna(wdi[num_cols].mean())\n",
    "# wdi[num_cols] = wdi[num_cols].fillna(wdi[num_cols].median()) => fill with median"
   ]
  },
  {
   "cell_type": "code",
   "execution_count": 5,
   "id": "3a27b367",
   "metadata": {},
   "outputs": [
    {
     "data": {
      "text/plain": [
       "6.016516     219\n",
       "0.690000       3\n",
       "9.230000       2\n",
       "12.030000      2\n",
       "0.682988       2\n",
       "            ... \n",
       "1.110000       1\n",
       "5.380000       1\n",
       "6.890000       1\n",
       "2.730000       1\n",
       "4.670000       1\n",
       "Name: alcohol_consumption_per_capita, Length: 205, dtype: int64"
      ]
     },
     "execution_count": 5,
     "metadata": {},
     "output_type": "execute_result"
    }
   ],
   "source": [
    "wdi['alcohol_consumption_per_capita'].value_counts(dropna=False)"
   ]
  },
  {
   "cell_type": "markdown",
   "id": "2207c88e",
   "metadata": {},
   "source": [
    "## Fill N/A in Categorical Columns with Most Freq"
   ]
  },
  {
   "cell_type": "code",
   "execution_count": 6,
   "id": "1b50d6a3",
   "metadata": {},
   "outputs": [
    {
     "data": {
      "text/html": [
       "<div>\n",
       "<style scoped>\n",
       "    .dataframe tbody tr th:only-of-type {\n",
       "        vertical-align: middle;\n",
       "    }\n",
       "\n",
       "    .dataframe tbody tr th {\n",
       "        vertical-align: top;\n",
       "    }\n",
       "\n",
       "    .dataframe thead th {\n",
       "        text-align: right;\n",
       "    }\n",
       "</style>\n",
       "<table border=\"1\" class=\"dataframe\">\n",
       "  <thead>\n",
       "    <tr style=\"text-align: right;\">\n",
       "      <th></th>\n",
       "      <th>country_name</th>\n",
       "      <th>country_category</th>\n",
       "    </tr>\n",
       "  </thead>\n",
       "  <tbody>\n",
       "    <tr>\n",
       "      <th>count</th>\n",
       "      <td>434</td>\n",
       "      <td>282</td>\n",
       "    </tr>\n",
       "    <tr>\n",
       "      <th>unique</th>\n",
       "      <td>217</td>\n",
       "      <td>2</td>\n",
       "    </tr>\n",
       "    <tr>\n",
       "      <th>top</th>\n",
       "      <td>Afghanistan</td>\n",
       "      <td>DEVELOPING</td>\n",
       "    </tr>\n",
       "    <tr>\n",
       "      <th>freq</th>\n",
       "      <td>2</td>\n",
       "      <td>224</td>\n",
       "    </tr>\n",
       "  </tbody>\n",
       "</table>\n",
       "</div>"
      ],
      "text/plain": [
       "       country_name country_category\n",
       "count           434              282\n",
       "unique          217                2\n",
       "top     Afghanistan       DEVELOPING\n",
       "freq              2              224"
      ]
     },
     "execution_count": 6,
     "metadata": {},
     "output_type": "execute_result"
    }
   ],
   "source": [
    "wdi[cat_cols].describe()"
   ]
  },
  {
   "cell_type": "code",
   "execution_count": 7,
   "id": "52fb9094",
   "metadata": {},
   "outputs": [
    {
     "data": {
      "text/plain": [
       "country_name        Afghanistan\n",
       "country_category     DEVELOPING\n",
       "Name: top, dtype: object"
      ]
     },
     "execution_count": 7,
     "metadata": {},
     "output_type": "execute_result"
    }
   ],
   "source": [
    "wdi[cat_cols].describe().loc['top']"
   ]
  },
  {
   "cell_type": "code",
   "execution_count": 8,
   "id": "51226714",
   "metadata": {},
   "outputs": [],
   "source": [
    "most_freq = wdi[cat_cols].describe().loc['top']"
   ]
  },
  {
   "cell_type": "code",
   "execution_count": 9,
   "id": "6478b739",
   "metadata": {},
   "outputs": [],
   "source": [
    "wdi[cat_cols] = wdi[cat_cols].fillna(most_freq)"
   ]
  },
  {
   "cell_type": "code",
   "execution_count": 11,
   "id": "eeedb90b",
   "metadata": {},
   "outputs": [
    {
     "data": {
      "text/plain": [
       "DEVELOPING    376\n",
       "DEVELOPED      58\n",
       "Name: country_category, dtype: int64"
      ]
     },
     "execution_count": 11,
     "metadata": {},
     "output_type": "execute_result"
    }
   ],
   "source": [
    "wdi['country_category'].value_counts(dropna=False)"
   ]
  },
  {
   "cell_type": "markdown",
   "id": "0f5ed760",
   "metadata": {},
   "source": [
    "# Working with Scikit-learn"
   ]
  },
  {
   "cell_type": "code",
   "execution_count": 12,
   "id": "3a1eb74f",
   "metadata": {},
   "outputs": [],
   "source": [
    "from sklearn.impute import SimpleImputer\n",
    "wdi = pd.read_pickle('wdi.pkl')\n",
    "num_cols = wdi.select_dtypes(include='number').columns\n",
    "cat_cols = wdi.select_dtypes(exclude='number').columns"
   ]
  },
  {
   "cell_type": "markdown",
   "id": "694e843b",
   "metadata": {},
   "source": [
    "## Fill N/A in Num_Cols with mean"
   ]
  },
  {
   "cell_type": "code",
   "execution_count": 13,
   "id": "ff36d115",
   "metadata": {},
   "outputs": [
    {
     "data": {
      "text/plain": [
       "6.016516     219\n",
       "0.690000       3\n",
       "9.230000       2\n",
       "12.030000      2\n",
       "0.682988       2\n",
       "            ... \n",
       "1.110000       1\n",
       "5.380000       1\n",
       "6.890000       1\n",
       "2.730000       1\n",
       "4.670000       1\n",
       "Name: alcohol_consumption_per_capita, Length: 205, dtype: int64"
      ]
     },
     "execution_count": 13,
     "metadata": {},
     "output_type": "execute_result"
    }
   ],
   "source": [
    "simple_imp_mean = SimpleImputer(strategy='mean')\n",
    "imputed_num_mean = simple_imp_mean.fit_transform(wdi[num_cols])\n",
    "wdi[num_cols] = imputed_num_mean\n",
    "wdi['alcohol_consumption_per_capita'].value_counts(dropna=False)"
   ]
  },
  {
   "cell_type": "markdown",
   "id": "e102a275",
   "metadata": {},
   "source": [
    "## Fill N/A in Cat_cols with Freq"
   ]
  },
  {
   "cell_type": "code",
   "execution_count": 14,
   "id": "a2e6d963",
   "metadata": {},
   "outputs": [
    {
     "data": {
      "text/plain": [
       "DEVELOPING    376\n",
       "DEVELOPED      58\n",
       "Name: country_category, dtype: int64"
      ]
     },
     "execution_count": 14,
     "metadata": {},
     "output_type": "execute_result"
    }
   ],
   "source": [
    "simple_imp_freq = SimpleImputer(strategy='most_frequent')\n",
    "imputed_cat_freq = simple_imp_freq.fit_transform(wdi[cat_cols])\n",
    "wdi[cat_cols] = imputed_cat_freq\n",
    "wdi['country_category'].value_counts(dropna=False)"
   ]
  },
  {
   "cell_type": "markdown",
   "id": "a52e87f2",
   "metadata": {},
   "source": [
    "## Working with Scikit-learn indicator"
   ]
  },
  {
   "cell_type": "code",
   "execution_count": 15,
   "id": "cb9fc111",
   "metadata": {},
   "outputs": [],
   "source": [
    "wdi = pd.read_pickle('wdi.pkl')"
   ]
  },
  {
   "cell_type": "code",
   "execution_count": 16,
   "id": "a932538b",
   "metadata": {},
   "outputs": [],
   "source": [
    "simple_imp_ind = SimpleImputer(strategy='mean', add_indicator=True)"
   ]
  },
  {
   "cell_type": "code",
   "execution_count": 17,
   "id": "a178dd53",
   "metadata": {},
   "outputs": [
    {
     "data": {
      "text/html": [
       "<div>\n",
       "<style scoped>\n",
       "    .dataframe tbody tr th:only-of-type {\n",
       "        vertical-align: middle;\n",
       "    }\n",
       "\n",
       "    .dataframe tbody tr th {\n",
       "        vertical-align: top;\n",
       "    }\n",
       "\n",
       "    .dataframe thead th {\n",
       "        text-align: right;\n",
       "    }\n",
       "</style>\n",
       "<table border=\"1\" class=\"dataframe\">\n",
       "  <thead>\n",
       "    <tr style=\"text-align: right;\">\n",
       "      <th></th>\n",
       "      <th>compulsory_education_years</th>\n",
       "    </tr>\n",
       "  </thead>\n",
       "  <tbody>\n",
       "    <tr>\n",
       "      <th>0</th>\n",
       "      <td>9.0</td>\n",
       "    </tr>\n",
       "    <tr>\n",
       "      <th>1</th>\n",
       "      <td>9.0</td>\n",
       "    </tr>\n",
       "    <tr>\n",
       "      <th>2</th>\n",
       "      <td>10.0</td>\n",
       "    </tr>\n",
       "    <tr>\n",
       "      <th>3</th>\n",
       "      <td>6.0</td>\n",
       "    </tr>\n",
       "    <tr>\n",
       "      <th>4</th>\n",
       "      <td>9.0</td>\n",
       "    </tr>\n",
       "    <tr>\n",
       "      <th>...</th>\n",
       "      <td>...</td>\n",
       "    </tr>\n",
       "    <tr>\n",
       "      <th>429</th>\n",
       "      <td>10.0</td>\n",
       "    </tr>\n",
       "    <tr>\n",
       "      <th>430</th>\n",
       "      <td>10.0</td>\n",
       "    </tr>\n",
       "    <tr>\n",
       "      <th>431</th>\n",
       "      <td>10.0</td>\n",
       "    </tr>\n",
       "    <tr>\n",
       "      <th>432</th>\n",
       "      <td>7.0</td>\n",
       "    </tr>\n",
       "    <tr>\n",
       "      <th>433</th>\n",
       "      <td>7.0</td>\n",
       "    </tr>\n",
       "  </tbody>\n",
       "</table>\n",
       "<p>434 rows × 1 columns</p>\n",
       "</div>"
      ],
      "text/plain": [
       "     compulsory_education_years\n",
       "0                           9.0\n",
       "1                           9.0\n",
       "2                          10.0\n",
       "3                           6.0\n",
       "4                           9.0\n",
       "..                          ...\n",
       "429                        10.0\n",
       "430                        10.0\n",
       "431                        10.0\n",
       "432                         7.0\n",
       "433                         7.0\n",
       "\n",
       "[434 rows x 1 columns]"
      ]
     },
     "execution_count": 17,
     "metadata": {},
     "output_type": "execute_result"
    }
   ],
   "source": [
    "wdi[['compulsory_education_years']]"
   ]
  },
  {
   "cell_type": "code",
   "execution_count": 18,
   "id": "dc8f5781",
   "metadata": {},
   "outputs": [
    {
     "data": {
      "text/plain": [
       "pandas.core.frame.DataFrame"
      ]
     },
     "execution_count": 18,
     "metadata": {},
     "output_type": "execute_result"
    }
   ],
   "source": [
    "type(wdi[['compulsory_education_years']])"
   ]
  },
  {
   "cell_type": "code",
   "execution_count": 19,
   "id": "400e1ff8",
   "metadata": {},
   "outputs": [
    {
     "data": {
      "text/plain": [
       "array([[ 9.        ,  0.        ],\n",
       "       [ 9.        ,  0.        ],\n",
       "       [10.        ,  0.        ],\n",
       "       [ 6.        ,  0.        ],\n",
       "       [ 9.        ,  0.        ],\n",
       "       [14.        ,  0.        ],\n",
       "       [12.        ,  0.        ],\n",
       "       [10.        ,  0.        ],\n",
       "       [13.        ,  0.        ],\n",
       "       [10.        ,  0.        ],\n",
       "       [12.        ,  0.        ],\n",
       "       [ 9.        ,  0.        ],\n",
       "       [ 5.        ,  0.        ],\n",
       "       [11.        ,  0.        ],\n",
       "       [ 9.        ,  0.        ],\n",
       "       [12.        ,  0.        ],\n",
       "       [ 8.        ,  0.        ],\n",
       "       [ 6.        ,  0.        ],\n",
       "       [ 9.70145631,  1.        ],\n",
       "       [14.        ,  0.        ]])"
      ]
     },
     "execution_count": 19,
     "metadata": {},
     "output_type": "execute_result"
    }
   ],
   "source": [
    "imputed_ind = simple_imp_ind.fit_transform(wdi[['compulsory_education_years']])\n",
    "imputed_ind[:20]"
   ]
  },
  {
   "cell_type": "code",
   "execution_count": 21,
   "id": "852254b1",
   "metadata": {},
   "outputs": [],
   "source": [
    "wdi[['compulsory_education_years','compulsory_education_years_missing']] = imputed_ind"
   ]
  },
  {
   "cell_type": "code",
   "execution_count": 23,
   "id": "5d72a357",
   "metadata": {},
   "outputs": [
    {
     "data": {
      "text/html": [
       "<div>\n",
       "<style scoped>\n",
       "    .dataframe tbody tr th:only-of-type {\n",
       "        vertical-align: middle;\n",
       "    }\n",
       "\n",
       "    .dataframe tbody tr th {\n",
       "        vertical-align: top;\n",
       "    }\n",
       "\n",
       "    .dataframe thead th {\n",
       "        text-align: right;\n",
       "    }\n",
       "</style>\n",
       "<table border=\"1\" class=\"dataframe\">\n",
       "  <thead>\n",
       "    <tr style=\"text-align: right;\">\n",
       "      <th></th>\n",
       "      <th>compulsory_education_years</th>\n",
       "      <th>compulsory_education_years_missing</th>\n",
       "    </tr>\n",
       "  </thead>\n",
       "  <tbody>\n",
       "    <tr>\n",
       "      <th>0</th>\n",
       "      <td>9.000000</td>\n",
       "      <td>0.0</td>\n",
       "    </tr>\n",
       "    <tr>\n",
       "      <th>1</th>\n",
       "      <td>9.000000</td>\n",
       "      <td>0.0</td>\n",
       "    </tr>\n",
       "    <tr>\n",
       "      <th>2</th>\n",
       "      <td>10.000000</td>\n",
       "      <td>0.0</td>\n",
       "    </tr>\n",
       "    <tr>\n",
       "      <th>3</th>\n",
       "      <td>6.000000</td>\n",
       "      <td>0.0</td>\n",
       "    </tr>\n",
       "    <tr>\n",
       "      <th>4</th>\n",
       "      <td>9.000000</td>\n",
       "      <td>0.0</td>\n",
       "    </tr>\n",
       "    <tr>\n",
       "      <th>5</th>\n",
       "      <td>14.000000</td>\n",
       "      <td>0.0</td>\n",
       "    </tr>\n",
       "    <tr>\n",
       "      <th>6</th>\n",
       "      <td>12.000000</td>\n",
       "      <td>0.0</td>\n",
       "    </tr>\n",
       "    <tr>\n",
       "      <th>7</th>\n",
       "      <td>10.000000</td>\n",
       "      <td>0.0</td>\n",
       "    </tr>\n",
       "    <tr>\n",
       "      <th>8</th>\n",
       "      <td>13.000000</td>\n",
       "      <td>0.0</td>\n",
       "    </tr>\n",
       "    <tr>\n",
       "      <th>9</th>\n",
       "      <td>10.000000</td>\n",
       "      <td>0.0</td>\n",
       "    </tr>\n",
       "    <tr>\n",
       "      <th>10</th>\n",
       "      <td>12.000000</td>\n",
       "      <td>0.0</td>\n",
       "    </tr>\n",
       "    <tr>\n",
       "      <th>11</th>\n",
       "      <td>9.000000</td>\n",
       "      <td>0.0</td>\n",
       "    </tr>\n",
       "    <tr>\n",
       "      <th>12</th>\n",
       "      <td>5.000000</td>\n",
       "      <td>0.0</td>\n",
       "    </tr>\n",
       "    <tr>\n",
       "      <th>13</th>\n",
       "      <td>11.000000</td>\n",
       "      <td>0.0</td>\n",
       "    </tr>\n",
       "    <tr>\n",
       "      <th>14</th>\n",
       "      <td>9.000000</td>\n",
       "      <td>0.0</td>\n",
       "    </tr>\n",
       "    <tr>\n",
       "      <th>15</th>\n",
       "      <td>12.000000</td>\n",
       "      <td>0.0</td>\n",
       "    </tr>\n",
       "    <tr>\n",
       "      <th>16</th>\n",
       "      <td>8.000000</td>\n",
       "      <td>0.0</td>\n",
       "    </tr>\n",
       "    <tr>\n",
       "      <th>17</th>\n",
       "      <td>6.000000</td>\n",
       "      <td>0.0</td>\n",
       "    </tr>\n",
       "    <tr>\n",
       "      <th>18</th>\n",
       "      <td>9.701456</td>\n",
       "      <td>1.0</td>\n",
       "    </tr>\n",
       "    <tr>\n",
       "      <th>19</th>\n",
       "      <td>14.000000</td>\n",
       "      <td>0.0</td>\n",
       "    </tr>\n",
       "  </tbody>\n",
       "</table>\n",
       "</div>"
      ],
      "text/plain": [
       "    compulsory_education_years  compulsory_education_years_missing\n",
       "0                     9.000000                                 0.0\n",
       "1                     9.000000                                 0.0\n",
       "2                    10.000000                                 0.0\n",
       "3                     6.000000                                 0.0\n",
       "4                     9.000000                                 0.0\n",
       "5                    14.000000                                 0.0\n",
       "6                    12.000000                                 0.0\n",
       "7                    10.000000                                 0.0\n",
       "8                    13.000000                                 0.0\n",
       "9                    10.000000                                 0.0\n",
       "10                   12.000000                                 0.0\n",
       "11                    9.000000                                 0.0\n",
       "12                    5.000000                                 0.0\n",
       "13                   11.000000                                 0.0\n",
       "14                    9.000000                                 0.0\n",
       "15                   12.000000                                 0.0\n",
       "16                    8.000000                                 0.0\n",
       "17                    6.000000                                 0.0\n",
       "18                    9.701456                                 1.0\n",
       "19                   14.000000                                 0.0"
      ]
     },
     "execution_count": 23,
     "metadata": {},
     "output_type": "execute_result"
    }
   ],
   "source": [
    "wdi[['compulsory_education_years','compulsory_education_years_missing']].head(20)"
   ]
  },
  {
   "cell_type": "code",
   "execution_count": null,
   "id": "ff667cf8",
   "metadata": {},
   "outputs": [],
   "source": []
  }
 ],
 "metadata": {
  "kernelspec": {
   "display_name": "Python 3 (ipykernel)",
   "language": "python",
   "name": "python3"
  },
  "language_info": {
   "codemirror_mode": {
    "name": "ipython",
    "version": 3
   },
   "file_extension": ".py",
   "mimetype": "text/x-python",
   "name": "python",
   "nbconvert_exporter": "python",
   "pygments_lexer": "ipython3",
   "version": "3.9.7"
  }
 },
 "nbformat": 4,
 "nbformat_minor": 5
}
