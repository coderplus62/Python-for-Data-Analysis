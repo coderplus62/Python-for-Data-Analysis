{
 "cells": [
  {
   "cell_type": "markdown",
   "id": "eccf6dd7",
   "metadata": {},
   "source": [
    "# If Statement"
   ]
  },
  {
   "cell_type": "markdown",
   "id": "77b23df5",
   "metadata": {},
   "source": [
    "<img src=\"if.jpg\" style=\"width:200px;height:200px\"/>"
   ]
  },
  {
   "cell_type": "code",
   "execution_count": 2,
   "id": "fefc2dc1",
   "metadata": {},
   "outputs": [
    {
     "name": "stdout",
     "output_type": "stream",
     "text": [
      "0.4==4/10 is True\n"
     ]
    }
   ],
   "source": [
    "if 0.4==4/10:\n",
    "    print('0.4==4/10 is True')"
   ]
  },
  {
   "cell_type": "code",
   "execution_count": 10,
   "id": "7726da6c",
   "metadata": {},
   "outputs": [],
   "source": [
    "import random"
   ]
  },
  {
   "cell_type": "code",
   "execution_count": 20,
   "id": "40f3e70e",
   "metadata": {},
   "outputs": [
    {
     "name": "stdout",
     "output_type": "stream",
     "text": [
      "Insert your prediction:2\n",
      "Dice show: 2 \n",
      " You are Win\n"
     ]
    }
   ],
   "source": [
    "dice = random.randrange(1,7)\n",
    "\n",
    "pred = int(input('Insert your prediction:'))\n",
    "\n",
    "if pred == dice:\n",
    "    print(f'Dice show: {dice} \\n You are Win')\n",
    "\n",
    "else:\n",
    "    print(f'Dice show: {dice} \\n Your are Lose')\n"
   ]
  },
  {
   "cell_type": "code",
   "execution_count": 23,
   "id": "18804a19",
   "metadata": {},
   "outputs": [
    {
     "name": "stdout",
     "output_type": "stream",
     "text": [
      "Enter your hobby id:3\n",
      "art\n"
     ]
    }
   ],
   "source": [
    "hobby = {1:'sport',2:'music',3:'art',4:'game'}\n",
    "picker = int(input('Enter your hobby id:'))\n",
    "\n",
    "if picker == 1:\n",
    "    print(hobby[picker])\n",
    "elif picker == 2:\n",
    "    print(hobby[picker])\n",
    "elif picker == 3:\n",
    "    print(hobby[picker])\n",
    "else:\n",
    "    print(hobby[picker])\n",
    "    \n"
   ]
  },
  {
   "cell_type": "markdown",
   "id": "8c783302",
   "metadata": {},
   "source": [
    "# For Loop"
   ]
  },
  {
   "cell_type": "markdown",
   "id": "0894029d",
   "metadata": {},
   "source": [
    "<img src=\"for.jpg\" style=\"width:200px;height:200px\"/>"
   ]
  },
  {
   "cell_type": "code",
   "execution_count": 24,
   "id": "424cb4a1",
   "metadata": {},
   "outputs": [],
   "source": [
    "num = [1,2,3,4,5,6]"
   ]
  },
  {
   "cell_type": "code",
   "execution_count": 25,
   "id": "d1b69815",
   "metadata": {},
   "outputs": [
    {
     "name": "stdout",
     "output_type": "stream",
     "text": [
      "1\n",
      "2\n",
      "3\n",
      "4\n",
      "5\n",
      "6\n"
     ]
    }
   ],
   "source": [
    "for i in num:\n",
    "    print(i)"
   ]
  },
  {
   "cell_type": "code",
   "execution_count": 26,
   "id": "a9908262",
   "metadata": {},
   "outputs": [
    {
     "name": "stdout",
     "output_type": "stream",
     "text": [
      "1 = odd\n",
      "2 = even\n",
      "3 = odd\n",
      "4 = even\n",
      "5 = odd\n",
      "6 = even\n"
     ]
    }
   ],
   "source": [
    "for x in num:\n",
    "    if x%2 == 0:\n",
    "        print(f'{x} = even')\n",
    "    else:\n",
    "        print(f'{x} = odd')"
   ]
  },
  {
   "cell_type": "code",
   "execution_count": 29,
   "id": "65d1c22b",
   "metadata": {},
   "outputs": [
    {
     "name": "stdout",
     "output_type": "stream",
     "text": [
      "0\n",
      "1\n",
      "2\n",
      "3\n",
      "4\n",
      "5\n"
     ]
    }
   ],
   "source": [
    "cum_num = 0\n",
    "for i in num:\n",
    "    print(cum_num)\n",
    "    cum_num+=1\n",
    "    "
   ]
  },
  {
   "cell_type": "code",
   "execution_count": 31,
   "id": "a110b165",
   "metadata": {},
   "outputs": [
    {
     "name": "stdout",
     "output_type": "stream",
     "text": [
      "s\n",
      "a\n",
      "s\n",
      "t\n",
      "r\n",
      "a\n"
     ]
    }
   ],
   "source": [
    "word = 'sastra'\n",
    "\n",
    "for a in word:\n",
    "    print(a)"
   ]
  },
  {
   "cell_type": "markdown",
   "id": "49d77d60",
   "metadata": {},
   "source": [
    "<img src=\"add.jpg\" style=\"width:300px;height:200px\"/>"
   ]
  },
  {
   "cell_type": "code",
   "execution_count": 32,
   "id": "6a994587",
   "metadata": {},
   "outputs": [],
   "source": [
    "list = [(1,2),(3,4),(5,6)]"
   ]
  },
  {
   "cell_type": "code",
   "execution_count": 33,
   "id": "0be09a51",
   "metadata": {},
   "outputs": [],
   "source": [
    "v1,v2 = 1,2"
   ]
  },
  {
   "cell_type": "code",
   "execution_count": 34,
   "id": "f3adf466",
   "metadata": {},
   "outputs": [
    {
     "data": {
      "text/plain": [
       "1"
      ]
     },
     "execution_count": 34,
     "metadata": {},
     "output_type": "execute_result"
    }
   ],
   "source": [
    "v1"
   ]
  },
  {
   "cell_type": "code",
   "execution_count": 35,
   "id": "be0e6d76",
   "metadata": {},
   "outputs": [
    {
     "data": {
      "text/plain": [
       "2"
      ]
     },
     "execution_count": 35,
     "metadata": {},
     "output_type": "execute_result"
    }
   ],
   "source": [
    "v2"
   ]
  },
  {
   "cell_type": "code",
   "execution_count": 36,
   "id": "a73c27c6",
   "metadata": {},
   "outputs": [
    {
     "name": "stdout",
     "output_type": "stream",
     "text": [
      "x = 1 and y = 2\n",
      "x = 3 and y = 4\n",
      "x = 5 and y = 6\n"
     ]
    }
   ],
   "source": [
    "for x,y in list:\n",
    "    print(f'x = {x} and y = {y}')"
   ]
  },
  {
   "cell_type": "code",
   "execution_count": 42,
   "id": "bf6ccf20",
   "metadata": {},
   "outputs": [],
   "source": [
    "hobby = {1:'sport',2:'music',3:'art',4:'game'}"
   ]
  },
  {
   "cell_type": "code",
   "execution_count": 43,
   "id": "2a469fb2",
   "metadata": {},
   "outputs": [
    {
     "name": "stdout",
     "output_type": "stream",
     "text": [
      "(1, 'sport')\n",
      "(2, 'music')\n",
      "(3, 'art')\n",
      "(4, 'game')\n"
     ]
    }
   ],
   "source": [
    "for pair in hobby.items():\n",
    "    print(pair)"
   ]
  },
  {
   "cell_type": "code",
   "execution_count": 45,
   "id": "7074e61a",
   "metadata": {},
   "outputs": [
    {
     "name": "stdout",
     "output_type": "stream",
     "text": [
      "number: 1 has hobby: sport\n",
      "number: 2 has hobby: music\n",
      "number: 3 has hobby: art\n",
      "number: 4 has hobby: game\n"
     ]
    }
   ],
   "source": [
    "for no, hob in hobby.items():\n",
    "    print(f'number: {no} has hobby: {hob}')"
   ]
  },
  {
   "cell_type": "code",
   "execution_count": 46,
   "id": "2493dcf0",
   "metadata": {},
   "outputs": [
    {
     "name": "stdout",
     "output_type": "stream",
     "text": [
      "sport\n",
      "music\n",
      "art\n",
      "game\n"
     ]
    }
   ],
   "source": [
    "for no, hob in hobby.items():\n",
    "    print(hob)"
   ]
  },
  {
   "cell_type": "markdown",
   "id": "54d56315",
   "metadata": {},
   "source": [
    "# While Loop"
   ]
  },
  {
   "cell_type": "markdown",
   "id": "75f19832",
   "metadata": {},
   "source": [
    "<img src=\"while.jpg\" style=\"width:300px;height:200px\"/>"
   ]
  },
  {
   "cell_type": "code",
   "execution_count": 55,
   "id": "63470bd0",
   "metadata": {},
   "outputs": [
    {
     "name": "stdout",
     "output_type": "stream",
     "text": [
      "0\n",
      "1\n",
      "2\n",
      "3\n",
      "4\n",
      "5\n",
      "6\n",
      "7\n",
      "8\n",
      "9\n",
      "10\n",
      "11 is more than 10\n"
     ]
    }
   ],
   "source": [
    "stopper = 10\n",
    "i = 0\n",
    "\n",
    "while i<=stopper:\n",
    "    print(i)\n",
    "    i+=1\n",
    "else:\n",
    "    print(i,'is more than',stopper)"
   ]
  },
  {
   "cell_type": "markdown",
   "id": "4394d6db",
   "metadata": {},
   "source": [
    "# Loops Using Range"
   ]
  },
  {
   "cell_type": "code",
   "execution_count": 59,
   "id": "912b6f7c",
   "metadata": {},
   "outputs": [],
   "source": [
    "x = range(10)"
   ]
  },
  {
   "cell_type": "code",
   "execution_count": 60,
   "id": "f828966b",
   "metadata": {},
   "outputs": [
    {
     "name": "stdout",
     "output_type": "stream",
     "text": [
      "range(0, 10)\n"
     ]
    }
   ],
   "source": [
    "print(x)"
   ]
  },
  {
   "cell_type": "code",
   "execution_count": 61,
   "id": "366c02e7",
   "metadata": {},
   "outputs": [
    {
     "name": "stdout",
     "output_type": "stream",
     "text": [
      "0\n",
      "1\n",
      "2\n",
      "3\n",
      "4\n",
      "5\n",
      "6\n",
      "7\n",
      "8\n",
      "9\n",
      "10\n",
      "11\n",
      "12\n",
      "13\n"
     ]
    }
   ],
   "source": [
    "x = 14\n",
    "\n",
    "for i in range(x):\n",
    "    print(i)"
   ]
  },
  {
   "cell_type": "code",
   "execution_count": 63,
   "id": "5e2d043c",
   "metadata": {},
   "outputs": [
    {
     "name": "stdout",
     "output_type": "stream",
     "text": [
      "4\n",
      "6\n",
      "8\n",
      "10\n",
      "12\n",
      "14\n"
     ]
    }
   ],
   "source": [
    "start = 4\n",
    "end = 15\n",
    "step = 2\n",
    "\n",
    "for i in range(start,end,step):\n",
    "    print(i)"
   ]
  },
  {
   "cell_type": "code",
   "execution_count": 66,
   "id": "0853181d",
   "metadata": {},
   "outputs": [
    {
     "name": "stdout",
     "output_type": "stream",
     "text": [
      "a\n",
      "b\n",
      "c\n",
      "d\n",
      "e\n",
      "f\n",
      "g\n",
      "\n",
      "Counter = 7\n"
     ]
    }
   ],
   "source": [
    "letters = ['a','b','c','d','e','f','g']\n",
    "counter = 0\n",
    "\n",
    "for i in letters:\n",
    "    print(i)\n",
    "    counter+=1\n",
    "print('\\nCounter =',counter)"
   ]
  },
  {
   "cell_type": "code",
   "execution_count": 69,
   "id": "da519592",
   "metadata": {},
   "outputs": [
    {
     "name": "stdout",
     "output_type": "stream",
     "text": [
      "0 a\n",
      "1 b\n",
      "2 c\n",
      "3 d\n",
      "4 e\n",
      "5 f\n",
      "6 g\n",
      "\n",
      "Counter = 7\n"
     ]
    }
   ],
   "source": [
    "letters = ['a','b','c','d','e','f','g']\n",
    "counter = 0\n",
    "\n",
    "for x,y in enumerate(letters):\n",
    "    print(x,y)\n",
    "    counter+=1\n",
    "print('\\nCounter =',counter)"
   ]
  }
 ],
 "metadata": {
  "kernelspec": {
   "display_name": "Python 3 (ipykernel)",
   "language": "python",
   "name": "python3"
  },
  "language_info": {
   "codemirror_mode": {
    "name": "ipython",
    "version": 3
   },
   "file_extension": ".py",
   "mimetype": "text/x-python",
   "name": "python",
   "nbconvert_exporter": "python",
   "pygments_lexer": "ipython3",
   "version": "3.9.7"
  }
 },
 "nbformat": 4,
 "nbformat_minor": 5
}
