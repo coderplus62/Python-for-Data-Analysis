{
 "cells": [
  {
   "cell_type": "code",
   "execution_count": 1,
   "id": "0dbe6735",
   "metadata": {},
   "outputs": [],
   "source": [
    "Q = 'what is your favorite pet'\n",
    "A = 'dog'"
   ]
  },
  {
   "cell_type": "code",
   "execution_count": 2,
   "id": "f6611cb2",
   "metadata": {},
   "outputs": [
    {
     "data": {
      "text/plain": [
       "'what is your favorite petdog'"
      ]
     },
     "execution_count": 2,
     "metadata": {},
     "output_type": "execute_result"
    }
   ],
   "source": [
    "Q + A"
   ]
  },
  {
   "cell_type": "code",
   "execution_count": 3,
   "id": "fb50aadf",
   "metadata": {},
   "outputs": [
    {
     "data": {
      "text/plain": [
       "'dog'"
      ]
     },
     "execution_count": 3,
     "metadata": {},
     "output_type": "execute_result"
    }
   ],
   "source": [
    "Q\n",
    "A"
   ]
  },
  {
   "cell_type": "code",
   "execution_count": 4,
   "id": "530aecd1",
   "metadata": {},
   "outputs": [
    {
     "name": "stdout",
     "output_type": "stream",
     "text": [
      "what is your favorite pet\n",
      "dog\n"
     ]
    }
   ],
   "source": [
    "print(Q)\n",
    "print(A)"
   ]
  },
  {
   "cell_type": "code",
   "execution_count": 5,
   "id": "9de8d0ea",
   "metadata": {},
   "outputs": [
    {
     "name": "stdout",
     "output_type": "stream",
     "text": [
      "what is your favorite pet\n",
      "dog\n"
     ]
    }
   ],
   "source": [
    "print(Q + '\\n' + A)"
   ]
  },
  {
   "cell_type": "code",
   "execution_count": 6,
   "id": "165ea319",
   "metadata": {},
   "outputs": [
    {
     "data": {
      "text/plain": [
       "3"
      ]
     },
     "execution_count": 6,
     "metadata": {},
     "output_type": "execute_result"
    }
   ],
   "source": [
    "len(A)"
   ]
  },
  {
   "cell_type": "code",
   "execution_count": 7,
   "id": "1bcfe096",
   "metadata": {},
   "outputs": [
    {
     "name": "stdout",
     "output_type": "stream",
     "text": [
      "what is your favorite pet\n"
     ]
    }
   ],
   "source": [
    "print(Q)"
   ]
  },
  {
   "cell_type": "code",
   "execution_count": 8,
   "id": "db6443b0",
   "metadata": {},
   "outputs": [
    {
     "data": {
      "text/plain": [
       "25"
      ]
     },
     "execution_count": 8,
     "metadata": {},
     "output_type": "execute_result"
    }
   ],
   "source": [
    "len(Q)"
   ]
  },
  {
   "cell_type": "markdown",
   "id": "041d588f",
   "metadata": {},
   "source": [
    "# Index"
   ]
  },
  {
   "cell_type": "code",
   "execution_count": 9,
   "id": "9d6fa6ef",
   "metadata": {},
   "outputs": [
    {
     "name": "stdout",
     "output_type": "stream",
     "text": [
      "what is your favorite pet\n"
     ]
    }
   ],
   "source": [
    "print(Q)"
   ]
  },
  {
   "cell_type": "code",
   "execution_count": 10,
   "id": "ad6318b3",
   "metadata": {},
   "outputs": [
    {
     "data": {
      "text/plain": [
       "'w'"
      ]
     },
     "execution_count": 10,
     "metadata": {},
     "output_type": "execute_result"
    }
   ],
   "source": [
    "Q[0]"
   ]
  },
  {
   "cell_type": "code",
   "execution_count": 14,
   "id": "007308d3",
   "metadata": {},
   "outputs": [
    {
     "data": {
      "text/plain": [
       "'i'"
      ]
     },
     "execution_count": 14,
     "metadata": {},
     "output_type": "execute_result"
    }
   ],
   "source": [
    "Q[5]"
   ]
  },
  {
   "cell_type": "code",
   "execution_count": 13,
   "id": "4bdc718f",
   "metadata": {},
   "outputs": [
    {
     "data": {
      "text/plain": [
       "'t'"
      ]
     },
     "execution_count": 13,
     "metadata": {},
     "output_type": "execute_result"
    }
   ],
   "source": [
    "Q[-1]"
   ]
  },
  {
   "cell_type": "markdown",
   "id": "0fc0b049",
   "metadata": {},
   "source": [
    "# Slicing"
   ]
  },
  {
   "cell_type": "markdown",
   "id": "116c195c",
   "metadata": {},
   "source": [
    "variable_name[start:stop:step]"
   ]
  },
  {
   "cell_type": "code",
   "execution_count": 15,
   "id": "823f0e21",
   "metadata": {},
   "outputs": [
    {
     "name": "stdout",
     "output_type": "stream",
     "text": [
      "what is your favorite pet\n"
     ]
    }
   ],
   "source": [
    "print(Q)"
   ]
  },
  {
   "cell_type": "code",
   "execution_count": 16,
   "id": "6c1df417",
   "metadata": {},
   "outputs": [
    {
     "data": {
      "text/plain": [
       "'what'"
      ]
     },
     "execution_count": 16,
     "metadata": {},
     "output_type": "execute_result"
    }
   ],
   "source": [
    "Q[0:4]"
   ]
  },
  {
   "cell_type": "code",
   "execution_count": 17,
   "id": "59a928c6",
   "metadata": {},
   "outputs": [
    {
     "data": {
      "text/plain": [
       "'your'"
      ]
     },
     "execution_count": 17,
     "metadata": {},
     "output_type": "execute_result"
    }
   ],
   "source": [
    "Q[8:12]"
   ]
  },
  {
   "cell_type": "code",
   "execution_count": 18,
   "id": "1a84e355",
   "metadata": {},
   "outputs": [
    {
     "data": {
      "text/plain": [
       "'our favo'"
      ]
     },
     "execution_count": 18,
     "metadata": {},
     "output_type": "execute_result"
    }
   ],
   "source": [
    "Q[9:17]"
   ]
  },
  {
   "cell_type": "code",
   "execution_count": 19,
   "id": "f4368c83",
   "metadata": {},
   "outputs": [
    {
     "data": {
      "text/plain": [
       "'favorite'"
      ]
     },
     "execution_count": 19,
     "metadata": {},
     "output_type": "execute_result"
    }
   ],
   "source": [
    "Q[13:21]"
   ]
  },
  {
   "cell_type": "code",
   "execution_count": 20,
   "id": "13db107b",
   "metadata": {},
   "outputs": [
    {
     "data": {
      "text/plain": [
       "' sy'"
      ]
     },
     "execution_count": 20,
     "metadata": {},
     "output_type": "execute_result"
    }
   ],
   "source": [
    "Q[4:10:2]"
   ]
  },
  {
   "cell_type": "markdown",
   "id": "950e9c3b",
   "metadata": {},
   "source": [
    "# Method"
   ]
  },
  {
   "cell_type": "markdown",
   "id": "df9d9ca2",
   "metadata": {},
   "source": [
    "- associated with Python object/class such as string\n",
    "- called by its name on the Python object\n",
    "- e.g., st.upper()"
   ]
  },
  {
   "cell_type": "code",
   "execution_count": 22,
   "id": "14628fdf",
   "metadata": {},
   "outputs": [],
   "source": [
    "Q_cap = Q.upper()"
   ]
  },
  {
   "cell_type": "code",
   "execution_count": 23,
   "id": "8db7c5e7",
   "metadata": {},
   "outputs": [
    {
     "data": {
      "text/plain": [
       "'WHAT IS YOUR FAVORITE PET'"
      ]
     },
     "execution_count": 23,
     "metadata": {},
     "output_type": "execute_result"
    }
   ],
   "source": [
    "Q_cap"
   ]
  },
  {
   "cell_type": "code",
   "execution_count": 24,
   "id": "319e156b",
   "metadata": {},
   "outputs": [],
   "source": [
    "Q_low = Q.lower()"
   ]
  },
  {
   "cell_type": "code",
   "execution_count": 25,
   "id": "731e4c95",
   "metadata": {},
   "outputs": [
    {
     "data": {
      "text/plain": [
       "'what is your favorite pet'"
      ]
     },
     "execution_count": 25,
     "metadata": {},
     "output_type": "execute_result"
    }
   ],
   "source": [
    "Q_low"
   ]
  },
  {
   "cell_type": "code",
   "execution_count": 26,
   "id": "94cd5598",
   "metadata": {},
   "outputs": [
    {
     "data": {
      "text/plain": [
       "8"
      ]
     },
     "execution_count": 26,
     "metadata": {},
     "output_type": "execute_result"
    }
   ],
   "source": [
    "Q.find('your')"
   ]
  },
  {
   "cell_type": "code",
   "execution_count": 27,
   "id": "fee4f754",
   "metadata": {},
   "outputs": [
    {
     "data": {
      "text/plain": [
       "8"
      ]
     },
     "execution_count": 27,
     "metadata": {},
     "output_type": "execute_result"
    }
   ],
   "source": [
    "Q.find('y')"
   ]
  },
  {
   "cell_type": "code",
   "execution_count": 29,
   "id": "1039d95f",
   "metadata": {},
   "outputs": [],
   "source": [
    "ind = Q.find('pet')"
   ]
  },
  {
   "cell_type": "code",
   "execution_count": 30,
   "id": "9113b132",
   "metadata": {},
   "outputs": [
    {
     "name": "stdout",
     "output_type": "stream",
     "text": [
      "pet\n"
     ]
    }
   ],
   "source": [
    "print(Q[ind:])"
   ]
  },
  {
   "cell_type": "code",
   "execution_count": 36,
   "id": "daf3e836",
   "metadata": {},
   "outputs": [],
   "source": [
    "name = 'Sastra'\n",
    "univ = 'Sampoerna University'\n",
    "year = 2"
   ]
  },
  {
   "cell_type": "code",
   "execution_count": 38,
   "id": "5f0885db",
   "metadata": {},
   "outputs": [
    {
     "name": "stdout",
     "output_type": "stream",
     "text": [
      "Hello my name is SASTRA. I am currently student at sampoerna university. Now is my 4 year here.\n"
     ]
    }
   ],
   "source": [
    "print(f'Hello my name is {name.upper()}. I am currently student at {univ.lower()}. Now is my {year+2} year here.')"
   ]
  },
  {
   "cell_type": "code",
   "execution_count": null,
   "id": "de47d4e3",
   "metadata": {},
   "outputs": [],
   "source": []
  },
  {
   "cell_type": "code",
   "execution_count": null,
   "id": "543ca713",
   "metadata": {},
   "outputs": [],
   "source": []
  },
  {
   "cell_type": "code",
   "execution_count": null,
   "id": "34f5ae4c",
   "metadata": {},
   "outputs": [],
   "source": []
  },
  {
   "cell_type": "markdown",
   "id": "5acb9dfe",
   "metadata": {},
   "source": [
    "# Functions"
   ]
  },
  {
   "cell_type": "markdown",
   "id": "795b2dc9",
   "metadata": {},
   "source": [
    "- defined independently from a spesific Python object/class\n",
    "- called by its name only\n",
    "- e.g., print(st, print(num)"
   ]
  },
  {
   "cell_type": "code",
   "execution_count": null,
   "id": "257ad1de",
   "metadata": {},
   "outputs": [],
   "source": []
  }
 ],
 "metadata": {
  "kernelspec": {
   "display_name": "Python 3 (ipykernel)",
   "language": "python",
   "name": "python3"
  },
  "language_info": {
   "codemirror_mode": {
    "name": "ipython",
    "version": 3
   },
   "file_extension": ".py",
   "mimetype": "text/x-python",
   "name": "python",
   "nbconvert_exporter": "python",
   "pygments_lexer": "ipython3",
   "version": "3.9.7"
  }
 },
 "nbformat": 4,
 "nbformat_minor": 5
}
