{
 "cells": [
  {
   "cell_type": "markdown",
   "id": "d3192d5b",
   "metadata": {},
   "source": [
    "# Lambda Function"
   ]
  },
  {
   "cell_type": "markdown",
   "id": "9420db7f",
   "metadata": {},
   "source": [
    "<img src=\"lambda.jpg\" style=\"width:300px;height:200px\"/>"
   ]
  },
  {
   "cell_type": "code",
   "execution_count": 1,
   "id": "fbc36559",
   "metadata": {},
   "outputs": [],
   "source": [
    "def callback(a):\n",
    "    print(a)\n",
    "    return a"
   ]
  },
  {
   "cell_type": "code",
   "execution_count": 2,
   "id": "7cb21eed",
   "metadata": {},
   "outputs": [
    {
     "name": "stdout",
     "output_type": "stream",
     "text": [
      "Hy there\n"
     ]
    },
    {
     "data": {
      "text/plain": [
       "'Hy there'"
      ]
     },
     "execution_count": 2,
     "metadata": {},
     "output_type": "execute_result"
    }
   ],
   "source": [
    "callback('Hy there')"
   ]
  },
  {
   "cell_type": "code",
   "execution_count": 6,
   "id": "a7a59e86",
   "metadata": {},
   "outputs": [],
   "source": [
    "back = (lambda a:a)"
   ]
  },
  {
   "cell_type": "code",
   "execution_count": 7,
   "id": "623452d3",
   "metadata": {},
   "outputs": [
    {
     "data": {
      "text/plain": [
       "'I am in jakarta'"
      ]
     },
     "execution_count": 7,
     "metadata": {},
     "output_type": "execute_result"
    }
   ],
   "source": [
    "back('I am in jakarta')"
   ]
  },
  {
   "cell_type": "code",
   "execution_count": 8,
   "id": "38da118b",
   "metadata": {},
   "outputs": [],
   "source": [
    "sum_up = lambda a,b,c: a+b+c"
   ]
  },
  {
   "cell_type": "code",
   "execution_count": 9,
   "id": "176a62b9",
   "metadata": {},
   "outputs": [
    {
     "data": {
      "text/plain": [
       "9"
      ]
     },
     "execution_count": 9,
     "metadata": {},
     "output_type": "execute_result"
    }
   ],
   "source": [
    "sum_up(3,3,3)"
   ]
  },
  {
   "cell_type": "code",
   "execution_count": 10,
   "id": "00528100",
   "metadata": {},
   "outputs": [],
   "source": [
    "sum_up = lambda a=4,b=5,c=4: a+b+c"
   ]
  },
  {
   "cell_type": "code",
   "execution_count": 11,
   "id": "3c274a6b",
   "metadata": {},
   "outputs": [
    {
     "data": {
      "text/plain": [
       "13"
      ]
     },
     "execution_count": 11,
     "metadata": {},
     "output_type": "execute_result"
    }
   ],
   "source": [
    "sum_up()"
   ]
  },
  {
   "cell_type": "code",
   "execution_count": 12,
   "id": "217afddd",
   "metadata": {},
   "outputs": [],
   "source": [
    "id_string = ['g3','c2','d1','a4']"
   ]
  },
  {
   "cell_type": "code",
   "execution_count": 13,
   "id": "324feb31",
   "metadata": {},
   "outputs": [
    {
     "data": {
      "text/plain": [
       "['d1', 'c2', 'g3', 'a4']"
      ]
     },
     "execution_count": 13,
     "metadata": {},
     "output_type": "execute_result"
    }
   ],
   "source": [
    "def grab_index(x):\n",
    "    return x[1]\n",
    "\n",
    "id_string.sort(key=grab_index)\n",
    "id_string"
   ]
  },
  {
   "cell_type": "code",
   "execution_count": 17,
   "id": "4fe6c017",
   "metadata": {},
   "outputs": [
    {
     "data": {
      "text/plain": [
       "['d1', 'c2', 'g3', 'a4']"
      ]
     },
     "execution_count": 17,
     "metadata": {},
     "output_type": "execute_result"
    }
   ],
   "source": [
    "id_string.sort(key=(lambda x:x[1]))\n",
    "id_string"
   ]
  },
  {
   "cell_type": "markdown",
   "id": "7fd86b2b",
   "metadata": {},
   "source": [
    "# Conditional Expressions"
   ]
  },
  {
   "cell_type": "markdown",
   "id": "e631745b",
   "metadata": {},
   "source": [
    "<img src=\"conditional_exp.jpg\" style=\"width:300px;height:200px\"/>"
   ]
  },
  {
   "cell_type": "code",
   "execution_count": 18,
   "id": "1d6be699",
   "metadata": {},
   "outputs": [],
   "source": [
    "is_raining = True"
   ]
  },
  {
   "cell_type": "code",
   "execution_count": 19,
   "id": "ca13ba86",
   "metadata": {},
   "outputs": [],
   "source": [
    "if is_raining:\n",
    "    action = 'Stay at home'\n",
    "else:\n",
    "    action = 'Go for walk'"
   ]
  },
  {
   "cell_type": "code",
   "execution_count": 20,
   "id": "4551e59e",
   "metadata": {},
   "outputs": [
    {
     "data": {
      "text/plain": [
       "'Stay at home'"
      ]
     },
     "execution_count": 20,
     "metadata": {},
     "output_type": "execute_result"
    }
   ],
   "source": [
    "action"
   ]
  },
  {
   "cell_type": "code",
   "execution_count": 21,
   "id": "90028a27",
   "metadata": {},
   "outputs": [],
   "source": [
    "action = 'Stay at home' if is_raining else 'Go for walk'"
   ]
  },
  {
   "cell_type": "code",
   "execution_count": 22,
   "id": "50d7812e",
   "metadata": {},
   "outputs": [
    {
     "data": {
      "text/plain": [
       "'Stay at home'"
      ]
     },
     "execution_count": 22,
     "metadata": {},
     "output_type": "execute_result"
    }
   ],
   "source": [
    "action"
   ]
  },
  {
   "cell_type": "code",
   "execution_count": 24,
   "id": "406c98de",
   "metadata": {},
   "outputs": [],
   "source": [
    "a = 0\n",
    "action = 1 if a == 1 else 2 if a == 2 else 3 if a == 3 else 'not number 1, 2, 3'"
   ]
  },
  {
   "cell_type": "code",
   "execution_count": 25,
   "id": "7514bc5d",
   "metadata": {},
   "outputs": [
    {
     "data": {
      "text/plain": [
       "'not number 1, 2, 3'"
      ]
     },
     "execution_count": 25,
     "metadata": {},
     "output_type": "execute_result"
    }
   ],
   "source": [
    "action"
   ]
  },
  {
   "cell_type": "code",
   "execution_count": 26,
   "id": "513545cd",
   "metadata": {},
   "outputs": [],
   "source": [
    "a = 3\n",
    "action = 1 if a == 1 else 2 if a == 2 else 3 if a == 3 else 'not number 1, 2, 3'"
   ]
  },
  {
   "cell_type": "code",
   "execution_count": 27,
   "id": "d6610ddf",
   "metadata": {},
   "outputs": [
    {
     "data": {
      "text/plain": [
       "3"
      ]
     },
     "execution_count": 27,
     "metadata": {},
     "output_type": "execute_result"
    }
   ],
   "source": [
    "action"
   ]
  },
  {
   "cell_type": "code",
   "execution_count": 30,
   "id": "0000c3e7",
   "metadata": {},
   "outputs": [],
   "source": [
    "abs_value = lambda x: x if x>0 else -x"
   ]
  },
  {
   "cell_type": "code",
   "execution_count": 31,
   "id": "30a1c141",
   "metadata": {},
   "outputs": [
    {
     "data": {
      "text/plain": [
       "4"
      ]
     },
     "execution_count": 31,
     "metadata": {},
     "output_type": "execute_result"
    }
   ],
   "source": [
    "abs_value(-4)"
   ]
  }
 ],
 "metadata": {
  "kernelspec": {
   "display_name": "Python 3 (ipykernel)",
   "language": "python",
   "name": "python3"
  },
  "language_info": {
   "codemirror_mode": {
    "name": "ipython",
    "version": 3
   },
   "file_extension": ".py",
   "mimetype": "text/x-python",
   "name": "python",
   "nbconvert_exporter": "python",
   "pygments_lexer": "ipython3",
   "version": "3.9.7"
  }
 },
 "nbformat": 4,
 "nbformat_minor": 5
}
