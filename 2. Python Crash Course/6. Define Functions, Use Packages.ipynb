{
 "cells": [
  {
   "cell_type": "markdown",
   "id": "9f358f70",
   "metadata": {},
   "source": [
    "# Define Function"
   ]
  },
  {
   "cell_type": "markdown",
   "id": "76a0e15a",
   "metadata": {},
   "source": [
    "<img src=\"define_function.jpg\" style=\"width:300px;height:200px\"/>"
   ]
  },
  {
   "cell_type": "code",
   "execution_count": 1,
   "id": "d14a8541",
   "metadata": {},
   "outputs": [
    {
     "name": "stdout",
     "output_type": "stream",
     "text": [
      "Insert distance:75\n",
      "Insert time:2\n",
      "Distance: 75\n",
      "Time: 2\n",
      "Velocity: 37.5\n"
     ]
    }
   ],
   "source": [
    "distance = int(input('Insert distance:'))\n",
    "time = int(input('Insert time:'))\n",
    "\n",
    "def velocity(distance,time):\n",
    "    velocity = distance/time\n",
    "    print(f'Distance: {distance}\\nTime: {time}\\nVelocity: {velocity}')\n",
    "    \n",
    "velocity(distance,time)"
   ]
  },
  {
   "cell_type": "code",
   "execution_count": 2,
   "id": "213e6b53",
   "metadata": {},
   "outputs": [
    {
     "name": "stdout",
     "output_type": "stream",
     "text": [
      "Insert distance:10\n",
      "Insert time:2\n"
     ]
    }
   ],
   "source": [
    "distance = int(input('Insert distance:'))\n",
    "time = int(input('Insert time:'))\n",
    "\n",
    "def velocity(distance,time):\n",
    "    velocity = distance/time\n",
    "    print(f'Distance: {distance}\\nTime: {time}\\nVelocity: {velocity}')\n",
    "    return velocity"
   ]
  },
  {
   "cell_type": "code",
   "execution_count": 4,
   "id": "11bba5f5",
   "metadata": {},
   "outputs": [
    {
     "name": "stdout",
     "output_type": "stream",
     "text": [
      "Distance: 30\n",
      "Time: 3\n",
      "Velocity: 10.0\n"
     ]
    }
   ],
   "source": [
    "vel1 = velocity(distance=30,time=3)"
   ]
  },
  {
   "cell_type": "code",
   "execution_count": 5,
   "id": "76369f68",
   "metadata": {},
   "outputs": [
    {
     "name": "stdout",
     "output_type": "stream",
     "text": [
      "Distance: 25\n",
      "Time: 5\n",
      "Velocity: 5.0\n"
     ]
    }
   ],
   "source": [
    "vel2 = velocity(25,5)"
   ]
  },
  {
   "cell_type": "markdown",
   "id": "d04b2c9b",
   "metadata": {},
   "source": [
    "# Module"
   ]
  },
  {
   "cell_type": "markdown",
   "id": "e6ccae43",
   "metadata": {},
   "source": [
    "<img src=\"module.jpg\" style=\"width:300px;height:200px\"/>"
   ]
  },
  {
   "cell_type": "markdown",
   "id": "1f25e4be",
   "metadata": {},
   "source": [
    "<img src=\"module1.jpg\" style=\"width:300px;height:200px\"/>"
   ]
  },
  {
   "cell_type": "markdown",
   "id": "eff1bffa",
   "metadata": {},
   "source": [
    "# Import Module NumPy"
   ]
  },
  {
   "cell_type": "code",
   "execution_count": 7,
   "id": "123ef40c",
   "metadata": {},
   "outputs": [],
   "source": [
    "import numpy as np"
   ]
  },
  {
   "cell_type": "code",
   "execution_count": 9,
   "id": "21f9897d",
   "metadata": {},
   "outputs": [
    {
     "data": {
      "text/plain": [
       "array([ 0,  1,  2,  3,  4,  5,  6,  7,  8,  9, 10])"
      ]
     },
     "execution_count": 9,
     "metadata": {},
     "output_type": "execute_result"
    }
   ],
   "source": [
    "np.arange(11)"
   ]
  },
  {
   "cell_type": "code",
   "execution_count": 10,
   "id": "29e1d1b3",
   "metadata": {},
   "outputs": [],
   "source": [
    "from numpy import arange"
   ]
  },
  {
   "cell_type": "code",
   "execution_count": 11,
   "id": "d655f7b1",
   "metadata": {},
   "outputs": [
    {
     "data": {
      "text/plain": [
       "array([ 0,  1,  2,  3,  4,  5,  6,  7,  8,  9, 10])"
      ]
     },
     "execution_count": 11,
     "metadata": {},
     "output_type": "execute_result"
    }
   ],
   "source": [
    "arange(11)"
   ]
  },
  {
   "cell_type": "code",
   "execution_count": null,
   "id": "24715e89",
   "metadata": {},
   "outputs": [],
   "source": []
  }
 ],
 "metadata": {
  "kernelspec": {
   "display_name": "Python 3 (ipykernel)",
   "language": "python",
   "name": "python3"
  },
  "language_info": {
   "codemirror_mode": {
    "name": "ipython",
    "version": 3
   },
   "file_extension": ".py",
   "mimetype": "text/x-python",
   "name": "python",
   "nbconvert_exporter": "python",
   "pygments_lexer": "ipython3",
   "version": "3.9.7"
  }
 },
 "nbformat": 4,
 "nbformat_minor": 5
}
