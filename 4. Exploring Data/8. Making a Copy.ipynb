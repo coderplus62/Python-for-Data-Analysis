{
 "cells": [
  {
   "cell_type": "markdown",
   "id": "50c98d82",
   "metadata": {},
   "source": [
    "# Making a Copy"
   ]
  },
  {
   "cell_type": "code",
   "execution_count": 1,
   "id": "ffc4fd46",
   "metadata": {},
   "outputs": [],
   "source": [
    "import pandas as pd"
   ]
  },
  {
   "cell_type": "code",
   "execution_count": 2,
   "id": "df18c544",
   "metadata": {},
   "outputs": [],
   "source": [
    "hero = pd.read_pickle('hero_8.pkl')"
   ]
  },
  {
   "cell_type": "code",
   "execution_count": 4,
   "id": "abb869c6",
   "metadata": {},
   "outputs": [],
   "source": [
    "hero_ref = hero\n",
    "hero_copy = hero.copy()"
   ]
  },
  {
   "cell_type": "code",
   "execution_count": 5,
   "id": "304d399f",
   "metadata": {},
   "outputs": [],
   "source": [
    "hero['original_ind'] = True\n",
    "hero_ref['ref_ind'] = True\n",
    "hero_copy['copy_ind'] = True"
   ]
  },
  {
   "cell_type": "code",
   "execution_count": 6,
   "id": "ad683647",
   "metadata": {},
   "outputs": [
    {
     "data": {
      "text/plain": [
       "Index(['name', 'gender', 'eye color', 'race', 'hair color', 'height',\n",
       "       'publisher', 'alignment', 'weight', 'hero names',\n",
       "       ...\n",
       "       'symbiote costume', 'speed force', 'phoenix force',\n",
       "       'molecular dissipation', 'vision - cryo', 'omnipresent', 'omniscient',\n",
       "       'bmi', 'original_ind', 'ref_ind'],\n",
       "      dtype='object', length=180)"
      ]
     },
     "execution_count": 6,
     "metadata": {},
     "output_type": "execute_result"
    }
   ],
   "source": [
    "hero.columns"
   ]
  },
  {
   "cell_type": "code",
   "execution_count": 8,
   "id": "76cd53e7",
   "metadata": {},
   "outputs": [
    {
     "data": {
      "text/plain": [
       "Index(['name', 'gender', 'eye color', 'race', 'hair color', 'height',\n",
       "       'publisher', 'alignment', 'weight', 'hero names',\n",
       "       ...\n",
       "       'symbiote costume', 'speed force', 'phoenix force',\n",
       "       'molecular dissipation', 'vision - cryo', 'omnipresent', 'omniscient',\n",
       "       'bmi', 'original_ind', 'ref_ind'],\n",
       "      dtype='object', length=180)"
      ]
     },
     "execution_count": 8,
     "metadata": {},
     "output_type": "execute_result"
    }
   ],
   "source": [
    "hero_ref.columns"
   ]
  },
  {
   "cell_type": "code",
   "execution_count": 9,
   "id": "a4861834",
   "metadata": {},
   "outputs": [
    {
     "data": {
      "text/plain": [
       "Index(['name', 'gender', 'eye color', 'race', 'hair color', 'height',\n",
       "       'publisher', 'alignment', 'weight', 'hero names',\n",
       "       ...\n",
       "       'odin force', 'symbiote costume', 'speed force', 'phoenix force',\n",
       "       'molecular dissipation', 'vision - cryo', 'omnipresent', 'omniscient',\n",
       "       'bmi', 'copy_ind'],\n",
       "      dtype='object', length=179)"
      ]
     },
     "execution_count": 9,
     "metadata": {},
     "output_type": "execute_result"
    }
   ],
   "source": [
    "hero_copy.columns"
   ]
  },
  {
   "cell_type": "code",
   "execution_count": 10,
   "id": "695f5643",
   "metadata": {},
   "outputs": [
    {
     "data": {
      "text/plain": [
       "True"
      ]
     },
     "execution_count": 10,
     "metadata": {},
     "output_type": "execute_result"
    }
   ],
   "source": [
    "hero_ref is hero"
   ]
  },
  {
   "cell_type": "code",
   "execution_count": 11,
   "id": "76a905bd",
   "metadata": {},
   "outputs": [
    {
     "data": {
      "text/plain": [
       "False"
      ]
     },
     "execution_count": 11,
     "metadata": {},
     "output_type": "execute_result"
    }
   ],
   "source": [
    "hero_copy is hero"
   ]
  }
 ],
 "metadata": {
  "kernelspec": {
   "display_name": "Python 3 (ipykernel)",
   "language": "python",
   "name": "python3"
  },
  "language_info": {
   "codemirror_mode": {
    "name": "ipython",
    "version": 3
   },
   "file_extension": ".py",
   "mimetype": "text/x-python",
   "name": "python",
   "nbconvert_exporter": "python",
   "pygments_lexer": "ipython3",
   "version": "3.9.7"
  }
 },
 "nbformat": 4,
 "nbformat_minor": 5
}
