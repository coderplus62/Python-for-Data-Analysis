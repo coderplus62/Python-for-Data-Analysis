{
 "cells": [
  {
   "cell_type": "markdown",
   "id": "d0da1de9",
   "metadata": {},
   "source": [
    "<img src='what_binning.jpg' style='width:550px;length:500px'>"
   ]
  },
  {
   "cell_type": "code",
   "execution_count": 1,
   "id": "c69e1aca",
   "metadata": {},
   "outputs": [],
   "source": [
    "import pandas as pd\n",
    "air_quality = pd.read_pickle('air_quality.pkl')"
   ]
  },
  {
   "cell_type": "code",
   "execution_count": 2,
   "id": "ff39b71e",
   "metadata": {},
   "outputs": [
    {
     "data": {
      "text/plain": [
       "0    9.0\n",
       "1    4.0\n",
       "2    4.0\n",
       "3    5.0\n",
       "4    3.0\n",
       "Name: PM2.5, dtype: float64"
      ]
     },
     "execution_count": 2,
     "metadata": {},
     "output_type": "execute_result"
    }
   ],
   "source": [
    "air_quality['PM2.5'].head()"
   ]
  },
  {
   "cell_type": "code",
   "execution_count": 3,
   "id": "8ea89b31",
   "metadata": {},
   "outputs": [
    {
     "data": {
      "text/plain": [
       "<AxesSubplot:>"
      ]
     },
     "execution_count": 3,
     "metadata": {},
     "output_type": "execute_result"
    },
    {
     "data": {
      "image/png": "[encoded data removed]",
      "text/plain": [
       "<Figure size 432x288 with 1 Axes>"
      ]
     },
     "metadata": {
      "needs_background": "light"
     },
     "output_type": "display_data"
    }
   ],
   "source": [
    "air_quality['PM2.5'].hist()"
   ]
  },
  {
   "cell_type": "code",
   "execution_count": 4,
   "id": "1b0fd3fc",
   "metadata": {},
   "outputs": [
    {
     "data": {
      "text/plain": [
       "0        (1.181, 83.9]\n",
       "1        (1.181, 83.9]\n",
       "2        (1.181, 83.9]\n",
       "3        (1.181, 83.9]\n",
       "4        (1.181, 83.9]\n",
       "             ...      \n",
       "95680    (1.181, 83.9]\n",
       "95681    (1.181, 83.9]\n",
       "95682    (1.181, 83.9]\n",
       "95683    (1.181, 83.9]\n",
       "95684    (1.181, 83.9]\n",
       "Name: PM2.5, Length: 95685, dtype: category\n",
       "Categories (10, interval[float64, right]): [(1.181, 83.9] < (83.9, 165.8] < (165.8, 247.7] < (247.7, 329.6] ... (493.4, 575.3] < (575.3, 657.2] < (657.2, 739.1] < (739.1, 821.0]]"
      ]
     },
     "execution_count": 4,
     "metadata": {},
     "output_type": "execute_result"
    }
   ],
   "source": [
    "pd.cut(air_quality['PM2.5'], bins=10)"
   ]
  },
  {
   "cell_type": "code",
   "execution_count": 5,
   "id": "a212600a",
   "metadata": {},
   "outputs": [
    {
     "data": {
      "text/plain": [
       "(1.181, 83.9]     59923\n",
       "(83.9, 165.8]     22741\n",
       "(165.8, 247.7]     8132\n",
       "(247.7, 329.6]     3225\n",
       "(329.6, 411.5]     1011\n",
       "(411.5, 493.4]      384\n",
       "(493.4, 575.3]      171\n",
       "(575.3, 657.2]       70\n",
       "(657.2, 739.1]       22\n",
       "(739.1, 821.0]        6\n",
       "Name: PM2.5, dtype: int64"
      ]
     },
     "execution_count": 5,
     "metadata": {},
     "output_type": "execute_result"
    }
   ],
   "source": [
    "pd.cut(air_quality['PM2.5'], bins=10).value_counts()"
   ]
  },
  {
   "cell_type": "code",
   "execution_count": 6,
   "id": "e251d9a9",
   "metadata": {},
   "outputs": [
    {
     "name": "stdout",
     "output_type": "stream",
     "text": [
      "82.71900000000001\n",
      "81.89999999999998\n"
     ]
    }
   ],
   "source": [
    "print(83.9-1.181)\n",
    "print(247.7-165.8)"
   ]
  },
  {
   "cell_type": "code",
   "execution_count": 7,
   "id": "b8498eb1",
   "metadata": {},
   "outputs": [
    {
     "data": {
      "text/plain": [
       "0         (0.0, 12.0]\n",
       "1         (0.0, 12.0]\n",
       "2         (0.0, 12.0]\n",
       "3         (0.0, 12.0]\n",
       "4         (0.0, 12.0]\n",
       "             ...     \n",
       "95680     (0.0, 12.0]\n",
       "95681     (0.0, 12.0]\n",
       "95682    (12.0, 35.4]\n",
       "95683    (12.0, 35.4]\n",
       "95684    (12.0, 35.4]\n",
       "Name: PM2.5, Length: 95685, dtype: category\n",
       "Categories (6, interval[float64, right]): [(0.0, 12.0] < (12.0, 35.4] < (35.4, 55.4] < (55.4, 150.4] < (150.4, 250.4] < (250.4, 999.0]]"
      ]
     },
     "execution_count": 7,
     "metadata": {},
     "output_type": "execute_result"
    }
   ],
   "source": [
    "pd.cut(air_quality['PM2.5'], bins=[0,12,35.4,55.4,150.4,250.4,999])"
   ]
  },
  {
   "cell_type": "code",
   "execution_count": 8,
   "id": "9d3d117d",
   "metadata": {},
   "outputs": [
    {
     "data": {
      "text/plain": [
       "0            Good\n",
       "1            Good\n",
       "2            Good\n",
       "3            Good\n",
       "4            Good\n",
       "           ...   \n",
       "95680        Good\n",
       "95681        Good\n",
       "95682    Moderate\n",
       "95683    Moderate\n",
       "95684    Moderate\n",
       "Name: PM2.5, Length: 95685, dtype: category\n",
       "Categories (6, object): ['Good' < 'Moderate' < 'Unhealthy for sensitive groups' < 'Unhealthy' < 'Very Unhealthy' < 'Hazardous']"
      ]
     },
     "execution_count": 8,
     "metadata": {},
     "output_type": "execute_result"
    }
   ],
   "source": [
    "pd.cut(air_quality['PM2.5'], bins=[0,12,35.4,55.4,150.4,250.4,999],\n",
    "       labels=['Good','Moderate','Unhealthy for sensitive groups','Unhealthy','Very Unhealthy','Hazardous'])"
   ]
  },
  {
   "cell_type": "code",
   "execution_count": 9,
   "id": "d345316c",
   "metadata": {},
   "outputs": [],
   "source": [
    "air_quality['PM2.5_category'] = pd.cut(air_quality['PM2.5'], bins=[0,12,35.4,55.4,150.4,250.4,999],\n",
    "                                labels=['Good','Moderate','Unhealthy for sensitive groups','Unhealthy','Very Unhealthy','Hazardous'])"
   ]
  },
  {
   "cell_type": "code",
   "execution_count": 10,
   "id": "2be2aab2",
   "metadata": {},
   "outputs": [
    {
     "data": {
      "text/html": [
       "<div>\n",
       "<style scoped>\n",
       "    .dataframe tbody tr th:only-of-type {\n",
       "        vertical-align: middle;\n",
       "    }\n",
       "\n",
       "    .dataframe tbody tr th {\n",
       "        vertical-align: top;\n",
       "    }\n",
       "\n",
       "    .dataframe thead th {\n",
       "        text-align: right;\n",
       "    }\n",
       "</style>\n",
       "<table border=\"1\" class=\"dataframe\">\n",
       "  <thead>\n",
       "    <tr style=\"text-align: right;\">\n",
       "      <th></th>\n",
       "      <th>PM2.5</th>\n",
       "      <th>PM2.5_category</th>\n",
       "    </tr>\n",
       "  </thead>\n",
       "  <tbody>\n",
       "    <tr>\n",
       "      <th>0</th>\n",
       "      <td>9.0</td>\n",
       "      <td>Good</td>\n",
       "    </tr>\n",
       "    <tr>\n",
       "      <th>1</th>\n",
       "      <td>4.0</td>\n",
       "      <td>Good</td>\n",
       "    </tr>\n",
       "    <tr>\n",
       "      <th>2</th>\n",
       "      <td>4.0</td>\n",
       "      <td>Good</td>\n",
       "    </tr>\n",
       "    <tr>\n",
       "      <th>3</th>\n",
       "      <td>5.0</td>\n",
       "      <td>Good</td>\n",
       "    </tr>\n",
       "    <tr>\n",
       "      <th>4</th>\n",
       "      <td>3.0</td>\n",
       "      <td>Good</td>\n",
       "    </tr>\n",
       "    <tr>\n",
       "      <th>...</th>\n",
       "      <td>...</td>\n",
       "      <td>...</td>\n",
       "    </tr>\n",
       "    <tr>\n",
       "      <th>95680</th>\n",
       "      <td>9.0</td>\n",
       "      <td>Good</td>\n",
       "    </tr>\n",
       "    <tr>\n",
       "      <th>95681</th>\n",
       "      <td>10.0</td>\n",
       "      <td>Good</td>\n",
       "    </tr>\n",
       "    <tr>\n",
       "      <th>95682</th>\n",
       "      <td>18.0</td>\n",
       "      <td>Moderate</td>\n",
       "    </tr>\n",
       "    <tr>\n",
       "      <th>95683</th>\n",
       "      <td>15.0</td>\n",
       "      <td>Moderate</td>\n",
       "    </tr>\n",
       "    <tr>\n",
       "      <th>95684</th>\n",
       "      <td>15.0</td>\n",
       "      <td>Moderate</td>\n",
       "    </tr>\n",
       "  </tbody>\n",
       "</table>\n",
       "<p>95685 rows × 2 columns</p>\n",
       "</div>"
      ],
      "text/plain": [
       "       PM2.5 PM2.5_category\n",
       "0        9.0           Good\n",
       "1        4.0           Good\n",
       "2        4.0           Good\n",
       "3        5.0           Good\n",
       "4        3.0           Good\n",
       "...      ...            ...\n",
       "95680    9.0           Good\n",
       "95681   10.0           Good\n",
       "95682   18.0       Moderate\n",
       "95683   15.0       Moderate\n",
       "95684   15.0       Moderate\n",
       "\n",
       "[95685 rows x 2 columns]"
      ]
     },
     "execution_count": 10,
     "metadata": {},
     "output_type": "execute_result"
    }
   ],
   "source": [
    "air_quality[['PM2.5','PM2.5_category']]"
   ]
  },
  {
   "cell_type": "code",
   "execution_count": 11,
   "id": "2252848a",
   "metadata": {},
   "outputs": [
    {
     "data": {
      "text/plain": [
       "Unhealthy                         0.358018\n",
       "Moderate                          0.207483\n",
       "Good                              0.141882\n",
       "Unhealthy for sensitive groups    0.130188\n",
       "Very Unhealthy                    0.113090\n",
       "Hazardous                         0.049339\n",
       "Name: PM2.5_category, dtype: float64"
      ]
     },
     "execution_count": 11,
     "metadata": {},
     "output_type": "execute_result"
    }
   ],
   "source": [
    "air_quality['PM2.5_category'].value_counts(normalize=True)"
   ]
  },
  {
   "cell_type": "code",
   "execution_count": 12,
   "id": "10a8a742",
   "metadata": {},
   "outputs": [
    {
     "data": {
      "text/plain": [
       "0        (1.999, 23.0]\n",
       "1        (1.999, 23.0]\n",
       "2        (1.999, 23.0]\n",
       "3        (1.999, 23.0]\n",
       "4        (1.999, 23.0]\n",
       "             ...      \n",
       "95680    (1.999, 23.0]\n",
       "95681    (1.999, 23.0]\n",
       "95682    (1.999, 23.0]\n",
       "95683    (1.999, 23.0]\n",
       "95684    (1.999, 23.0]\n",
       "Name: PM2.5, Length: 95685, dtype: category\n",
       "Categories (4, interval[float64, right]): [(1.999, 23.0] < (23.0, 59.0] < (59.0, 116.0] < (116.0, 821.0]]"
      ]
     },
     "execution_count": 12,
     "metadata": {},
     "output_type": "execute_result"
    }
   ],
   "source": [
    "pd.qcut(air_quality['PM2.5'],q=4)"
   ]
  },
  {
   "cell_type": "code",
   "execution_count": 13,
   "id": "d593df7d",
   "metadata": {},
   "outputs": [
    {
     "data": {
      "text/plain": [
       "(1.999, 23.0]     0.258222\n",
       "(59.0, 116.0]     0.249862\n",
       "(116.0, 821.0]    0.247113\n",
       "(23.0, 59.0]      0.244803\n",
       "Name: PM2.5, dtype: float64"
      ]
     },
     "execution_count": 13,
     "metadata": {},
     "output_type": "execute_result"
    }
   ],
   "source": [
    "pd.qcut(air_quality['PM2.5'],q=4).value_counts(normalize=True)"
   ]
  },
  {
   "cell_type": "code",
   "execution_count": 14,
   "id": "82bdd9a6",
   "metadata": {},
   "outputs": [
    {
     "data": {
      "text/plain": [
       "(1.999, 23.0]     0.258222\n",
       "(23.0, 59.0]      0.244803\n",
       "(59.0, 116.0]     0.249862\n",
       "(116.0, 821.0]    0.247113\n",
       "Name: PM2.5, dtype: float64"
      ]
     },
     "execution_count": 14,
     "metadata": {},
     "output_type": "execute_result"
    }
   ],
   "source": [
    "pd.qcut(air_quality['PM2.5'],q=4).value_counts(normalize=True,sort=False)"
   ]
  },
  {
   "cell_type": "code",
   "execution_count": 15,
   "id": "e2102242",
   "metadata": {},
   "outputs": [
    {
     "data": {
      "text/plain": [
       "count    95685.000000\n",
       "mean        83.477884\n",
       "std         82.678134\n",
       "min          2.000000\n",
       "25%         23.000000\n",
       "50%         59.000000\n",
       "75%        116.000000\n",
       "max        821.000000\n",
       "Name: PM2.5, dtype: float64"
      ]
     },
     "execution_count": 15,
     "metadata": {},
     "output_type": "execute_result"
    }
   ],
   "source": [
    "air_quality['PM2.5'].describe()"
   ]
  },
  {
   "cell_type": "code",
   "execution_count": 16,
   "id": "c80374e0",
   "metadata": {},
   "outputs": [
    {
     "data": {
      "text/plain": [
       "0        (-16.801000000000002, 1.8]\n",
       "1        (-16.801000000000002, 1.8]\n",
       "2        (-16.801000000000002, 1.8]\n",
       "3        (-16.801000000000002, 1.8]\n",
       "4        (-16.801000000000002, 1.8]\n",
       "                    ...            \n",
       "95680                  (10.1, 18.7]\n",
       "95681                  (10.1, 18.7]\n",
       "95682                  (10.1, 18.7]\n",
       "95683                  (10.1, 18.7]\n",
       "95684                   (1.8, 10.1]\n",
       "Name: TEMP, Length: 95685, dtype: category\n",
       "Categories (5, interval[float64, right]): [(-16.801000000000002, 1.8] < (1.8, 10.1] < (10.1, 18.7] < (18.7, 24.8] < (24.8, 41.6]]"
      ]
     },
     "execution_count": 16,
     "metadata": {},
     "output_type": "execute_result"
    }
   ],
   "source": [
    "pd.qcut(air_quality['TEMP'],q=5)"
   ]
  },
  {
   "cell_type": "code",
   "execution_count": 17,
   "id": "06bb8a3e",
   "metadata": {},
   "outputs": [
    {
     "data": {
      "text/plain": [
       "0        Very Cold\n",
       "1        Very Cold\n",
       "2        Very Cold\n",
       "3        Very Cold\n",
       "4        Very Cold\n",
       "           ...    \n",
       "95680         Warm\n",
       "95681         Warm\n",
       "95682         Warm\n",
       "95683         Warm\n",
       "95684         Cold\n",
       "Name: TEMP, Length: 95685, dtype: category\n",
       "Categories (5, object): ['Very Cold' < 'Cold' < 'Warm' < 'Hot' < 'Very Hot']"
      ]
     },
     "execution_count": 17,
     "metadata": {},
     "output_type": "execute_result"
    }
   ],
   "source": [
    "pd.qcut(air_quality['TEMP'],q=5,labels=['Very Cold','Cold','Warm','Hot','Very Hot'])"
   ]
  },
  {
   "cell_type": "code",
   "execution_count": 18,
   "id": "8b82bc67",
   "metadata": {},
   "outputs": [
    {
     "data": {
      "text/plain": [
       "Hot          19189\n",
       "Very Cold    19156\n",
       "Cold         19154\n",
       "Warm         19143\n",
       "Very Hot     19043\n",
       "Name: TEMP, dtype: int64"
      ]
     },
     "execution_count": 18,
     "metadata": {},
     "output_type": "execute_result"
    }
   ],
   "source": [
    "pd.qcut(air_quality['TEMP'],q=5,labels=['Very Cold','Cold','Warm','Hot','Very Hot']).value_counts()"
   ]
  },
  {
   "cell_type": "code",
   "execution_count": 19,
   "id": "261616c4",
   "metadata": {},
   "outputs": [],
   "source": [
    "air_quality['TEMP_Category'] = pd.qcut(air_quality['TEMP'],q=5,labels=['Very Cold','Cold','Warm','Hot','Very Hot'])"
   ]
  },
  {
   "cell_type": "code",
   "execution_count": 20,
   "id": "53573754",
   "metadata": {},
   "outputs": [
    {
     "data": {
      "text/html": [
       "<div>\n",
       "<style scoped>\n",
       "    .dataframe tbody tr th:only-of-type {\n",
       "        vertical-align: middle;\n",
       "    }\n",
       "\n",
       "    .dataframe tbody tr th {\n",
       "        vertical-align: top;\n",
       "    }\n",
       "\n",
       "    .dataframe thead th {\n",
       "        text-align: right;\n",
       "    }\n",
       "</style>\n",
       "<table border=\"1\" class=\"dataframe\">\n",
       "  <thead>\n",
       "    <tr style=\"text-align: right;\">\n",
       "      <th></th>\n",
       "      <th>TEMP</th>\n",
       "      <th>TEMP_Category</th>\n",
       "    </tr>\n",
       "  </thead>\n",
       "  <tbody>\n",
       "    <tr>\n",
       "      <th>0</th>\n",
       "      <td>-0.5</td>\n",
       "      <td>Very Cold</td>\n",
       "    </tr>\n",
       "    <tr>\n",
       "      <th>1</th>\n",
       "      <td>-0.7</td>\n",
       "      <td>Very Cold</td>\n",
       "    </tr>\n",
       "    <tr>\n",
       "      <th>2</th>\n",
       "      <td>-2.4</td>\n",
       "      <td>Very Cold</td>\n",
       "    </tr>\n",
       "    <tr>\n",
       "      <th>3</th>\n",
       "      <td>-2.5</td>\n",
       "      <td>Very Cold</td>\n",
       "    </tr>\n",
       "    <tr>\n",
       "      <th>4</th>\n",
       "      <td>-1.4</td>\n",
       "      <td>Very Cold</td>\n",
       "    </tr>\n",
       "    <tr>\n",
       "      <th>...</th>\n",
       "      <td>...</td>\n",
       "      <td>...</td>\n",
       "    </tr>\n",
       "    <tr>\n",
       "      <th>95680</th>\n",
       "      <td>15.4</td>\n",
       "      <td>Warm</td>\n",
       "    </tr>\n",
       "    <tr>\n",
       "      <th>95681</th>\n",
       "      <td>14.9</td>\n",
       "      <td>Warm</td>\n",
       "    </tr>\n",
       "    <tr>\n",
       "      <th>95682</th>\n",
       "      <td>10.8</td>\n",
       "      <td>Warm</td>\n",
       "    </tr>\n",
       "    <tr>\n",
       "      <th>95683</th>\n",
       "      <td>10.5</td>\n",
       "      <td>Warm</td>\n",
       "    </tr>\n",
       "    <tr>\n",
       "      <th>95684</th>\n",
       "      <td>8.6</td>\n",
       "      <td>Cold</td>\n",
       "    </tr>\n",
       "  </tbody>\n",
       "</table>\n",
       "<p>95685 rows × 2 columns</p>\n",
       "</div>"
      ],
      "text/plain": [
       "       TEMP TEMP_Category\n",
       "0      -0.5     Very Cold\n",
       "1      -0.7     Very Cold\n",
       "2      -2.4     Very Cold\n",
       "3      -2.5     Very Cold\n",
       "4      -1.4     Very Cold\n",
       "...     ...           ...\n",
       "95680  15.4          Warm\n",
       "95681  14.9          Warm\n",
       "95682  10.8          Warm\n",
       "95683  10.5          Warm\n",
       "95684   8.6          Cold\n",
       "\n",
       "[95685 rows x 2 columns]"
      ]
     },
     "execution_count": 20,
     "metadata": {},
     "output_type": "execute_result"
    }
   ],
   "source": [
    "air_quality[['TEMP','TEMP_Category']]"
   ]
  },
  {
   "cell_type": "code",
   "execution_count": 21,
   "id": "6c56bbb8",
   "metadata": {},
   "outputs": [],
   "source": [
    "air_quality.to_pickle('air_quality3.pkl')"
   ]
  },
  {
   "cell_type": "markdown",
   "id": "4019ba0f",
   "metadata": {},
   "source": [
    "<img src='binning_function.jpg' style='width:550px;length:500px'>"
   ]
  }
 ],
 "metadata": {
  "kernelspec": {
   "display_name": "Python 3 (ipykernel)",
   "language": "python",
   "name": "python3"
  },
  "language_info": {
   "codemirror_mode": {
    "name": "ipython",
    "version": 3
   },
   "file_extension": ".py",
   "mimetype": "text/x-python",
   "name": "python",
   "nbconvert_exporter": "python",
   "pygments_lexer": "ipython3",
   "version": "3.9.7"
  }
 },
 "nbformat": 4,
 "nbformat_minor": 5
}
