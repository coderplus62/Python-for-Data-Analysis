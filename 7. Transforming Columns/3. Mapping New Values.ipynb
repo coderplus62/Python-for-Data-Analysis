{
 "cells": [
  {
   "cell_type": "markdown",
   "id": "0e90d329",
   "metadata": {},
   "source": [
    "<img src='mapping.jpg' style='width:550px;length:500px'>"
   ]
  },
  {
   "cell_type": "code",
   "execution_count": 1,
   "id": "7b34afe2",
   "metadata": {},
   "outputs": [],
   "source": [
    "import pandas as pd\n",
    "air_quality = pd.read_pickle('air_quality3.pkl')"
   ]
  },
  {
   "cell_type": "code",
   "execution_count": 2,
   "id": "72e78302",
   "metadata": {},
   "outputs": [
    {
     "data": {
      "text/plain": [
       "0         Friday\n",
       "1         Friday\n",
       "2         Friday\n",
       "3         Friday\n",
       "4         Friday\n",
       "          ...   \n",
       "95680    Tuesday\n",
       "95681    Tuesday\n",
       "95682    Tuesday\n",
       "95683    Tuesday\n",
       "95684    Tuesday\n",
       "Name: day_of_week_name, Length: 95685, dtype: object"
      ]
     },
     "execution_count": 2,
     "metadata": {},
     "output_type": "execute_result"
    }
   ],
   "source": [
    "air_quality['day_of_week_name']"
   ]
  },
  {
   "cell_type": "code",
   "execution_count": 3,
   "id": "73f336a1",
   "metadata": {},
   "outputs": [
    {
     "data": {
      "text/plain": [
       "Sunday       13931\n",
       "Saturday     13812\n",
       "Friday       13782\n",
       "Thursday     13633\n",
       "Monday       13536\n",
       "Tuesday      13523\n",
       "Wednesday    13468\n",
       "Name: day_of_week_name, dtype: int64"
      ]
     },
     "execution_count": 3,
     "metadata": {},
     "output_type": "execute_result"
    }
   ],
   "source": [
    "air_quality['day_of_week_name'].value_counts()"
   ]
  },
  {
   "cell_type": "code",
   "execution_count": 4,
   "id": "03cd6a27",
   "metadata": {},
   "outputs": [
    {
     "data": {
      "text/plain": [
       "0        Weekday\n",
       "1        Weekday\n",
       "2        Weekday\n",
       "3        Weekday\n",
       "4        Weekday\n",
       "          ...   \n",
       "95680    Weekday\n",
       "95681    Weekday\n",
       "95682    Weekday\n",
       "95683    Weekday\n",
       "95684    Weekday\n",
       "Name: day_of_week_name, Length: 95685, dtype: object"
      ]
     },
     "execution_count": 4,
     "metadata": {},
     "output_type": "execute_result"
    }
   ],
   "source": [
    "day_of_week_mapping = {\n",
    "    'Monday':'Weekday',\n",
    "    'Tuesday':'Weekday',\n",
    "    'Wednesday':'Weekday',\n",
    "    'Thursday':'Weekday',\n",
    "    'Friday':'Weekday',\n",
    "    'Saturday':'Weekend',\n",
    "    'Sunday':'Weekend',\n",
    "}\n",
    "air_quality['day_of_week_name'].map(arg=day_of_week_mapping)"
   ]
  },
  {
   "cell_type": "code",
   "execution_count": 5,
   "id": "08fcb232",
   "metadata": {},
   "outputs": [
    {
     "data": {
      "text/plain": [
       "Weekday    67942\n",
       "Weekend    27743\n",
       "Name: day_of_week_name, dtype: int64"
      ]
     },
     "execution_count": 5,
     "metadata": {},
     "output_type": "execute_result"
    }
   ],
   "source": [
    "air_quality['day_of_week_name'].map(arg=day_of_week_mapping).value_counts()"
   ]
  },
  {
   "cell_type": "code",
   "execution_count": 6,
   "id": "5ba05d7f",
   "metadata": {},
   "outputs": [
    {
     "data": {
      "text/plain": [
       "0        6\n",
       "1        6\n",
       "2        6\n",
       "3        6\n",
       "4        6\n",
       "        ..\n",
       "95680    7\n",
       "95681    7\n",
       "95682    7\n",
       "95683    7\n",
       "95684    7\n",
       "Name: day_of_week_name, Length: 95685, dtype: int64"
      ]
     },
     "execution_count": 6,
     "metadata": {},
     "output_type": "execute_result"
    }
   ],
   "source": [
    "air_quality['day_of_week_name'].map(len)"
   ]
  },
  {
   "cell_type": "code",
   "execution_count": 10,
   "id": "a889c5b5",
   "metadata": {},
   "outputs": [
    {
     "data": {
      "text/plain": [
       "0        3228.000000\n",
       "1        3227.958333\n",
       "2        3227.791667\n",
       "3        3227.750000\n",
       "4        3227.708333\n",
       "            ...     \n",
       "95680    1767.375000\n",
       "95681    1767.333333\n",
       "95682    1767.125000\n",
       "95683    1767.083333\n",
       "95684    1767.041667\n",
       "Name: time_until_2022_days, Length: 95685, dtype: float64"
      ]
     },
     "execution_count": 10,
     "metadata": {},
     "output_type": "execute_result"
    }
   ],
   "source": [
    "air_quality['time_until_2022_days']"
   ]
  },
  {
   "cell_type": "code",
   "execution_count": 11,
   "id": "8972fe7d",
   "metadata": {},
   "outputs": [
    {
     "data": {
      "text/plain": [
       "0        3228\n",
       "1        3227\n",
       "2        3227\n",
       "3        3227\n",
       "4        3227\n",
       "         ... \n",
       "95680    1767\n",
       "95681    1767\n",
       "95682    1767\n",
       "95683    1767\n",
       "95684    1767\n",
       "Name: time_until_2022_days, Length: 95685, dtype: int64"
      ]
     },
     "execution_count": 11,
     "metadata": {},
     "output_type": "execute_result"
    }
   ],
   "source": [
    "air_quality['time_until_2022_days'].map(int)"
   ]
  },
  {
   "cell_type": "code",
   "execution_count": 13,
   "id": "8e86c1d7",
   "metadata": {},
   "outputs": [
    {
     "data": {
      "text/plain": [
       "0        Weekday\n",
       "1        Weekday\n",
       "2        Weekday\n",
       "3        Weekday\n",
       "4        Weekday\n",
       "          ...   \n",
       "95680    Weekday\n",
       "95681    Weekday\n",
       "95682    Weekday\n",
       "95683    Weekday\n",
       "95684    Weekday\n",
       "Name: day_of_week_name, Length: 95685, dtype: object"
      ]
     },
     "execution_count": 13,
     "metadata": {},
     "output_type": "execute_result"
    }
   ],
   "source": [
    "air_quality['day_of_week_name'].map(lambda day: 'Weekend' if day in ['Saturday','Sunday'] else 'Weekday')"
   ]
  },
  {
   "cell_type": "code",
   "execution_count": 16,
   "id": "1cfacb2a",
   "metadata": {},
   "outputs": [],
   "source": [
    "def weekend_weekday(day):\n",
    "    if day in ['Saturday','Sunday']:\n",
    "        return 'Weekend'\n",
    "    else:\n",
    "        return 'Weekday'"
   ]
  },
  {
   "cell_type": "code",
   "execution_count": 17,
   "id": "f4f3d994",
   "metadata": {},
   "outputs": [
    {
     "data": {
      "text/plain": [
       "0        Weekday\n",
       "1        Weekday\n",
       "2        Weekday\n",
       "3        Weekday\n",
       "4        Weekday\n",
       "          ...   \n",
       "95680    Weekday\n",
       "95681    Weekday\n",
       "95682    Weekday\n",
       "95683    Weekday\n",
       "95684    Weekday\n",
       "Name: day_of_week_name, Length: 95685, dtype: object"
      ]
     },
     "execution_count": 17,
     "metadata": {},
     "output_type": "execute_result"
    }
   ],
   "source": [
    "air_quality['day_of_week_name'].map(weekend_weekday)"
   ]
  },
  {
   "cell_type": "code",
   "execution_count": 19,
   "id": "aa16ec95",
   "metadata": {},
   "outputs": [
    {
     "data": {
      "text/plain": [
       "NE     9447\n",
       "ENE    8744\n",
       "E      7848\n",
       "NW     7124\n",
       "N      6962\n",
       "SW     6410\n",
       "ESE    6107\n",
       "SSW    6103\n",
       "NNE    5930\n",
       "S      4939\n",
       "WSW    4686\n",
       "SE     4651\n",
       "NNW    4605\n",
       "WNW    4324\n",
       "SSE    3951\n",
       "W      3854\n",
       "Name: wd, dtype: int64"
      ]
     },
     "execution_count": 19,
     "metadata": {},
     "output_type": "execute_result"
    }
   ],
   "source": [
    "air_quality['wd'].value_counts()"
   ]
  },
  {
   "cell_type": "code",
   "execution_count": 23,
   "id": "8bdd1eaf",
   "metadata": {},
   "outputs": [],
   "source": [
    "def wind_direction(wd):\n",
    "    if wd[0] == 'N':\n",
    "        return 'North'\n",
    "    elif wd[0] == 'E':\n",
    "        return 'East'\n",
    "    elif wd[0] == 'S':\n",
    "        return 'South'\n",
    "    else:\n",
    "        return 'West'"
   ]
  },
  {
   "cell_type": "code",
   "execution_count": 24,
   "id": "dc6c752d",
   "metadata": {},
   "outputs": [
    {
     "data": {
      "text/plain": [
       "0        North\n",
       "1        North\n",
       "2        North\n",
       "3        North\n",
       "4        North\n",
       "         ...  \n",
       "95680    North\n",
       "95681    North\n",
       "95682    North\n",
       "95683    North\n",
       "95684    North\n",
       "Name: wd, Length: 95685, dtype: object"
      ]
     },
     "execution_count": 24,
     "metadata": {},
     "output_type": "execute_result"
    }
   ],
   "source": [
    "air_quality['wd'].map(wind_direction)"
   ]
  },
  {
   "cell_type": "code",
   "execution_count": 25,
   "id": "e974ce59",
   "metadata": {},
   "outputs": [
    {
     "data": {
      "text/plain": [
       "North    34068\n",
       "South    26054\n",
       "East     22699\n",
       "West     12864\n",
       "Name: wd, dtype: int64"
      ]
     },
     "execution_count": 25,
     "metadata": {},
     "output_type": "execute_result"
    }
   ],
   "source": [
    "air_quality['wd'].map(wind_direction).value_counts()"
   ]
  },
  {
   "cell_type": "code",
   "execution_count": null,
   "id": "9f1dd666",
   "metadata": {},
   "outputs": [],
   "source": []
  }
 ],
 "metadata": {
  "kernelspec": {
   "display_name": "Python 3 (ipykernel)",
   "language": "python",
   "name": "python3"
  },
  "language_info": {
   "codemirror_mode": {
    "name": "ipython",
    "version": 3
   },
   "file_extension": ".py",
   "mimetype": "text/x-python",
   "name": "python",
   "nbconvert_exporter": "python",
   "pygments_lexer": "ipython3",
   "version": "3.9.7"
  }
 },
 "nbformat": 4,
 "nbformat_minor": 5
}
