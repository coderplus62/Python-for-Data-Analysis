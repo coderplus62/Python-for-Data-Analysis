{
 "cells": [
  {
   "cell_type": "markdown",
   "id": "114c1d16",
   "metadata": {},
   "source": [
    "# Pandas Data Type"
   ]
  },
  {
   "cell_type": "markdown",
   "id": "c115815c",
   "metadata": {},
   "source": [
    "<img src=\"pandas_dtype.jpg\" style=\"width:350px;height:220px\"/>"
   ]
  },
  {
   "cell_type": "markdown",
   "id": "4080bea4",
   "metadata": {},
   "source": [
    "<img src=\"method_convert_dtype.jpg\" style=\"width:350px;height:220px\"/>"
   ]
  },
  {
   "cell_type": "code",
   "execution_count": 1,
   "id": "6adf60b7",
   "metadata": {},
   "outputs": [],
   "source": [
    "import pandas as pd"
   ]
  },
  {
   "cell_type": "code",
   "execution_count": 2,
   "id": "b891d238",
   "metadata": {},
   "outputs": [
    {
     "data": {
      "text/html": [
       "<div>\n",
       "<style scoped>\n",
       "    .dataframe tbody tr th:only-of-type {\n",
       "        vertical-align: middle;\n",
       "    }\n",
       "\n",
       "    .dataframe tbody tr th {\n",
       "        vertical-align: top;\n",
       "    }\n",
       "\n",
       "    .dataframe thead th {\n",
       "        text-align: right;\n",
       "    }\n",
       "</style>\n",
       "<table border=\"1\" class=\"dataframe\">\n",
       "  <thead>\n",
       "    <tr style=\"text-align: right;\">\n",
       "      <th></th>\n",
       "      <th>date</th>\n",
       "      <th>temperature_high</th>\n",
       "      <th>temperature_low</th>\n",
       "      <th>rained</th>\n",
       "      <th>snowed</th>\n",
       "      <th>overcast</th>\n",
       "      <th>comments</th>\n",
       "    </tr>\n",
       "  </thead>\n",
       "  <tbody>\n",
       "    <tr>\n",
       "      <th>0</th>\n",
       "      <td>2021-01-01</td>\n",
       "      <td>4.0</td>\n",
       "      <td>1</td>\n",
       "      <td>1</td>\n",
       "      <td>False</td>\n",
       "      <td>cloudy</td>\n",
       "      <td>happy new year</td>\n",
       "    </tr>\n",
       "    <tr>\n",
       "      <th>1</th>\n",
       "      <td>2021-01-02</td>\n",
       "      <td>11.0</td>\n",
       "      <td>2</td>\n",
       "      <td>0</td>\n",
       "      <td>False</td>\n",
       "      <td>sunny</td>\n",
       "      <td>second day</td>\n",
       "    </tr>\n",
       "    <tr>\n",
       "      <th>2</th>\n",
       "      <td>2021-01-03</td>\n",
       "      <td>3.0</td>\n",
       "      <td>2</td>\n",
       "      <td>0</td>\n",
       "      <td>False</td>\n",
       "      <td>foggy</td>\n",
       "      <td>third day</td>\n",
       "    </tr>\n",
       "    <tr>\n",
       "      <th>3</th>\n",
       "      <td>2021-01-04</td>\n",
       "      <td>6.0</td>\n",
       "      <td>2</td>\n",
       "      <td>0</td>\n",
       "      <td>False</td>\n",
       "      <td>sunny</td>\n",
       "      <td>first business day</td>\n",
       "    </tr>\n",
       "    <tr>\n",
       "      <th>4</th>\n",
       "      <td>2021-01-05</td>\n",
       "      <td>4.0</td>\n",
       "      <td>unknown</td>\n",
       "      <td>0</td>\n",
       "      <td>False</td>\n",
       "      <td>cloudy</td>\n",
       "      <td>second business day</td>\n",
       "    </tr>\n",
       "  </tbody>\n",
       "</table>\n",
       "</div>"
      ],
      "text/plain": [
       "         date  temperature_high temperature_low  rained  snowed overcast  \\\n",
       "0  2021-01-01               4.0               1       1   False   cloudy   \n",
       "1  2021-01-02              11.0               2       0   False    sunny   \n",
       "2  2021-01-03               3.0               2       0   False    foggy   \n",
       "3  2021-01-04               6.0               2       0   False    sunny   \n",
       "4  2021-01-05               4.0         unknown       0   False   cloudy   \n",
       "\n",
       "              comments  \n",
       "0       happy new year  \n",
       "1           second day  \n",
       "2            third day  \n",
       "3   first business day  \n",
       "4  second business day  "
      ]
     },
     "execution_count": 2,
     "metadata": {},
     "output_type": "execute_result"
    }
   ],
   "source": [
    "weather = pd.read_csv('weather.csv')\n",
    "weather"
   ]
  },
  {
   "cell_type": "code",
   "execution_count": 3,
   "id": "9e26d36d",
   "metadata": {},
   "outputs": [
    {
     "name": "stdout",
     "output_type": "stream",
     "text": [
      "<class 'pandas.core.frame.DataFrame'>\n",
      "RangeIndex: 5 entries, 0 to 4\n",
      "Data columns (total 7 columns):\n",
      " #   Column            Non-Null Count  Dtype  \n",
      "---  ------            --------------  -----  \n",
      " 0   date              5 non-null      object \n",
      " 1   temperature_high  5 non-null      float64\n",
      " 2   temperature_low   5 non-null      object \n",
      " 3   rained            5 non-null      int64  \n",
      " 4   snowed            5 non-null      bool   \n",
      " 5   overcast          5 non-null      object \n",
      " 6   comments          5 non-null      object \n",
      "dtypes: bool(1), float64(1), int64(1), object(4)\n",
      "memory usage: 373.0+ bytes\n"
     ]
    }
   ],
   "source": [
    "weather.info()"
   ]
  },
  {
   "cell_type": "code",
   "execution_count": 4,
   "id": "02d3aedd",
   "metadata": {},
   "outputs": [
    {
     "data": {
      "text/plain": [
       "date                 object\n",
       "temperature_high    float64\n",
       "temperature_low      object\n",
       "rained                int64\n",
       "snowed                 bool\n",
       "overcast             object\n",
       "comments             object\n",
       "dtype: object"
      ]
     },
     "execution_count": 4,
     "metadata": {},
     "output_type": "execute_result"
    }
   ],
   "source": [
    "weather.dtypes"
   ]
  },
  {
   "cell_type": "code",
   "execution_count": 5,
   "id": "81297a6e",
   "metadata": {},
   "outputs": [
    {
     "data": {
      "text/plain": [
       "0     4.0\n",
       "1    11.0\n",
       "2     3.0\n",
       "3     6.0\n",
       "4     4.0\n",
       "Name: temperature_high, dtype: float64"
      ]
     },
     "execution_count": 5,
     "metadata": {},
     "output_type": "execute_result"
    }
   ],
   "source": [
    "weather['temperature_high']"
   ]
  },
  {
   "cell_type": "code",
   "execution_count": 6,
   "id": "a9871802",
   "metadata": {},
   "outputs": [
    {
     "data": {
      "text/plain": [
       "0     4\n",
       "1    11\n",
       "2     3\n",
       "3     6\n",
       "4     4\n",
       "Name: temperature_high, dtype: int8"
      ]
     },
     "execution_count": 6,
     "metadata": {},
     "output_type": "execute_result"
    }
   ],
   "source": [
    "weather['temperature_high'].astype('int8')"
   ]
  },
  {
   "cell_type": "code",
   "execution_count": 7,
   "id": "7b497c07",
   "metadata": {},
   "outputs": [
    {
     "data": {
      "text/plain": [
       "date                 object\n",
       "temperature_high    float64\n",
       "temperature_low      object\n",
       "rained                int64\n",
       "snowed                 bool\n",
       "overcast             object\n",
       "comments             object\n",
       "dtype: object"
      ]
     },
     "execution_count": 7,
     "metadata": {},
     "output_type": "execute_result"
    }
   ],
   "source": [
    "weather.dtypes"
   ]
  },
  {
   "cell_type": "code",
   "execution_count": 8,
   "id": "cf838799",
   "metadata": {},
   "outputs": [],
   "source": [
    "weather['temperature_high'] = weather['temperature_high'].astype('int8')"
   ]
  },
  {
   "cell_type": "code",
   "execution_count": 9,
   "id": "9deca2a8",
   "metadata": {},
   "outputs": [
    {
     "data": {
      "text/plain": [
       "date                object\n",
       "temperature_high      int8\n",
       "temperature_low     object\n",
       "rained               int64\n",
       "snowed                bool\n",
       "overcast            object\n",
       "comments            object\n",
       "dtype: object"
      ]
     },
     "execution_count": 9,
     "metadata": {},
     "output_type": "execute_result"
    }
   ],
   "source": [
    "weather.dtypes"
   ]
  },
  {
   "cell_type": "code",
   "execution_count": 10,
   "id": "197e0e3d",
   "metadata": {},
   "outputs": [],
   "source": [
    "weather['rained'] = weather['rained'].astype('bool') "
   ]
  },
  {
   "cell_type": "code",
   "execution_count": 11,
   "id": "7a0666ef",
   "metadata": {},
   "outputs": [
    {
     "data": {
      "text/plain": [
       "0     True\n",
       "1    False\n",
       "2    False\n",
       "3    False\n",
       "4    False\n",
       "Name: rained, dtype: bool"
      ]
     },
     "execution_count": 11,
     "metadata": {},
     "output_type": "execute_result"
    }
   ],
   "source": [
    "weather['rained']"
   ]
  },
  {
   "cell_type": "markdown",
   "id": "744d5af0",
   "metadata": {},
   "source": [
    "## Dictionaries method"
   ]
  },
  {
   "cell_type": "code",
   "execution_count": 12,
   "id": "72e2d044",
   "metadata": {},
   "outputs": [
    {
     "data": {
      "text/html": [
       "<div>\n",
       "<style scoped>\n",
       "    .dataframe tbody tr th:only-of-type {\n",
       "        vertical-align: middle;\n",
       "    }\n",
       "\n",
       "    .dataframe tbody tr th {\n",
       "        vertical-align: top;\n",
       "    }\n",
       "\n",
       "    .dataframe thead th {\n",
       "        text-align: right;\n",
       "    }\n",
       "</style>\n",
       "<table border=\"1\" class=\"dataframe\">\n",
       "  <thead>\n",
       "    <tr style=\"text-align: right;\">\n",
       "      <th></th>\n",
       "      <th>date</th>\n",
       "      <th>temperature_high</th>\n",
       "      <th>temperature_low</th>\n",
       "      <th>rained</th>\n",
       "      <th>snowed</th>\n",
       "      <th>overcast</th>\n",
       "      <th>comments</th>\n",
       "    </tr>\n",
       "  </thead>\n",
       "  <tbody>\n",
       "    <tr>\n",
       "      <th>0</th>\n",
       "      <td>2021-01-01</td>\n",
       "      <td>4</td>\n",
       "      <td>1</td>\n",
       "      <td>True</td>\n",
       "      <td>False</td>\n",
       "      <td>cloudy</td>\n",
       "      <td>happy new year</td>\n",
       "    </tr>\n",
       "    <tr>\n",
       "      <th>1</th>\n",
       "      <td>2021-01-02</td>\n",
       "      <td>11</td>\n",
       "      <td>2</td>\n",
       "      <td>False</td>\n",
       "      <td>False</td>\n",
       "      <td>sunny</td>\n",
       "      <td>second day</td>\n",
       "    </tr>\n",
       "    <tr>\n",
       "      <th>2</th>\n",
       "      <td>2021-01-03</td>\n",
       "      <td>3</td>\n",
       "      <td>2</td>\n",
       "      <td>False</td>\n",
       "      <td>False</td>\n",
       "      <td>foggy</td>\n",
       "      <td>third day</td>\n",
       "    </tr>\n",
       "    <tr>\n",
       "      <th>3</th>\n",
       "      <td>2021-01-04</td>\n",
       "      <td>6</td>\n",
       "      <td>2</td>\n",
       "      <td>False</td>\n",
       "      <td>False</td>\n",
       "      <td>sunny</td>\n",
       "      <td>first business day</td>\n",
       "    </tr>\n",
       "    <tr>\n",
       "      <th>4</th>\n",
       "      <td>2021-01-05</td>\n",
       "      <td>4</td>\n",
       "      <td>unknown</td>\n",
       "      <td>False</td>\n",
       "      <td>False</td>\n",
       "      <td>cloudy</td>\n",
       "      <td>second business day</td>\n",
       "    </tr>\n",
       "  </tbody>\n",
       "</table>\n",
       "</div>"
      ],
      "text/plain": [
       "         date  temperature_high temperature_low  rained  snowed overcast  \\\n",
       "0  2021-01-01                 4               1    True   False   cloudy   \n",
       "1  2021-01-02                11               2   False   False    sunny   \n",
       "2  2021-01-03                 3               2   False   False    foggy   \n",
       "3  2021-01-04                 6               2   False   False    sunny   \n",
       "4  2021-01-05                 4         unknown   False   False   cloudy   \n",
       "\n",
       "              comments  \n",
       "0       happy new year  \n",
       "1           second day  \n",
       "2            third day  \n",
       "3   first business day  \n",
       "4  second business day  "
      ]
     },
     "execution_count": 12,
     "metadata": {},
     "output_type": "execute_result"
    }
   ],
   "source": [
    "new_weather = weather.astype({'overcast':'category','comments':'string'})\n",
    "new_weather"
   ]
  },
  {
   "cell_type": "code",
   "execution_count": 13,
   "id": "de0a933e",
   "metadata": {},
   "outputs": [
    {
     "data": {
      "text/plain": [
       "0    cloudy\n",
       "1     sunny\n",
       "2     foggy\n",
       "3     sunny\n",
       "4    cloudy\n",
       "Name: overcast, dtype: category\n",
       "Categories (3, object): ['cloudy', 'foggy', 'sunny']"
      ]
     },
     "execution_count": 13,
     "metadata": {},
     "output_type": "execute_result"
    }
   ],
   "source": [
    "new_weather['overcast']"
   ]
  },
  {
   "cell_type": "code",
   "execution_count": 14,
   "id": "c999bcdc",
   "metadata": {},
   "outputs": [
    {
     "data": {
      "text/plain": [
       "0         happy new year\n",
       "1             second day\n",
       "2              third day\n",
       "3     first business day\n",
       "4    second business day\n",
       "Name: comments, dtype: string"
      ]
     },
     "execution_count": 14,
     "metadata": {},
     "output_type": "execute_result"
    }
   ],
   "source": [
    "new_weather['comments']"
   ]
  },
  {
   "cell_type": "code",
   "execution_count": 15,
   "id": "bfeaa2d5",
   "metadata": {},
   "outputs": [
    {
     "data": {
      "text/plain": [
       "date                  object\n",
       "temperature_high        int8\n",
       "temperature_low       object\n",
       "rained                  bool\n",
       "snowed                  bool\n",
       "overcast            category\n",
       "comments              string\n",
       "dtype: object"
      ]
     },
     "execution_count": 15,
     "metadata": {},
     "output_type": "execute_result"
    }
   ],
   "source": [
    "new_weather.dtypes"
   ]
  },
  {
   "cell_type": "code",
   "execution_count": 16,
   "id": "c3a784a6",
   "metadata": {},
   "outputs": [],
   "source": [
    "# new_weather['temperature_low'] = new_weather['temperature_low'].astype('int8')"
   ]
  },
  {
   "cell_type": "code",
   "execution_count": 17,
   "id": "e7b5b4de",
   "metadata": {},
   "outputs": [],
   "source": [
    "new_weather['temperature_low'] = pd.to_numeric(new_weather['temperature_low'],errors='coerce')"
   ]
  },
  {
   "cell_type": "code",
   "execution_count": 18,
   "id": "7e8b84d7",
   "metadata": {},
   "outputs": [
    {
     "data": {
      "text/plain": [
       "0    1.0\n",
       "1    2.0\n",
       "2    2.0\n",
       "3    2.0\n",
       "4    NaN\n",
       "Name: temperature_low, dtype: float64"
      ]
     },
     "execution_count": 18,
     "metadata": {},
     "output_type": "execute_result"
    }
   ],
   "source": [
    "new_weather['temperature_low']"
   ]
  },
  {
   "cell_type": "code",
   "execution_count": 19,
   "id": "d3db8978",
   "metadata": {},
   "outputs": [],
   "source": [
    "# new_weather['date'] = new_weather['date'].astype('daterime64')\n",
    "new_weather['date'] = pd.to_datetime(new_weather['date'])"
   ]
  },
  {
   "cell_type": "code",
   "execution_count": 20,
   "id": "04e22924",
   "metadata": {},
   "outputs": [
    {
     "data": {
      "text/plain": [
       "0   2021-01-01\n",
       "1   2021-01-02\n",
       "2   2021-01-03\n",
       "3   2021-01-04\n",
       "4   2021-01-05\n",
       "Name: date, dtype: datetime64[ns]"
      ]
     },
     "execution_count": 20,
     "metadata": {},
     "output_type": "execute_result"
    }
   ],
   "source": [
    "new_weather['date']"
   ]
  },
  {
   "cell_type": "code",
   "execution_count": 21,
   "id": "0ff19958",
   "metadata": {},
   "outputs": [
    {
     "data": {
      "text/html": [
       "<div>\n",
       "<style scoped>\n",
       "    .dataframe tbody tr th:only-of-type {\n",
       "        vertical-align: middle;\n",
       "    }\n",
       "\n",
       "    .dataframe tbody tr th {\n",
       "        vertical-align: top;\n",
       "    }\n",
       "\n",
       "    .dataframe thead th {\n",
       "        text-align: right;\n",
       "    }\n",
       "</style>\n",
       "<table border=\"1\" class=\"dataframe\">\n",
       "  <thead>\n",
       "    <tr style=\"text-align: right;\">\n",
       "      <th></th>\n",
       "      <th>date</th>\n",
       "      <th>temperature_high</th>\n",
       "      <th>temperature_low</th>\n",
       "      <th>rained</th>\n",
       "      <th>snowed</th>\n",
       "      <th>overcast</th>\n",
       "      <th>comments</th>\n",
       "    </tr>\n",
       "  </thead>\n",
       "  <tbody>\n",
       "    <tr>\n",
       "      <th>0</th>\n",
       "      <td>2021-01-01</td>\n",
       "      <td>4</td>\n",
       "      <td>1.0</td>\n",
       "      <td>True</td>\n",
       "      <td>False</td>\n",
       "      <td>cloudy</td>\n",
       "      <td>happy new year</td>\n",
       "    </tr>\n",
       "    <tr>\n",
       "      <th>1</th>\n",
       "      <td>2021-01-02</td>\n",
       "      <td>11</td>\n",
       "      <td>2.0</td>\n",
       "      <td>False</td>\n",
       "      <td>False</td>\n",
       "      <td>sunny</td>\n",
       "      <td>second day</td>\n",
       "    </tr>\n",
       "    <tr>\n",
       "      <th>2</th>\n",
       "      <td>2021-01-03</td>\n",
       "      <td>3</td>\n",
       "      <td>2.0</td>\n",
       "      <td>False</td>\n",
       "      <td>False</td>\n",
       "      <td>foggy</td>\n",
       "      <td>third day</td>\n",
       "    </tr>\n",
       "    <tr>\n",
       "      <th>3</th>\n",
       "      <td>2021-01-04</td>\n",
       "      <td>6</td>\n",
       "      <td>2.0</td>\n",
       "      <td>False</td>\n",
       "      <td>False</td>\n",
       "      <td>sunny</td>\n",
       "      <td>first business day</td>\n",
       "    </tr>\n",
       "    <tr>\n",
       "      <th>4</th>\n",
       "      <td>2021-01-05</td>\n",
       "      <td>4</td>\n",
       "      <td>NaN</td>\n",
       "      <td>False</td>\n",
       "      <td>False</td>\n",
       "      <td>cloudy</td>\n",
       "      <td>second business day</td>\n",
       "    </tr>\n",
       "  </tbody>\n",
       "</table>\n",
       "</div>"
      ],
      "text/plain": [
       "        date  temperature_high  temperature_low  rained  snowed overcast  \\\n",
       "0 2021-01-01                 4              1.0    True   False   cloudy   \n",
       "1 2021-01-02                11              2.0   False   False    sunny   \n",
       "2 2021-01-03                 3              2.0   False   False    foggy   \n",
       "3 2021-01-04                 6              2.0   False   False    sunny   \n",
       "4 2021-01-05                 4              NaN   False   False   cloudy   \n",
       "\n",
       "              comments  \n",
       "0       happy new year  \n",
       "1           second day  \n",
       "2            third day  \n",
       "3   first business day  \n",
       "4  second business day  "
      ]
     },
     "execution_count": 21,
     "metadata": {},
     "output_type": "execute_result"
    }
   ],
   "source": [
    "new_weather"
   ]
  },
  {
   "cell_type": "code",
   "execution_count": 22,
   "id": "6219eb48",
   "metadata": {},
   "outputs": [
    {
     "name": "stdout",
     "output_type": "stream",
     "text": [
      "<class 'pandas.core.frame.DataFrame'>\n",
      "RangeIndex: 5 entries, 0 to 4\n",
      "Data columns (total 7 columns):\n",
      " #   Column            Non-Null Count  Dtype         \n",
      "---  ------            --------------  -----         \n",
      " 0   date              5 non-null      datetime64[ns]\n",
      " 1   temperature_high  5 non-null      int8          \n",
      " 2   temperature_low   4 non-null      float64       \n",
      " 3   rained            5 non-null      bool          \n",
      " 4   snowed            5 non-null      bool          \n",
      " 5   overcast          5 non-null      category      \n",
      " 6   comments          5 non-null      string        \n",
      "dtypes: bool(2), category(1), datetime64[ns](1), float64(1), int8(1), string(1)\n",
      "memory usage: 400.0 bytes\n"
     ]
    }
   ],
   "source": [
    "new_weather.info()"
   ]
  },
  {
   "cell_type": "markdown",
   "id": "fcf1aa64",
   "metadata": {},
   "source": [
    "# Load Data"
   ]
  },
  {
   "cell_type": "code",
   "execution_count": 23,
   "id": "c20f76a1",
   "metadata": {},
   "outputs": [],
   "source": [
    "hero_power = pd.read_csv('superhero_powers.csv')\n",
    "marvel_hero = pd.read_excel('superhero_info.xlsx',sheet_name='Marvel Comics')\n",
    "dc_hero = pd.read_excel('superhero_info.xlsx',sheet_name='DC Comics')"
   ]
  },
  {
   "cell_type": "code",
   "execution_count": 24,
   "id": "a832c17a",
   "metadata": {},
   "outputs": [
    {
     "data": {
      "text/html": [
       "<div>\n",
       "<style scoped>\n",
       "    .dataframe tbody tr th:only-of-type {\n",
       "        vertical-align: middle;\n",
       "    }\n",
       "\n",
       "    .dataframe tbody tr th {\n",
       "        vertical-align: top;\n",
       "    }\n",
       "\n",
       "    .dataframe thead th {\n",
       "        text-align: right;\n",
       "    }\n",
       "</style>\n",
       "<table border=\"1\" class=\"dataframe\">\n",
       "  <thead>\n",
       "    <tr style=\"text-align: right;\">\n",
       "      <th></th>\n",
       "      <th>hero_names</th>\n",
       "      <th>Agility</th>\n",
       "      <th>Accelerated Healing</th>\n",
       "      <th>Lantern Power Ring</th>\n",
       "      <th>Dimensional Awareness</th>\n",
       "      <th>Cold Resistance</th>\n",
       "      <th>Durability</th>\n",
       "      <th>Stealth</th>\n",
       "      <th>Energy Absorption</th>\n",
       "      <th>Flight</th>\n",
       "      <th>...</th>\n",
       "      <th>Web Creation</th>\n",
       "      <th>Reality Warping</th>\n",
       "      <th>Odin Force</th>\n",
       "      <th>Symbiote Costume</th>\n",
       "      <th>Speed Force</th>\n",
       "      <th>Phoenix Force</th>\n",
       "      <th>Molecular Dissipation</th>\n",
       "      <th>Vision - Cryo</th>\n",
       "      <th>Omnipresent</th>\n",
       "      <th>Omniscient</th>\n",
       "    </tr>\n",
       "  </thead>\n",
       "  <tbody>\n",
       "    <tr>\n",
       "      <th>0</th>\n",
       "      <td>3-D Man</td>\n",
       "      <td>True</td>\n",
       "      <td>False</td>\n",
       "      <td>False</td>\n",
       "      <td>False</td>\n",
       "      <td>False</td>\n",
       "      <td>False</td>\n",
       "      <td>False</td>\n",
       "      <td>False</td>\n",
       "      <td>False</td>\n",
       "      <td>...</td>\n",
       "      <td>False</td>\n",
       "      <td>False</td>\n",
       "      <td>False</td>\n",
       "      <td>False</td>\n",
       "      <td>False</td>\n",
       "      <td>False</td>\n",
       "      <td>False</td>\n",
       "      <td>False</td>\n",
       "      <td>False</td>\n",
       "      <td>False</td>\n",
       "    </tr>\n",
       "    <tr>\n",
       "      <th>1</th>\n",
       "      <td>A-Bomb</td>\n",
       "      <td>False</td>\n",
       "      <td>True</td>\n",
       "      <td>False</td>\n",
       "      <td>False</td>\n",
       "      <td>False</td>\n",
       "      <td>True</td>\n",
       "      <td>False</td>\n",
       "      <td>False</td>\n",
       "      <td>False</td>\n",
       "      <td>...</td>\n",
       "      <td>False</td>\n",
       "      <td>False</td>\n",
       "      <td>False</td>\n",
       "      <td>False</td>\n",
       "      <td>False</td>\n",
       "      <td>False</td>\n",
       "      <td>False</td>\n",
       "      <td>False</td>\n",
       "      <td>False</td>\n",
       "      <td>False</td>\n",
       "    </tr>\n",
       "    <tr>\n",
       "      <th>2</th>\n",
       "      <td>Abe Sapien</td>\n",
       "      <td>True</td>\n",
       "      <td>True</td>\n",
       "      <td>False</td>\n",
       "      <td>False</td>\n",
       "      <td>True</td>\n",
       "      <td>True</td>\n",
       "      <td>False</td>\n",
       "      <td>False</td>\n",
       "      <td>False</td>\n",
       "      <td>...</td>\n",
       "      <td>False</td>\n",
       "      <td>False</td>\n",
       "      <td>False</td>\n",
       "      <td>False</td>\n",
       "      <td>False</td>\n",
       "      <td>False</td>\n",
       "      <td>False</td>\n",
       "      <td>False</td>\n",
       "      <td>False</td>\n",
       "      <td>False</td>\n",
       "    </tr>\n",
       "    <tr>\n",
       "      <th>3</th>\n",
       "      <td>Abin Sur</td>\n",
       "      <td>False</td>\n",
       "      <td>False</td>\n",
       "      <td>True</td>\n",
       "      <td>False</td>\n",
       "      <td>False</td>\n",
       "      <td>False</td>\n",
       "      <td>False</td>\n",
       "      <td>False</td>\n",
       "      <td>False</td>\n",
       "      <td>...</td>\n",
       "      <td>False</td>\n",
       "      <td>False</td>\n",
       "      <td>False</td>\n",
       "      <td>False</td>\n",
       "      <td>False</td>\n",
       "      <td>False</td>\n",
       "      <td>False</td>\n",
       "      <td>False</td>\n",
       "      <td>False</td>\n",
       "      <td>False</td>\n",
       "    </tr>\n",
       "    <tr>\n",
       "      <th>4</th>\n",
       "      <td>Abomination</td>\n",
       "      <td>False</td>\n",
       "      <td>True</td>\n",
       "      <td>False</td>\n",
       "      <td>False</td>\n",
       "      <td>False</td>\n",
       "      <td>False</td>\n",
       "      <td>False</td>\n",
       "      <td>False</td>\n",
       "      <td>False</td>\n",
       "      <td>...</td>\n",
       "      <td>False</td>\n",
       "      <td>False</td>\n",
       "      <td>False</td>\n",
       "      <td>False</td>\n",
       "      <td>False</td>\n",
       "      <td>False</td>\n",
       "      <td>False</td>\n",
       "      <td>False</td>\n",
       "      <td>False</td>\n",
       "      <td>False</td>\n",
       "    </tr>\n",
       "    <tr>\n",
       "      <th>...</th>\n",
       "      <td>...</td>\n",
       "      <td>...</td>\n",
       "      <td>...</td>\n",
       "      <td>...</td>\n",
       "      <td>...</td>\n",
       "      <td>...</td>\n",
       "      <td>...</td>\n",
       "      <td>...</td>\n",
       "      <td>...</td>\n",
       "      <td>...</td>\n",
       "      <td>...</td>\n",
       "      <td>...</td>\n",
       "      <td>...</td>\n",
       "      <td>...</td>\n",
       "      <td>...</td>\n",
       "      <td>...</td>\n",
       "      <td>...</td>\n",
       "      <td>...</td>\n",
       "      <td>...</td>\n",
       "      <td>...</td>\n",
       "      <td>...</td>\n",
       "    </tr>\n",
       "    <tr>\n",
       "      <th>662</th>\n",
       "      <td>Yellowjacket II</td>\n",
       "      <td>False</td>\n",
       "      <td>False</td>\n",
       "      <td>False</td>\n",
       "      <td>False</td>\n",
       "      <td>False</td>\n",
       "      <td>False</td>\n",
       "      <td>False</td>\n",
       "      <td>False</td>\n",
       "      <td>True</td>\n",
       "      <td>...</td>\n",
       "      <td>False</td>\n",
       "      <td>False</td>\n",
       "      <td>False</td>\n",
       "      <td>False</td>\n",
       "      <td>False</td>\n",
       "      <td>False</td>\n",
       "      <td>False</td>\n",
       "      <td>False</td>\n",
       "      <td>False</td>\n",
       "      <td>False</td>\n",
       "    </tr>\n",
       "    <tr>\n",
       "      <th>663</th>\n",
       "      <td>Ymir</td>\n",
       "      <td>False</td>\n",
       "      <td>False</td>\n",
       "      <td>False</td>\n",
       "      <td>False</td>\n",
       "      <td>True</td>\n",
       "      <td>True</td>\n",
       "      <td>False</td>\n",
       "      <td>False</td>\n",
       "      <td>False</td>\n",
       "      <td>...</td>\n",
       "      <td>False</td>\n",
       "      <td>False</td>\n",
       "      <td>False</td>\n",
       "      <td>False</td>\n",
       "      <td>False</td>\n",
       "      <td>False</td>\n",
       "      <td>False</td>\n",
       "      <td>False</td>\n",
       "      <td>False</td>\n",
       "      <td>False</td>\n",
       "    </tr>\n",
       "    <tr>\n",
       "      <th>664</th>\n",
       "      <td>Yoda</td>\n",
       "      <td>True</td>\n",
       "      <td>False</td>\n",
       "      <td>False</td>\n",
       "      <td>False</td>\n",
       "      <td>False</td>\n",
       "      <td>False</td>\n",
       "      <td>True</td>\n",
       "      <td>False</td>\n",
       "      <td>False</td>\n",
       "      <td>...</td>\n",
       "      <td>False</td>\n",
       "      <td>False</td>\n",
       "      <td>False</td>\n",
       "      <td>False</td>\n",
       "      <td>False</td>\n",
       "      <td>False</td>\n",
       "      <td>False</td>\n",
       "      <td>False</td>\n",
       "      <td>False</td>\n",
       "      <td>False</td>\n",
       "    </tr>\n",
       "    <tr>\n",
       "      <th>665</th>\n",
       "      <td>Zatanna</td>\n",
       "      <td>False</td>\n",
       "      <td>False</td>\n",
       "      <td>False</td>\n",
       "      <td>False</td>\n",
       "      <td>False</td>\n",
       "      <td>False</td>\n",
       "      <td>False</td>\n",
       "      <td>False</td>\n",
       "      <td>False</td>\n",
       "      <td>...</td>\n",
       "      <td>False</td>\n",
       "      <td>False</td>\n",
       "      <td>False</td>\n",
       "      <td>False</td>\n",
       "      <td>False</td>\n",
       "      <td>False</td>\n",
       "      <td>False</td>\n",
       "      <td>False</td>\n",
       "      <td>False</td>\n",
       "      <td>False</td>\n",
       "    </tr>\n",
       "    <tr>\n",
       "      <th>666</th>\n",
       "      <td>Zoom</td>\n",
       "      <td>False</td>\n",
       "      <td>False</td>\n",
       "      <td>False</td>\n",
       "      <td>False</td>\n",
       "      <td>False</td>\n",
       "      <td>False</td>\n",
       "      <td>False</td>\n",
       "      <td>False</td>\n",
       "      <td>False</td>\n",
       "      <td>...</td>\n",
       "      <td>False</td>\n",
       "      <td>False</td>\n",
       "      <td>False</td>\n",
       "      <td>False</td>\n",
       "      <td>False</td>\n",
       "      <td>False</td>\n",
       "      <td>False</td>\n",
       "      <td>False</td>\n",
       "      <td>False</td>\n",
       "      <td>False</td>\n",
       "    </tr>\n",
       "  </tbody>\n",
       "</table>\n",
       "<p>667 rows × 168 columns</p>\n",
       "</div>"
      ],
      "text/plain": [
       "          hero_names  Agility  Accelerated Healing  Lantern Power Ring  \\\n",
       "0            3-D Man     True                False               False   \n",
       "1             A-Bomb    False                 True               False   \n",
       "2         Abe Sapien     True                 True               False   \n",
       "3           Abin Sur    False                False                True   \n",
       "4        Abomination    False                 True               False   \n",
       "..               ...      ...                  ...                 ...   \n",
       "662  Yellowjacket II    False                False               False   \n",
       "663             Ymir    False                False               False   \n",
       "664             Yoda     True                False               False   \n",
       "665          Zatanna    False                False               False   \n",
       "666             Zoom    False                False               False   \n",
       "\n",
       "     Dimensional Awareness  Cold Resistance  Durability  Stealth  \\\n",
       "0                    False            False       False    False   \n",
       "1                    False            False        True    False   \n",
       "2                    False             True        True    False   \n",
       "3                    False            False       False    False   \n",
       "4                    False            False       False    False   \n",
       "..                     ...              ...         ...      ...   \n",
       "662                  False            False       False    False   \n",
       "663                  False             True        True    False   \n",
       "664                  False            False       False     True   \n",
       "665                  False            False       False    False   \n",
       "666                  False            False       False    False   \n",
       "\n",
       "     Energy Absorption  Flight  ...  Web Creation  Reality Warping  \\\n",
       "0                False   False  ...         False            False   \n",
       "1                False   False  ...         False            False   \n",
       "2                False   False  ...         False            False   \n",
       "3                False   False  ...         False            False   \n",
       "4                False   False  ...         False            False   \n",
       "..                 ...     ...  ...           ...              ...   \n",
       "662              False    True  ...         False            False   \n",
       "663              False   False  ...         False            False   \n",
       "664              False   False  ...         False            False   \n",
       "665              False   False  ...         False            False   \n",
       "666              False   False  ...         False            False   \n",
       "\n",
       "     Odin Force  Symbiote Costume  Speed Force  Phoenix Force  \\\n",
       "0         False             False        False          False   \n",
       "1         False             False        False          False   \n",
       "2         False             False        False          False   \n",
       "3         False             False        False          False   \n",
       "4         False             False        False          False   \n",
       "..          ...               ...          ...            ...   \n",
       "662       False             False        False          False   \n",
       "663       False             False        False          False   \n",
       "664       False             False        False          False   \n",
       "665       False             False        False          False   \n",
       "666       False             False        False          False   \n",
       "\n",
       "     Molecular Dissipation  Vision - Cryo  Omnipresent  Omniscient  \n",
       "0                    False          False        False       False  \n",
       "1                    False          False        False       False  \n",
       "2                    False          False        False       False  \n",
       "3                    False          False        False       False  \n",
       "4                    False          False        False       False  \n",
       "..                     ...            ...          ...         ...  \n",
       "662                  False          False        False       False  \n",
       "663                  False          False        False       False  \n",
       "664                  False          False        False       False  \n",
       "665                  False          False        False       False  \n",
       "666                  False          False        False       False  \n",
       "\n",
       "[667 rows x 168 columns]"
      ]
     },
     "execution_count": 24,
     "metadata": {},
     "output_type": "execute_result"
    }
   ],
   "source": [
    "hero_power"
   ]
  },
  {
   "cell_type": "code",
   "execution_count": 25,
   "id": "44363822",
   "metadata": {},
   "outputs": [
    {
     "name": "stdout",
     "output_type": "stream",
     "text": [
      "<class 'pandas.core.frame.DataFrame'>\n",
      "RangeIndex: 667 entries, 0 to 666\n",
      "Data columns (total 168 columns):\n",
      " #    Column                        Dtype \n",
      "---   ------                        ----- \n",
      " 0    hero_names                    object\n",
      " 1    Agility                       bool  \n",
      " 2    Accelerated Healing           bool  \n",
      " 3    Lantern Power Ring            bool  \n",
      " 4    Dimensional Awareness         bool  \n",
      " 5    Cold Resistance               bool  \n",
      " 6    Durability                    bool  \n",
      " 7    Stealth                       bool  \n",
      " 8    Energy Absorption             bool  \n",
      " 9    Flight                        bool  \n",
      " 10   Danger Sense                  bool  \n",
      " 11   Underwater breathing          bool  \n",
      " 12   Marksmanship                  bool  \n",
      " 13   Weapons Master                bool  \n",
      " 14   Power Augmentation            bool  \n",
      " 15   Animal Attributes             bool  \n",
      " 16   Longevity                     bool  \n",
      " 17   Intelligence                  bool  \n",
      " 18   Super Strength                bool  \n",
      " 19   Cryokinesis                   bool  \n",
      " 20   Telepathy                     bool  \n",
      " 21   Energy Armor                  bool  \n",
      " 22   Energy Blasts                 bool  \n",
      " 23   Duplication                   bool  \n",
      " 24   Size Changing                 bool  \n",
      " 25   Density Control               bool  \n",
      " 26   Stamina                       bool  \n",
      " 27   Astral Travel                 bool  \n",
      " 28   Audio Control                 bool  \n",
      " 29   Dexterity                     bool  \n",
      " 30   Omnitrix                      bool  \n",
      " 31   Super Speed                   bool  \n",
      " 32   Possession                    bool  \n",
      " 33   Animal Oriented Powers        bool  \n",
      " 34   Weapon-based Powers           bool  \n",
      " 35   Electrokinesis                bool  \n",
      " 36   Darkforce Manipulation        bool  \n",
      " 37   Death Touch                   bool  \n",
      " 38   Teleportation                 bool  \n",
      " 39   Enhanced Senses               bool  \n",
      " 40   Telekinesis                   bool  \n",
      " 41   Energy Beams                  bool  \n",
      " 42   Magic                         bool  \n",
      " 43   Hyperkinesis                  bool  \n",
      " 44   Jump                          bool  \n",
      " 45   Clairvoyance                  bool  \n",
      " 46   Dimensional Travel            bool  \n",
      " 47   Power Sense                   bool  \n",
      " 48   Shapeshifting                 bool  \n",
      " 49   Peak Human Condition          bool  \n",
      " 50   Immortality                   bool  \n",
      " 51   Camouflage                    bool  \n",
      " 52   Element Control               bool  \n",
      " 53   Phasing                       bool  \n",
      " 54   Astral Projection             bool  \n",
      " 55   Electrical Transport          bool  \n",
      " 56   Fire Control                  bool  \n",
      " 57   Projection                    bool  \n",
      " 58   Summoning                     bool  \n",
      " 59   Enhanced Memory               bool  \n",
      " 60   Reflexes                      bool  \n",
      " 61   Invulnerability               bool  \n",
      " 62   Energy Constructs             bool  \n",
      " 63   Force Fields                  bool  \n",
      " 64   Self-Sustenance               bool  \n",
      " 65   Anti-Gravity                  bool  \n",
      " 66   Empathy                       bool  \n",
      " 67   Power Nullifier               bool  \n",
      " 68   Radiation Control             bool  \n",
      " 69   Psionic Powers                bool  \n",
      " 70   Elasticity                    bool  \n",
      " 71   Substance Secretion           bool  \n",
      " 72   Elemental Transmogrification  bool  \n",
      " 73   Technopath/Cyberpath          bool  \n",
      " 74   Photographic Reflexes         bool  \n",
      " 75   Seismic Power                 bool  \n",
      " 76   Animation                     bool  \n",
      " 77   Precognition                  bool  \n",
      " 78   Mind Control                  bool  \n",
      " 79   Fire Resistance               bool  \n",
      " 80   Power Absorption              bool  \n",
      " 81   Enhanced Hearing              bool  \n",
      " 82   Nova Force                    bool  \n",
      " 83   Insanity                      bool  \n",
      " 84   Hypnokinesis                  bool  \n",
      " 85   Animal Control                bool  \n",
      " 86   Natural Armor                 bool  \n",
      " 87   Intangibility                 bool  \n",
      " 88   Enhanced Sight                bool  \n",
      " 89   Molecular Manipulation        bool  \n",
      " 90   Heat Generation               bool  \n",
      " 91   Adaptation                    bool  \n",
      " 92   Gliding                       bool  \n",
      " 93   Power Suit                    bool  \n",
      " 94   Mind Blast                    bool  \n",
      " 95   Probability Manipulation      bool  \n",
      " 96   Gravity Control               bool  \n",
      " 97   Regeneration                  bool  \n",
      " 98   Light Control                 bool  \n",
      " 99   Echolocation                  bool  \n",
      " 100  Levitation                    bool  \n",
      " 101  Toxin and Disease Control     bool  \n",
      " 102  Banish                        bool  \n",
      " 103  Energy Manipulation           bool  \n",
      " 104  Heat Resistance               bool  \n",
      " 105  Natural Weapons               bool  \n",
      " 106  Time Travel                   bool  \n",
      " 107  Enhanced Smell                bool  \n",
      " 108  Illusions                     bool  \n",
      " 109  Thirstokinesis                bool  \n",
      " 110  Hair Manipulation             bool  \n",
      " 111  Illumination                  bool  \n",
      " 112  Omnipotent                    bool  \n",
      " 113  Cloaking                      bool  \n",
      " 114  Changing Armor                bool  \n",
      " 115  Power Cosmic                  bool  \n",
      " 116  Biokinesis                    bool  \n",
      " 117  Water Control                 bool  \n",
      " 118  Radiation Immunity            bool  \n",
      " 119  Vision - Telescopic           bool  \n",
      " 120  Toxin and Disease Resistance  bool  \n",
      " 121  Spatial Awareness             bool  \n",
      " 122  Energy Resistance             bool  \n",
      " 123  Telepathy Resistance          bool  \n",
      " 124  Molecular Combustion          bool  \n",
      " 125  Omnilingualism                bool  \n",
      " 126  Portal Creation               bool  \n",
      " 127  Magnetism                     bool  \n",
      " 128  Mind Control Resistance       bool  \n",
      " 129  Plant Control                 bool  \n",
      " 130  Sonar                         bool  \n",
      " 131  Sonic Scream                  bool  \n",
      " 132  Time Manipulation             bool  \n",
      " 133  Enhanced Touch                bool  \n",
      " 134  Magic Resistance              bool  \n",
      " 135  Invisibility                  bool  \n",
      " 136  Sub-Mariner                   bool  \n",
      " 137  Radiation Absorption          bool  \n",
      " 138  Intuitive aptitude            bool  \n",
      " 139  Vision - Microscopic          bool  \n",
      " 140  Melting                       bool  \n",
      " 141  Wind Control                  bool  \n",
      " 142  Super Breath                  bool  \n",
      " 143  Wallcrawling                  bool  \n",
      " 144  Vision - Night                bool  \n",
      " 145  Vision - Infrared             bool  \n",
      " 146  Grim Reaping                  bool  \n",
      " 147  Matter Absorption             bool  \n",
      " 148  The Force                     bool  \n",
      " 149  Resurrection                  bool  \n",
      " 150  Terrakinesis                  bool  \n",
      " 151  Vision - Heat                 bool  \n",
      " 152  Vitakinesis                   bool  \n",
      " 153  Radar Sense                   bool  \n",
      " 154  Qwardian Power Ring           bool  \n",
      " 155  Weather Control               bool  \n",
      " 156  Vision - X-Ray                bool  \n",
      " 157  Vision - Thermal              bool  \n",
      " 158  Web Creation                  bool  \n",
      " 159  Reality Warping               bool  \n",
      " 160  Odin Force                    bool  \n",
      " 161  Symbiote Costume              bool  \n",
      " 162  Speed Force                   bool  \n",
      " 163  Phoenix Force                 bool  \n",
      " 164  Molecular Dissipation         bool  \n",
      " 165  Vision - Cryo                 bool  \n",
      " 166  Omnipresent                   bool  \n",
      " 167  Omniscient                    bool  \n",
      "dtypes: bool(167), object(1)\n",
      "memory usage: 114.1+ KB\n"
     ]
    }
   ],
   "source": [
    "hero_power.info(verbose=True)"
   ]
  },
  {
   "cell_type": "code",
   "execution_count": 26,
   "id": "513cc395",
   "metadata": {},
   "outputs": [],
   "source": [
    "hero_power['hero_names'] = hero_power['hero_names'].astype('string')"
   ]
  },
  {
   "cell_type": "code",
   "execution_count": 27,
   "id": "77dcde1e",
   "metadata": {},
   "outputs": [
    {
     "name": "stdout",
     "output_type": "stream",
     "text": [
      "<class 'pandas.core.frame.DataFrame'>\n",
      "RangeIndex: 667 entries, 0 to 666\n",
      "Data columns (total 168 columns):\n",
      " #    Column                        Dtype \n",
      "---   ------                        ----- \n",
      " 0    hero_names                    string\n",
      " 1    Agility                       bool  \n",
      " 2    Accelerated Healing           bool  \n",
      " 3    Lantern Power Ring            bool  \n",
      " 4    Dimensional Awareness         bool  \n",
      " 5    Cold Resistance               bool  \n",
      " 6    Durability                    bool  \n",
      " 7    Stealth                       bool  \n",
      " 8    Energy Absorption             bool  \n",
      " 9    Flight                        bool  \n",
      " 10   Danger Sense                  bool  \n",
      " 11   Underwater breathing          bool  \n",
      " 12   Marksmanship                  bool  \n",
      " 13   Weapons Master                bool  \n",
      " 14   Power Augmentation            bool  \n",
      " 15   Animal Attributes             bool  \n",
      " 16   Longevity                     bool  \n",
      " 17   Intelligence                  bool  \n",
      " 18   Super Strength                bool  \n",
      " 19   Cryokinesis                   bool  \n",
      " 20   Telepathy                     bool  \n",
      " 21   Energy Armor                  bool  \n",
      " 22   Energy Blasts                 bool  \n",
      " 23   Duplication                   bool  \n",
      " 24   Size Changing                 bool  \n",
      " 25   Density Control               bool  \n",
      " 26   Stamina                       bool  \n",
      " 27   Astral Travel                 bool  \n",
      " 28   Audio Control                 bool  \n",
      " 29   Dexterity                     bool  \n",
      " 30   Omnitrix                      bool  \n",
      " 31   Super Speed                   bool  \n",
      " 32   Possession                    bool  \n",
      " 33   Animal Oriented Powers        bool  \n",
      " 34   Weapon-based Powers           bool  \n",
      " 35   Electrokinesis                bool  \n",
      " 36   Darkforce Manipulation        bool  \n",
      " 37   Death Touch                   bool  \n",
      " 38   Teleportation                 bool  \n",
      " 39   Enhanced Senses               bool  \n",
      " 40   Telekinesis                   bool  \n",
      " 41   Energy Beams                  bool  \n",
      " 42   Magic                         bool  \n",
      " 43   Hyperkinesis                  bool  \n",
      " 44   Jump                          bool  \n",
      " 45   Clairvoyance                  bool  \n",
      " 46   Dimensional Travel            bool  \n",
      " 47   Power Sense                   bool  \n",
      " 48   Shapeshifting                 bool  \n",
      " 49   Peak Human Condition          bool  \n",
      " 50   Immortality                   bool  \n",
      " 51   Camouflage                    bool  \n",
      " 52   Element Control               bool  \n",
      " 53   Phasing                       bool  \n",
      " 54   Astral Projection             bool  \n",
      " 55   Electrical Transport          bool  \n",
      " 56   Fire Control                  bool  \n",
      " 57   Projection                    bool  \n",
      " 58   Summoning                     bool  \n",
      " 59   Enhanced Memory               bool  \n",
      " 60   Reflexes                      bool  \n",
      " 61   Invulnerability               bool  \n",
      " 62   Energy Constructs             bool  \n",
      " 63   Force Fields                  bool  \n",
      " 64   Self-Sustenance               bool  \n",
      " 65   Anti-Gravity                  bool  \n",
      " 66   Empathy                       bool  \n",
      " 67   Power Nullifier               bool  \n",
      " 68   Radiation Control             bool  \n",
      " 69   Psionic Powers                bool  \n",
      " 70   Elasticity                    bool  \n",
      " 71   Substance Secretion           bool  \n",
      " 72   Elemental Transmogrification  bool  \n",
      " 73   Technopath/Cyberpath          bool  \n",
      " 74   Photographic Reflexes         bool  \n",
      " 75   Seismic Power                 bool  \n",
      " 76   Animation                     bool  \n",
      " 77   Precognition                  bool  \n",
      " 78   Mind Control                  bool  \n",
      " 79   Fire Resistance               bool  \n",
      " 80   Power Absorption              bool  \n",
      " 81   Enhanced Hearing              bool  \n",
      " 82   Nova Force                    bool  \n",
      " 83   Insanity                      bool  \n",
      " 84   Hypnokinesis                  bool  \n",
      " 85   Animal Control                bool  \n",
      " 86   Natural Armor                 bool  \n",
      " 87   Intangibility                 bool  \n",
      " 88   Enhanced Sight                bool  \n",
      " 89   Molecular Manipulation        bool  \n",
      " 90   Heat Generation               bool  \n",
      " 91   Adaptation                    bool  \n",
      " 92   Gliding                       bool  \n",
      " 93   Power Suit                    bool  \n",
      " 94   Mind Blast                    bool  \n",
      " 95   Probability Manipulation      bool  \n",
      " 96   Gravity Control               bool  \n",
      " 97   Regeneration                  bool  \n",
      " 98   Light Control                 bool  \n",
      " 99   Echolocation                  bool  \n",
      " 100  Levitation                    bool  \n",
      " 101  Toxin and Disease Control     bool  \n",
      " 102  Banish                        bool  \n",
      " 103  Energy Manipulation           bool  \n",
      " 104  Heat Resistance               bool  \n",
      " 105  Natural Weapons               bool  \n",
      " 106  Time Travel                   bool  \n",
      " 107  Enhanced Smell                bool  \n",
      " 108  Illusions                     bool  \n",
      " 109  Thirstokinesis                bool  \n",
      " 110  Hair Manipulation             bool  \n",
      " 111  Illumination                  bool  \n",
      " 112  Omnipotent                    bool  \n",
      " 113  Cloaking                      bool  \n",
      " 114  Changing Armor                bool  \n",
      " 115  Power Cosmic                  bool  \n",
      " 116  Biokinesis                    bool  \n",
      " 117  Water Control                 bool  \n",
      " 118  Radiation Immunity            bool  \n",
      " 119  Vision - Telescopic           bool  \n",
      " 120  Toxin and Disease Resistance  bool  \n",
      " 121  Spatial Awareness             bool  \n",
      " 122  Energy Resistance             bool  \n",
      " 123  Telepathy Resistance          bool  \n",
      " 124  Molecular Combustion          bool  \n",
      " 125  Omnilingualism                bool  \n",
      " 126  Portal Creation               bool  \n",
      " 127  Magnetism                     bool  \n",
      " 128  Mind Control Resistance       bool  \n",
      " 129  Plant Control                 bool  \n",
      " 130  Sonar                         bool  \n",
      " 131  Sonic Scream                  bool  \n",
      " 132  Time Manipulation             bool  \n",
      " 133  Enhanced Touch                bool  \n",
      " 134  Magic Resistance              bool  \n",
      " 135  Invisibility                  bool  \n",
      " 136  Sub-Mariner                   bool  \n",
      " 137  Radiation Absorption          bool  \n",
      " 138  Intuitive aptitude            bool  \n",
      " 139  Vision - Microscopic          bool  \n",
      " 140  Melting                       bool  \n",
      " 141  Wind Control                  bool  \n",
      " 142  Super Breath                  bool  \n",
      " 143  Wallcrawling                  bool  \n",
      " 144  Vision - Night                bool  \n",
      " 145  Vision - Infrared             bool  \n",
      " 146  Grim Reaping                  bool  \n",
      " 147  Matter Absorption             bool  \n",
      " 148  The Force                     bool  \n",
      " 149  Resurrection                  bool  \n",
      " 150  Terrakinesis                  bool  \n",
      " 151  Vision - Heat                 bool  \n",
      " 152  Vitakinesis                   bool  \n",
      " 153  Radar Sense                   bool  \n",
      " 154  Qwardian Power Ring           bool  \n",
      " 155  Weather Control               bool  \n",
      " 156  Vision - X-Ray                bool  \n",
      " 157  Vision - Thermal              bool  \n",
      " 158  Web Creation                  bool  \n",
      " 159  Reality Warping               bool  \n",
      " 160  Odin Force                    bool  \n",
      " 161  Symbiote Costume              bool  \n",
      " 162  Speed Force                   bool  \n",
      " 163  Phoenix Force                 bool  \n",
      " 164  Molecular Dissipation         bool  \n",
      " 165  Vision - Cryo                 bool  \n",
      " 166  Omnipresent                   bool  \n",
      " 167  Omniscient                    bool  \n",
      "dtypes: bool(167), string(1)\n",
      "memory usage: 114.1 KB\n"
     ]
    }
   ],
   "source": [
    "hero_power.info(verbose=True)"
   ]
  },
  {
   "cell_type": "markdown",
   "id": "ec794c62",
   "metadata": {},
   "source": [
    "## Specify the Dtype when load data"
   ]
  },
  {
   "cell_type": "code",
   "execution_count": 28,
   "id": "c5f92526",
   "metadata": {},
   "outputs": [],
   "source": [
    "hero_power = pd.read_csv('superhero_powers.csv',dtype={'hero_names':'string'})"
   ]
  },
  {
   "cell_type": "code",
   "execution_count": 29,
   "id": "a08ec276",
   "metadata": {},
   "outputs": [
    {
     "data": {
      "text/plain": [
       "0              3-D Man\n",
       "1               A-Bomb\n",
       "2           Abe Sapien\n",
       "3             Abin Sur\n",
       "4          Abomination\n",
       "            ...       \n",
       "662    Yellowjacket II\n",
       "663               Ymir\n",
       "664               Yoda\n",
       "665            Zatanna\n",
       "666               Zoom\n",
       "Name: hero_names, Length: 667, dtype: string"
      ]
     },
     "execution_count": 29,
     "metadata": {},
     "output_type": "execute_result"
    }
   ],
   "source": [
    "hero_power['hero_names']"
   ]
  },
  {
   "cell_type": "code",
   "execution_count": 30,
   "id": "2dc6c165",
   "metadata": {},
   "outputs": [
    {
     "data": {
      "text/plain": [
       "name           object\n",
       "Gender         object\n",
       "Eye color      object\n",
       "Race           object\n",
       "Hair color     object\n",
       "Height          int64\n",
       "Publisher      object\n",
       "Alignment      object\n",
       "Weight        float64\n",
       "dtype: object"
      ]
     },
     "execution_count": 30,
     "metadata": {},
     "output_type": "execute_result"
    }
   ],
   "source": [
    "dc_hero.dtypes"
   ]
  },
  {
   "cell_type": "code",
   "execution_count": 31,
   "id": "90e58d29",
   "metadata": {},
   "outputs": [],
   "source": [
    "hero_dtype = {'name':'string',\n",
    "              'Gender': 'category',\n",
    "              'Eye Color': 'string',\n",
    "              'Race': 'string',\n",
    "              'Hair Color': 'string',\n",
    "              'Publisher': 'string',\n",
    "              'Alignment': 'category'\n",
    "              }"
   ]
  },
  {
   "cell_type": "code",
   "execution_count": 32,
   "id": "67af060f",
   "metadata": {},
   "outputs": [],
   "source": [
    "marvel_hero = pd.read_excel('superhero_info.xlsx',sheet_name='Marvel Comics',dtype=hero_dtype)\n",
    "dc_hero = pd.read_excel('superhero_info.xlsx',sheet_name='DC Comics',dtype=hero_dtype)\n"
   ]
  },
  {
   "cell_type": "code",
   "execution_count": 33,
   "id": "5bcd40d9",
   "metadata": {
    "scrolled": true
   },
   "outputs": [
    {
     "data": {
      "text/plain": [
       "name            string\n",
       "Gender        category\n",
       "Eye color       object\n",
       "Race            string\n",
       "Hair color      object\n",
       "Height           int64\n",
       "Publisher       string\n",
       "Alignment     category\n",
       "Weight         float64\n",
       "dtype: object"
      ]
     },
     "execution_count": 33,
     "metadata": {},
     "output_type": "execute_result"
    }
   ],
   "source": [
    "dc_hero.dtypes"
   ]
  },
  {
   "cell_type": "code",
   "execution_count": 34,
   "id": "13c2a31d",
   "metadata": {},
   "outputs": [
    {
     "data": {
      "text/plain": [
       "name            string\n",
       "Gender        category\n",
       "Eye color       object\n",
       "Race            string\n",
       "Hair color      object\n",
       "Height           int64\n",
       "Publisher       string\n",
       "Alignment     category\n",
       "Weight           int64\n",
       "dtype: object"
      ]
     },
     "execution_count": 34,
     "metadata": {},
     "output_type": "execute_result"
    }
   ],
   "source": [
    "marvel_hero.dtypes"
   ]
  },
  {
   "cell_type": "code",
   "execution_count": 36,
   "id": "b157ff26",
   "metadata": {},
   "outputs": [],
   "source": [
    "hero_power.to_pickle('Hero Power.pkl')"
   ]
  },
  {
   "cell_type": "code",
   "execution_count": null,
   "id": "c030ae1c",
   "metadata": {},
   "outputs": [],
   "source": []
  }
 ],
 "metadata": {
  "kernelspec": {
   "display_name": "Python 3 (ipykernel)",
   "language": "python",
   "name": "python3"
  },
  "language_info": {
   "codemirror_mode": {
    "name": "ipython",
    "version": 3
   },
   "file_extension": ".py",
   "mimetype": "text/x-python",
   "name": "python",
   "nbconvert_exporter": "python",
   "pygments_lexer": "ipython3",
   "version": "3.9.7"
  }
 },
 "nbformat": 4,
 "nbformat_minor": 5
}
