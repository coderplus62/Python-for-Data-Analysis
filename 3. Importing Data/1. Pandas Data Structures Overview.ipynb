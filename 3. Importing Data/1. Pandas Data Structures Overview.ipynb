{
 "cells": [
  {
   "cell_type": "markdown",
   "id": "d8f3eee4",
   "metadata": {},
   "source": [
    "# Series"
   ]
  },
  {
   "cell_type": "markdown",
   "id": "a2d2872a",
   "metadata": {},
   "source": [
    "<img src=\"series.jpg\" style=\"width:300px;height:200px\"/>"
   ]
  },
  {
   "cell_type": "markdown",
   "id": "3a276e39",
   "metadata": {},
   "source": [
    "<img src=\"series_vs_list.jpg\" style=\"width:300px;height:200px\"/>"
   ]
  },
  {
   "cell_type": "markdown",
   "id": "c605f55b",
   "metadata": {},
   "source": [
    "# DataFrame"
   ]
  },
  {
   "cell_type": "markdown",
   "id": "a1cbdc01",
   "metadata": {},
   "source": [
    "<img src=\"dataframe.jpg\" style=\"width:300px;height:200px\"/>"
   ]
  },
  {
   "cell_type": "code",
   "execution_count": 2,
   "id": "9340dd39",
   "metadata": {},
   "outputs": [],
   "source": [
    "import pandas as pd"
   ]
  },
  {
   "cell_type": "code",
   "execution_count": 3,
   "id": "6f7cab20",
   "metadata": {},
   "outputs": [],
   "source": [
    "series = pd.Series([1,2,3,4,5,6,7])"
   ]
  },
  {
   "cell_type": "code",
   "execution_count": 5,
   "id": "47334afc",
   "metadata": {},
   "outputs": [
    {
     "data": {
      "text/plain": [
       "0    1\n",
       "1    2\n",
       "2    3\n",
       "3    4\n",
       "4    5\n",
       "5    6\n",
       "6    7\n",
       "dtype: int64"
      ]
     },
     "execution_count": 5,
     "metadata": {},
     "output_type": "execute_result"
    }
   ],
   "source": [
    "series"
   ]
  },
  {
   "cell_type": "code",
   "execution_count": 6,
   "id": "8b1a30b4",
   "metadata": {},
   "outputs": [],
   "source": [
    "index_day = ['Monday','Tuesday','Wednesday','Thursday','Friday','Saturday','Sunday']\n",
    "data = [1,2,3,4,5,6,7]"
   ]
  },
  {
   "cell_type": "code",
   "execution_count": 7,
   "id": "0c9f03f5",
   "metadata": {},
   "outputs": [
    {
     "data": {
      "text/plain": [
       "Monday       1\n",
       "Tuesday      2\n",
       "Wednesday    3\n",
       "Thursday     4\n",
       "Friday       5\n",
       "Saturday     6\n",
       "Sunday       7\n",
       "dtype: int64"
      ]
     },
     "execution_count": 7,
     "metadata": {},
     "output_type": "execute_result"
    }
   ],
   "source": [
    "series_day = pd.Series(data,index=index_day)\n",
    "series_day"
   ]
  },
  {
   "cell_type": "code",
   "execution_count": 9,
   "id": "e2a84321",
   "metadata": {},
   "outputs": [
    {
     "data": {
      "text/plain": [
       "1"
      ]
     },
     "execution_count": 9,
     "metadata": {},
     "output_type": "execute_result"
    }
   ],
   "source": [
    "series_day[0]"
   ]
  },
  {
   "cell_type": "code",
   "execution_count": 10,
   "id": "8a39b7cd",
   "metadata": {},
   "outputs": [
    {
     "data": {
      "text/plain": [
       "7"
      ]
     },
     "execution_count": 10,
     "metadata": {},
     "output_type": "execute_result"
    }
   ],
   "source": [
    "series_day[6]"
   ]
  },
  {
   "cell_type": "code",
   "execution_count": 11,
   "id": "e65bb5cb",
   "metadata": {},
   "outputs": [
    {
     "data": {
      "text/plain": [
       "7"
      ]
     },
     "execution_count": 11,
     "metadata": {},
     "output_type": "execute_result"
    }
   ],
   "source": [
    "series_day['Sunday']"
   ]
  },
  {
   "cell_type": "code",
   "execution_count": 14,
   "id": "71583f0a",
   "metadata": {},
   "outputs": [
    {
     "data": {
      "text/plain": [
       "Monday       1\n",
       "Tuesday      2\n",
       "Wednesday    3\n",
       "Thursday     4\n",
       "Friday       5\n",
       "Saturday     6\n",
       "Sunday       8\n",
       "dtype: int64"
      ]
     },
     "execution_count": 14,
     "metadata": {},
     "output_type": "execute_result"
    }
   ],
   "source": [
    "series_day['Sunday']=8\n",
    "series_day"
   ]
  },
  {
   "cell_type": "code",
   "execution_count": 15,
   "id": "a5f5a7f0",
   "metadata": {},
   "outputs": [
    {
     "data": {
      "text/plain": [
       "4.142857142857143"
      ]
     },
     "execution_count": 15,
     "metadata": {},
     "output_type": "execute_result"
    }
   ],
   "source": [
    "series_day.mean()"
   ]
  },
  {
   "cell_type": "code",
   "execution_count": 16,
   "id": "c26e9a17",
   "metadata": {},
   "outputs": [
    {
     "data": {
      "text/plain": [
       "Monday        3\n",
       "Tuesday       6\n",
       "Wednesday     9\n",
       "Thursday     12\n",
       "Friday       15\n",
       "Saturday     18\n",
       "Sunday       24\n",
       "dtype: int64"
      ]
     },
     "execution_count": 16,
     "metadata": {},
     "output_type": "execute_result"
    }
   ],
   "source": [
    "series_day*3"
   ]
  },
  {
   "cell_type": "code",
   "execution_count": 26,
   "id": "73b07f3c",
   "metadata": {},
   "outputs": [
    {
     "data": {
      "text/plain": [
       "Monday       1\n",
       "Tuesday      2\n",
       "Wednesday    3\n",
       "Thursday     4\n",
       "Friday       5\n",
       "Saturday     6\n",
       "Sunday       7\n",
       "dtype: int64"
      ]
     },
     "execution_count": 26,
     "metadata": {},
     "output_type": "execute_result"
    }
   ],
   "source": [
    "s = pd.Series(data,index=index_day)\n",
    "s"
   ]
  },
  {
   "cell_type": "code",
   "execution_count": 27,
   "id": "7bd2e1f1",
   "metadata": {},
   "outputs": [
    {
     "data": {
      "text/html": [
       "<div>\n",
       "<style scoped>\n",
       "    .dataframe tbody tr th:only-of-type {\n",
       "        vertical-align: middle;\n",
       "    }\n",
       "\n",
       "    .dataframe tbody tr th {\n",
       "        vertical-align: top;\n",
       "    }\n",
       "\n",
       "    .dataframe thead th {\n",
       "        text-align: right;\n",
       "    }\n",
       "</style>\n",
       "<table border=\"1\" class=\"dataframe\">\n",
       "  <thead>\n",
       "    <tr style=\"text-align: right;\">\n",
       "      <th></th>\n",
       "      <th>first</th>\n",
       "      <th>second</th>\n",
       "    </tr>\n",
       "  </thead>\n",
       "  <tbody>\n",
       "    <tr>\n",
       "      <th>Monday</th>\n",
       "      <td>1</td>\n",
       "      <td>2</td>\n",
       "    </tr>\n",
       "    <tr>\n",
       "      <th>Tuesday</th>\n",
       "      <td>2</td>\n",
       "      <td>4</td>\n",
       "    </tr>\n",
       "    <tr>\n",
       "      <th>Wednesday</th>\n",
       "      <td>3</td>\n",
       "      <td>6</td>\n",
       "    </tr>\n",
       "    <tr>\n",
       "      <th>Thursday</th>\n",
       "      <td>4</td>\n",
       "      <td>8</td>\n",
       "    </tr>\n",
       "    <tr>\n",
       "      <th>Friday</th>\n",
       "      <td>5</td>\n",
       "      <td>10</td>\n",
       "    </tr>\n",
       "    <tr>\n",
       "      <th>Saturday</th>\n",
       "      <td>6</td>\n",
       "      <td>12</td>\n",
       "    </tr>\n",
       "    <tr>\n",
       "      <th>Sunday</th>\n",
       "      <td>7</td>\n",
       "      <td>14</td>\n",
       "    </tr>\n",
       "  </tbody>\n",
       "</table>\n",
       "</div>"
      ],
      "text/plain": [
       "           first  second\n",
       "Monday         1       2\n",
       "Tuesday        2       4\n",
       "Wednesday      3       6\n",
       "Thursday       4       8\n",
       "Friday         5      10\n",
       "Saturday       6      12\n",
       "Sunday         7      14"
      ]
     },
     "execution_count": 27,
     "metadata": {},
     "output_type": "execute_result"
    }
   ],
   "source": [
    "df = pd.DataFrame({'first':s,'second':s*2})\n",
    "df"
   ]
  },
  {
   "cell_type": "markdown",
   "id": "746199e3",
   "metadata": {},
   "source": [
    "# Make a DataFrame"
   ]
  },
  {
   "cell_type": "code",
   "execution_count": 28,
   "id": "2923e54c",
   "metadata": {},
   "outputs": [],
   "source": [
    "column_names = ['City','Population']\n",
    "index_country = ['Japan','India','China','Brazil','Mexico']"
   ]
  },
  {
   "cell_type": "code",
   "execution_count": 29,
   "id": "fc782201",
   "metadata": {},
   "outputs": [],
   "source": [
    "row1 = ['Tokyo',37.4]\n",
    "row2 = ['New Delhi',28.5]\n",
    "row3 = ['Shanghai',25.6]\n",
    "row4 = ['Sao Paulo',21.7]\n",
    "row5 = ['Mexico City',21.6]"
   ]
  },
  {
   "cell_type": "code",
   "execution_count": 31,
   "id": "3b2eadf4",
   "metadata": {},
   "outputs": [
    {
     "data": {
      "text/plain": [
       "[['Tokyo', 37.4],\n",
       " ['New Delhi', 28.5],\n",
       " ['Shanghai', 25.6],\n",
       " ['Sao Paulo', 21.7],\n",
       " ['Mexico City', 21.6]]"
      ]
     },
     "execution_count": 31,
     "metadata": {},
     "output_type": "execute_result"
    }
   ],
   "source": [
    "data = [row1,row2,row3,row4,row5]\n",
    "data"
   ]
  },
  {
   "cell_type": "code",
   "execution_count": 32,
   "id": "d7e5bc1f",
   "metadata": {},
   "outputs": [
    {
     "data": {
      "text/html": [
       "<div>\n",
       "<style scoped>\n",
       "    .dataframe tbody tr th:only-of-type {\n",
       "        vertical-align: middle;\n",
       "    }\n",
       "\n",
       "    .dataframe tbody tr th {\n",
       "        vertical-align: top;\n",
       "    }\n",
       "\n",
       "    .dataframe thead th {\n",
       "        text-align: right;\n",
       "    }\n",
       "</style>\n",
       "<table border=\"1\" class=\"dataframe\">\n",
       "  <thead>\n",
       "    <tr style=\"text-align: right;\">\n",
       "      <th></th>\n",
       "      <th>City</th>\n",
       "      <th>Population</th>\n",
       "    </tr>\n",
       "  </thead>\n",
       "  <tbody>\n",
       "    <tr>\n",
       "      <th>Japan</th>\n",
       "      <td>Tokyo</td>\n",
       "      <td>37.4</td>\n",
       "    </tr>\n",
       "    <tr>\n",
       "      <th>India</th>\n",
       "      <td>New Delhi</td>\n",
       "      <td>28.5</td>\n",
       "    </tr>\n",
       "    <tr>\n",
       "      <th>China</th>\n",
       "      <td>Shanghai</td>\n",
       "      <td>25.6</td>\n",
       "    </tr>\n",
       "    <tr>\n",
       "      <th>Brazil</th>\n",
       "      <td>Sao Paulo</td>\n",
       "      <td>21.7</td>\n",
       "    </tr>\n",
       "    <tr>\n",
       "      <th>Mexico</th>\n",
       "      <td>Mexico City</td>\n",
       "      <td>21.6</td>\n",
       "    </tr>\n",
       "  </tbody>\n",
       "</table>\n",
       "</div>"
      ],
      "text/plain": [
       "               City  Population\n",
       "Japan         Tokyo        37.4\n",
       "India     New Delhi        28.5\n",
       "China      Shanghai        25.6\n",
       "Brazil    Sao Paulo        21.7\n",
       "Mexico  Mexico City        21.6"
      ]
     },
     "execution_count": 32,
     "metadata": {},
     "output_type": "execute_result"
    }
   ],
   "source": [
    "df1 = pd.DataFrame(data,index=index_country,columns=column_names)\n",
    "df1"
   ]
  },
  {
   "cell_type": "code",
   "execution_count": 33,
   "id": "95c4e38f",
   "metadata": {},
   "outputs": [],
   "source": [
    "cities = ['Tokyo','New Delhi','Shanghai','Sao Paulo','Mexico City']\n",
    "population = [37.4,28.5,25.6,21.7,21.6]"
   ]
  },
  {
   "cell_type": "code",
   "execution_count": 34,
   "id": "f503d515",
   "metadata": {},
   "outputs": [
    {
     "data": {
      "text/plain": [
       "{'City': ['Tokyo', 'New Delhi', 'Shanghai', 'Sao Paulo', 'Mexico City'],\n",
       " 'Population': [37.4, 28.5, 25.6, 21.7, 21.6]}"
      ]
     },
     "execution_count": 34,
     "metadata": {},
     "output_type": "execute_result"
    }
   ],
   "source": [
    "data_dict = {'City':cities,'Population':population}\n",
    "data_dict"
   ]
  },
  {
   "cell_type": "code",
   "execution_count": 35,
   "id": "d44a7381",
   "metadata": {},
   "outputs": [
    {
     "data": {
      "text/html": [
       "<div>\n",
       "<style scoped>\n",
       "    .dataframe tbody tr th:only-of-type {\n",
       "        vertical-align: middle;\n",
       "    }\n",
       "\n",
       "    .dataframe tbody tr th {\n",
       "        vertical-align: top;\n",
       "    }\n",
       "\n",
       "    .dataframe thead th {\n",
       "        text-align: right;\n",
       "    }\n",
       "</style>\n",
       "<table border=\"1\" class=\"dataframe\">\n",
       "  <thead>\n",
       "    <tr style=\"text-align: right;\">\n",
       "      <th></th>\n",
       "      <th>City</th>\n",
       "      <th>Population</th>\n",
       "    </tr>\n",
       "  </thead>\n",
       "  <tbody>\n",
       "    <tr>\n",
       "      <th>Japan</th>\n",
       "      <td>Tokyo</td>\n",
       "      <td>37.4</td>\n",
       "    </tr>\n",
       "    <tr>\n",
       "      <th>India</th>\n",
       "      <td>New Delhi</td>\n",
       "      <td>28.5</td>\n",
       "    </tr>\n",
       "    <tr>\n",
       "      <th>China</th>\n",
       "      <td>Shanghai</td>\n",
       "      <td>25.6</td>\n",
       "    </tr>\n",
       "    <tr>\n",
       "      <th>Brazil</th>\n",
       "      <td>Sao Paulo</td>\n",
       "      <td>21.7</td>\n",
       "    </tr>\n",
       "    <tr>\n",
       "      <th>Mexico</th>\n",
       "      <td>Mexico City</td>\n",
       "      <td>21.6</td>\n",
       "    </tr>\n",
       "  </tbody>\n",
       "</table>\n",
       "</div>"
      ],
      "text/plain": [
       "               City  Population\n",
       "Japan         Tokyo        37.4\n",
       "India     New Delhi        28.5\n",
       "China      Shanghai        25.6\n",
       "Brazil    Sao Paulo        21.7\n",
       "Mexico  Mexico City        21.6"
      ]
     },
     "execution_count": 35,
     "metadata": {},
     "output_type": "execute_result"
    }
   ],
   "source": [
    "df2 = pd.DataFrame(data_dict,index=index_country)\n",
    "df2"
   ]
  },
  {
   "cell_type": "code",
   "execution_count": 36,
   "id": "9ba2eb47",
   "metadata": {},
   "outputs": [
    {
     "data": {
      "text/plain": [
       "Japan           Tokyo\n",
       "India       New Delhi\n",
       "China        Shanghai\n",
       "Brazil      Sao Paulo\n",
       "Mexico    Mexico City\n",
       "Name: City, dtype: object"
      ]
     },
     "execution_count": 36,
     "metadata": {},
     "output_type": "execute_result"
    }
   ],
   "source": [
    "df2['City']"
   ]
  },
  {
   "cell_type": "code",
   "execution_count": 37,
   "id": "1e5e8d59",
   "metadata": {},
   "outputs": [
    {
     "data": {
      "text/plain": [
       "Japan     37.4\n",
       "India     28.5\n",
       "China     25.6\n",
       "Brazil    21.7\n",
       "Mexico    21.6\n",
       "Name: Population, dtype: float64"
      ]
     },
     "execution_count": 37,
     "metadata": {},
     "output_type": "execute_result"
    }
   ],
   "source": [
    "df2['Population']"
   ]
  },
  {
   "cell_type": "code",
   "execution_count": 40,
   "id": "a550932c",
   "metadata": {},
   "outputs": [
    {
     "data": {
      "text/html": [
       "<div>\n",
       "<style scoped>\n",
       "    .dataframe tbody tr th:only-of-type {\n",
       "        vertical-align: middle;\n",
       "    }\n",
       "\n",
       "    .dataframe tbody tr th {\n",
       "        vertical-align: top;\n",
       "    }\n",
       "\n",
       "    .dataframe thead th {\n",
       "        text-align: right;\n",
       "    }\n",
       "</style>\n",
       "<table border=\"1\" class=\"dataframe\">\n",
       "  <thead>\n",
       "    <tr style=\"text-align: right;\">\n",
       "      <th></th>\n",
       "      <th>Population</th>\n",
       "    </tr>\n",
       "  </thead>\n",
       "  <tbody>\n",
       "    <tr>\n",
       "      <th>count</th>\n",
       "      <td>5.000000</td>\n",
       "    </tr>\n",
       "    <tr>\n",
       "      <th>mean</th>\n",
       "      <td>26.960000</td>\n",
       "    </tr>\n",
       "    <tr>\n",
       "      <th>std</th>\n",
       "      <td>6.511759</td>\n",
       "    </tr>\n",
       "    <tr>\n",
       "      <th>min</th>\n",
       "      <td>21.600000</td>\n",
       "    </tr>\n",
       "    <tr>\n",
       "      <th>25%</th>\n",
       "      <td>21.700000</td>\n",
       "    </tr>\n",
       "    <tr>\n",
       "      <th>50%</th>\n",
       "      <td>25.600000</td>\n",
       "    </tr>\n",
       "    <tr>\n",
       "      <th>75%</th>\n",
       "      <td>28.500000</td>\n",
       "    </tr>\n",
       "    <tr>\n",
       "      <th>max</th>\n",
       "      <td>37.400000</td>\n",
       "    </tr>\n",
       "  </tbody>\n",
       "</table>\n",
       "</div>"
      ],
      "text/plain": [
       "       Population\n",
       "count    5.000000\n",
       "mean    26.960000\n",
       "std      6.511759\n",
       "min     21.600000\n",
       "25%     21.700000\n",
       "50%     25.600000\n",
       "75%     28.500000\n",
       "max     37.400000"
      ]
     },
     "execution_count": 40,
     "metadata": {},
     "output_type": "execute_result"
    }
   ],
   "source": [
    "df2.describe()"
   ]
  },
  {
   "cell_type": "code",
   "execution_count": null,
   "id": "e5cf35f7",
   "metadata": {},
   "outputs": [],
   "source": []
  }
 ],
 "metadata": {
  "kernelspec": {
   "display_name": "Python 3 (ipykernel)",
   "language": "python",
   "name": "python3"
  },
  "language_info": {
   "codemirror_mode": {
    "name": "ipython",
    "version": 3
   },
   "file_extension": ".py",
   "mimetype": "text/x-python",
   "name": "python",
   "nbconvert_exporter": "python",
   "pygments_lexer": "ipython3",
   "version": "3.9.7"
  }
 },
 "nbformat": 4,
 "nbformat_minor": 5
}
